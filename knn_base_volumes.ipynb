{
 "cells": [
  {
   "cell_type": "markdown",
   "metadata": {},
   "source": [
    "*OBJETIVO: REGRESSÃO LINEAR PARA ESTIMAR VOLUMES DE TRONCOS DE ÁRVORES*"
   ]
  },
  {
   "cell_type": "code",
   "execution_count": 5,
   "metadata": {
    "vscode": {
     "languageId": "r"
    }
   },
   "outputs": [],
   "source": [
    "## instalação de pacotes\n",
    "#install.packages(\"Metrics\")\n",
    "library(caret)\n",
    "library(Metrics)"
   ]
  },
  {
   "cell_type": "code",
   "execution_count": 1,
   "metadata": {
    "vscode": {
     "languageId": "r"
    }
   },
   "outputs": [
    {
     "data": {
      "text/html": [
       "<table class=\"dataframe\">\n",
       "<caption>A data.frame: 6 × 6</caption>\n",
       "<thead>\n",
       "\t<tr><th></th><th scope=col>PROJETO</th><th scope=col>CLONE</th><th scope=col>Idade</th><th scope=col>Hdom</th><th scope=col>AreaBasal</th><th scope=col>Volume</th></tr>\n",
       "\t<tr><th></th><th scope=col>&lt;chr&gt;</th><th scope=col>&lt;chr&gt;</th><th scope=col>&lt;dbl&gt;</th><th scope=col>&lt;dbl&gt;</th><th scope=col>&lt;dbl&gt;</th><th scope=col>&lt;dbl&gt;</th></tr>\n",
       "</thead>\n",
       "<tbody>\n",
       "\t<tr><th scope=row>1</th><td>Fazenda Velha</td><td>C3</td><td>21.5</td><td> 8.8</td><td>3.2</td><td>12.1</td></tr>\n",
       "\t<tr><th scope=row>2</th><td>Fazenda Velha</td><td>A3</td><td>21.9</td><td>10.2</td><td>3.9</td><td>66.8</td></tr>\n",
       "\t<tr><th scope=row>3</th><td>Fazenda Velha</td><td>A3</td><td>26.1</td><td>10.1</td><td>4.2</td><td>72.1</td></tr>\n",
       "\t<tr><th scope=row>4</th><td>Fazenda Velha</td><td>A4</td><td>22.0</td><td>10.0</td><td>4.2</td><td>35.9</td></tr>\n",
       "\t<tr><th scope=row>5</th><td>Parada       </td><td>B7</td><td>23.4</td><td>15.3</td><td>4.3</td><td>44.5</td></tr>\n",
       "\t<tr><th scope=row>6</th><td>Fazenda Velha</td><td>A2</td><td>25.9</td><td>10.5</td><td>4.4</td><td>63.9</td></tr>\n",
       "</tbody>\n",
       "</table>\n"
      ],
      "text/latex": [
       "A data.frame: 6 × 6\n",
       "\\begin{tabular}{r|llllll}\n",
       "  & PROJETO & CLONE & Idade & Hdom & AreaBasal & Volume\\\\\n",
       "  & <chr> & <chr> & <dbl> & <dbl> & <dbl> & <dbl>\\\\\n",
       "\\hline\n",
       "\t1 & Fazenda Velha & C3 & 21.5 &  8.8 & 3.2 & 12.1\\\\\n",
       "\t2 & Fazenda Velha & A3 & 21.9 & 10.2 & 3.9 & 66.8\\\\\n",
       "\t3 & Fazenda Velha & A3 & 26.1 & 10.1 & 4.2 & 72.1\\\\\n",
       "\t4 & Fazenda Velha & A4 & 22.0 & 10.0 & 4.2 & 35.9\\\\\n",
       "\t5 & Parada        & B7 & 23.4 & 15.3 & 4.3 & 44.5\\\\\n",
       "\t6 & Fazenda Velha & A2 & 25.9 & 10.5 & 4.4 & 63.9\\\\\n",
       "\\end{tabular}\n"
      ],
      "text/markdown": [
       "\n",
       "A data.frame: 6 × 6\n",
       "\n",
       "| <!--/--> | PROJETO &lt;chr&gt; | CLONE &lt;chr&gt; | Idade &lt;dbl&gt; | Hdom &lt;dbl&gt; | AreaBasal &lt;dbl&gt; | Volume &lt;dbl&gt; |\n",
       "|---|---|---|---|---|---|---|\n",
       "| 1 | Fazenda Velha | C3 | 21.5 |  8.8 | 3.2 | 12.1 |\n",
       "| 2 | Fazenda Velha | A3 | 21.9 | 10.2 | 3.9 | 66.8 |\n",
       "| 3 | Fazenda Velha | A3 | 26.1 | 10.1 | 4.2 | 72.1 |\n",
       "| 4 | Fazenda Velha | A4 | 22.0 | 10.0 | 4.2 | 35.9 |\n",
       "| 5 | Parada        | B7 | 23.4 | 15.3 | 4.3 | 44.5 |\n",
       "| 6 | Fazenda Velha | A2 | 25.9 | 10.5 | 4.4 | 63.9 |\n",
       "\n"
      ],
      "text/plain": [
       "  PROJETO       CLONE Idade Hdom AreaBasal Volume\n",
       "1 Fazenda Velha C3    21.5   8.8 3.2       12.1  \n",
       "2 Fazenda Velha A3    21.9  10.2 3.9       66.8  \n",
       "3 Fazenda Velha A3    26.1  10.1 4.2       72.1  \n",
       "4 Fazenda Velha A4    22.0  10.0 4.2       35.9  \n",
       "5 Parada        B7    23.4  15.3 4.3       44.5  \n",
       "6 Fazenda Velha A2    25.9  10.5 4.4       63.9  "
      ]
     },
     "metadata": {},
     "output_type": "display_data"
    }
   ],
   "source": [
    "## leitura de dados\n",
    "\n",
    "dados <- read.csv(\"databases/2 - Volume - Dados.csv\")\n",
    "\n",
    "head(dados)"
   ]
  },
  {
   "cell_type": "code",
   "execution_count": 3,
   "metadata": {
    "vscode": {
     "languageId": "r"
    }
   },
   "outputs": [],
   "source": [
    "## cria treino e teste\n",
    "\n",
    "set.seed(123)\n",
    "\n",
    "ind <- createDataPartition(dados$Volume, p=0.80, list = FALSE)\n",
    "\n",
    "treino <- dados[ind,]\n",
    "teste <- dados[-ind,]"
   ]
  },
  {
   "cell_type": "code",
   "execution_count": 4,
   "metadata": {
    "vscode": {
     "languageId": "r"
    }
   },
   "outputs": [
    {
     "data": {
      "text/plain": [
       "k-Nearest Neighbors \n",
       "\n",
       "246 samples\n",
       "  5 predictor\n",
       "\n",
       "No pre-processing\n",
       "Resampling: Bootstrapped (25 reps) \n",
       "Summary of sample sizes: 246, 246, 246, 246, 246, 246, ... \n",
       "Resampling results across tuning parameters:\n",
       "\n",
       "  k  RMSE      Rsquared   MAE     \n",
       "  1  130.5626  0.6098031  92.84332\n",
       "  3  116.8598  0.6680220  86.29478\n",
       "  5  111.6516  0.6906351  84.38364\n",
       "  7  110.3098  0.6954534  83.93819\n",
       "  9  109.0949  0.7003358  83.46768\n",
       "\n",
       "RMSE was used to select the optimal model using the smallest value.\n",
       "The final value used for the model was k = 9."
      ]
     },
     "metadata": {},
     "output_type": "display_data"
    }
   ],
   "source": [
    "## Prepara um grid com os valores de k que serao usados\n",
    "tuneGrid <- expand.grid(k= c(1,3,5,7,9))\n",
    "\n",
    "## executa o knn com o grid definido\n",
    "\n",
    "set.seed(123)\n",
    "knn <- train(Volume~., data=treino, method=\"knn\", tuneGrid=tuneGrid)\n",
    "knn"
   ]
  },
  {
   "cell_type": "code",
   "execution_count": 6,
   "metadata": {
    "vscode": {
     "languageId": "r"
    }
   },
   "outputs": [
    {
     "data": {
      "text/html": [
       "99.8559007273067"
      ],
      "text/latex": [
       "99.8559007273067"
      ],
      "text/markdown": [
       "99.8559007273067"
      ],
      "text/plain": [
       "[1] 99.8559"
      ]
     },
     "metadata": {},
     "output_type": "display_data"
    },
    {
     "data": {
      "text/html": [
       "0.74218193091189"
      ],
      "text/latex": [
       "0.74218193091189"
      ],
      "text/markdown": [
       "0.74218193091189"
      ],
      "text/plain": [
       "[1] 0.7421819"
      ]
     },
     "metadata": {},
     "output_type": "display_data"
    }
   ],
   "source": [
    "## aplica o modelo no arquivo de teste\n",
    "predict_knn <- predict(knn, teste)\n",
    "\n",
    "## mostra as metricas \n",
    "\n",
    "\n",
    "rmse(teste$Volume, predict_knn)\n",
    "\n",
    "r2 <- function(predito,observado){\n",
    "  return(1-(sum((predito-observado)^2)/sum((observado-mean(observado))^2)))}\n",
    "\n",
    "r2(predict_knn,teste$Volume)"
   ]
  },
  {
   "cell_type": "code",
   "execution_count": 7,
   "metadata": {
    "vscode": {
     "languageId": "r"
    }
   },
   "outputs": [
    {
     "data": {
      "text/html": [
       "<table class=\"dataframe\">\n",
       "<caption>A data.frame: 3 × 6</caption>\n",
       "<thead>\n",
       "\t<tr><th scope=col>PROJETO</th><th scope=col>CLONE</th><th scope=col>Idade</th><th scope=col>Hdom</th><th scope=col>AreaBasal</th><th scope=col>predict_knn</th></tr>\n",
       "\t<tr><th scope=col>&lt;chr&gt;</th><th scope=col>&lt;chr&gt;</th><th scope=col>&lt;dbl&gt;</th><th scope=col>&lt;dbl&gt;</th><th scope=col>&lt;dbl&gt;</th><th scope=col>&lt;dbl&gt;</th></tr>\n",
       "</thead>\n",
       "<tbody>\n",
       "\t<tr><td>Parada     </td><td>C3</td><td>21.5</td><td> 8.8</td><td> 4.2</td><td> 66.92222</td></tr>\n",
       "\t<tr><td>Santa Maria</td><td>A3</td><td>22.9</td><td>14.1</td><td> 5.6</td><td>106.88889</td></tr>\n",
       "\t<tr><td>Jacutinga  </td><td>A2</td><td>59.4</td><td>22.3</td><td>13.0</td><td>344.90000</td></tr>\n",
       "</tbody>\n",
       "</table>\n"
      ],
      "text/latex": [
       "A data.frame: 3 × 6\n",
       "\\begin{tabular}{llllll}\n",
       " PROJETO & CLONE & Idade & Hdom & AreaBasal & predict\\_knn\\\\\n",
       " <chr> & <chr> & <dbl> & <dbl> & <dbl> & <dbl>\\\\\n",
       "\\hline\n",
       "\t Parada      & C3 & 21.5 &  8.8 &  4.2 &  66.92222\\\\\n",
       "\t Santa Maria & A3 & 22.9 & 14.1 &  5.6 & 106.88889\\\\\n",
       "\t Jacutinga   & A2 & 59.4 & 22.3 & 13.0 & 344.90000\\\\\n",
       "\\end{tabular}\n"
      ],
      "text/markdown": [
       "\n",
       "A data.frame: 3 × 6\n",
       "\n",
       "| PROJETO &lt;chr&gt; | CLONE &lt;chr&gt; | Idade &lt;dbl&gt; | Hdom &lt;dbl&gt; | AreaBasal &lt;dbl&gt; | predict_knn &lt;dbl&gt; |\n",
       "|---|---|---|---|---|---|\n",
       "| Parada      | C3 | 21.5 |  8.8 |  4.2 |  66.92222 |\n",
       "| Santa Maria | A3 | 22.9 | 14.1 |  5.6 | 106.88889 |\n",
       "| Jacutinga   | A2 | 59.4 | 22.3 | 13.0 | 344.90000 |\n",
       "\n"
      ],
      "text/plain": [
       "  PROJETO     CLONE Idade Hdom AreaBasal predict_knn\n",
       "1 Parada      C3    21.5   8.8  4.2       66.92222  \n",
       "2 Santa Maria A3    22.9  14.1  5.6      106.88889  \n",
       "3 Jacutinga   A2    59.4  22.3 13.0      344.90000  "
      ]
     },
     "metadata": {},
     "output_type": "display_data"
    }
   ],
   "source": [
    "##predição de novos casos\n",
    "\n",
    "dados_novos_casos <- read.csv(\"databases/2 - Volume - Dados - Novos Casos.csv\")\n",
    "\n",
    "View(dados_novos_casos)\n",
    "\n",
    "predict_knn <- predict(knn, dados_novos_casos)\n",
    "dados_novos_casos$Volume <- NULL\n",
    "\n",
    "resultado <- cbind(dados_novos_casos, predict_knn)\n",
    "\n",
    "View(resultado)"
   ]
  }
 ],
 "metadata": {
  "language_info": {
   "name": "python"
  }
 },
 "nbformat": 4,
 "nbformat_minor": 2
}
