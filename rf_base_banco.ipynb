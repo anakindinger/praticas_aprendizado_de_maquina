{
 "cells": [
  {
   "cell_type": "code",
   "execution_count": 4,
   "metadata": {
    "vscode": {
     "languageId": "r"
    }
   },
   "outputs": [],
   "source": [
    "## Pacotes necessários:\n",
    "#install.packages(\"e1071\") \n",
    "#install.packages(\"caret\")\n",
    "#install.packages(\"randomForest\")\n",
    "library(\"caret\")\n",
    "library(\"randomForest\")"
   ]
  },
  {
   "cell_type": "code",
   "execution_count": 7,
   "metadata": {
    "vscode": {
     "languageId": "r"
    }
   },
   "outputs": [
    {
     "data": {
      "text/html": [
       "<table class=\"dataframe\">\n",
       "<caption>A data.frame: 6 × 9</caption>\n",
       "<thead>\n",
       "\t<tr><th></th><th scope=col>age</th><th scope=col>job</th><th scope=col>marital</th><th scope=col>education</th><th scope=col>default</th><th scope=col>balance</th><th scope=col>housing</th><th scope=col>loan</th><th scope=col>y</th></tr>\n",
       "\t<tr><th></th><th scope=col>&lt;int&gt;</th><th scope=col>&lt;chr&gt;</th><th scope=col>&lt;chr&gt;</th><th scope=col>&lt;chr&gt;</th><th scope=col>&lt;chr&gt;</th><th scope=col>&lt;int&gt;</th><th scope=col>&lt;chr&gt;</th><th scope=col>&lt;chr&gt;</th><th scope=col>&lt;chr&gt;</th></tr>\n",
       "</thead>\n",
       "<tbody>\n",
       "\t<tr><th scope=row>1</th><td>30</td><td>unemployed</td><td>married</td><td>primary  </td><td>no</td><td>1787</td><td>no </td><td>no </td><td>no</td></tr>\n",
       "\t<tr><th scope=row>2</th><td>33</td><td>services  </td><td>married</td><td>secondary</td><td>no</td><td>4789</td><td>yes</td><td>yes</td><td>no</td></tr>\n",
       "\t<tr><th scope=row>3</th><td>35</td><td>management</td><td>single </td><td>tertiary </td><td>no</td><td>1350</td><td>yes</td><td>no </td><td>no</td></tr>\n",
       "\t<tr><th scope=row>4</th><td>30</td><td>management</td><td>married</td><td>tertiary </td><td>no</td><td>1476</td><td>yes</td><td>yes</td><td>no</td></tr>\n",
       "\t<tr><th scope=row>5</th><td>59</td><td>bluecollar</td><td>married</td><td>secondary</td><td>no</td><td>   0</td><td>yes</td><td>no </td><td>no</td></tr>\n",
       "\t<tr><th scope=row>6</th><td>35</td><td>management</td><td>single </td><td>tertiary </td><td>no</td><td> 747</td><td>no </td><td>no </td><td>no</td></tr>\n",
       "</tbody>\n",
       "</table>\n"
      ],
      "text/latex": [
       "A data.frame: 6 × 9\n",
       "\\begin{tabular}{r|lllllllll}\n",
       "  & age & job & marital & education & default & balance & housing & loan & y\\\\\n",
       "  & <int> & <chr> & <chr> & <chr> & <chr> & <int> & <chr> & <chr> & <chr>\\\\\n",
       "\\hline\n",
       "\t1 & 30 & unemployed & married & primary   & no & 1787 & no  & no  & no\\\\\n",
       "\t2 & 33 & services   & married & secondary & no & 4789 & yes & yes & no\\\\\n",
       "\t3 & 35 & management & single  & tertiary  & no & 1350 & yes & no  & no\\\\\n",
       "\t4 & 30 & management & married & tertiary  & no & 1476 & yes & yes & no\\\\\n",
       "\t5 & 59 & bluecollar & married & secondary & no &    0 & yes & no  & no\\\\\n",
       "\t6 & 35 & management & single  & tertiary  & no &  747 & no  & no  & no\\\\\n",
       "\\end{tabular}\n"
      ],
      "text/markdown": [
       "\n",
       "A data.frame: 6 × 9\n",
       "\n",
       "| <!--/--> | age &lt;int&gt; | job &lt;chr&gt; | marital &lt;chr&gt; | education &lt;chr&gt; | default &lt;chr&gt; | balance &lt;int&gt; | housing &lt;chr&gt; | loan &lt;chr&gt; | y &lt;chr&gt; |\n",
       "|---|---|---|---|---|---|---|---|---|---|\n",
       "| 1 | 30 | unemployed | married | primary   | no | 1787 | no  | no  | no |\n",
       "| 2 | 33 | services   | married | secondary | no | 4789 | yes | yes | no |\n",
       "| 3 | 35 | management | single  | tertiary  | no | 1350 | yes | no  | no |\n",
       "| 4 | 30 | management | married | tertiary  | no | 1476 | yes | yes | no |\n",
       "| 5 | 59 | bluecollar | married | secondary | no |    0 | yes | no  | no |\n",
       "| 6 | 35 | management | single  | tertiary  | no |  747 | no  | no  | no |\n",
       "\n"
      ],
      "text/plain": [
       "  age job        marital education default balance housing loan y \n",
       "1 30  unemployed married primary   no      1787    no      no   no\n",
       "2 33  services   married secondary no      4789    yes     yes  no\n",
       "3 35  management single  tertiary  no      1350    yes     no   no\n",
       "4 30  management married tertiary  no      1476    yes     yes  no\n",
       "5 59  bluecollar married secondary no         0    yes     no   no\n",
       "6 35  management single  tertiary  no       747    no      no   no"
      ]
     },
     "metadata": {},
     "output_type": "display_data"
    }
   ],
   "source": [
    "#leitura dos dados\n",
    "\n",
    "dados <- read.csv(\"databases/4 - Banco - Dados.csv\")\n",
    "\n",
    "head(dados)"
   ]
  },
  {
   "cell_type": "code",
   "execution_count": 8,
   "metadata": {
    "vscode": {
     "languageId": "r"
    }
   },
   "outputs": [],
   "source": [
    "#separação da base em treino e teste\n",
    "set.seed(2034)\n",
    "indices <- createDataPartition(dados$y, p = 0.80, list = FALSE)\n",
    "treino <- dados[indices, ]\n",
    "teste <- dados[-indices, ]\n"
   ]
  },
  {
   "cell_type": "code",
   "execution_count": 11,
   "metadata": {
    "vscode": {
     "languageId": "r"
    }
   },
   "outputs": [
    {
     "data": {
      "text/plain": [
       "Random Forest \n",
       "\n",
       "241 samples\n",
       "  8 predictor\n",
       "  2 classes: 'no', 'yes' \n",
       "\n",
       "No pre-processing\n",
       "Resampling: Bootstrapped (25 reps) \n",
       "Summary of sample sizes: 241, 241, 241, 241, 241, 241, ... \n",
       "Resampling results across tuning parameters:\n",
       "\n",
       "  mtry  Accuracy   Kappa     \n",
       "   2    0.8714131  0.02574122\n",
       "  11    0.8484603  0.11672744\n",
       "  21    0.8308457  0.10522291\n",
       "\n",
       "Accuracy was used to select the optimal model using the largest value.\n",
       "The final value used for the model was mtry = 2."
      ]
     },
     "metadata": {},
     "output_type": "display_data"
    },
    {
     "data": {
      "text/plain": [
       "Confusion Matrix and Statistics\n",
       "\n",
       "          Reference\n",
       "Prediction no yes\n",
       "       no  52   7\n",
       "       yes  0   0\n",
       "                                          \n",
       "               Accuracy : 0.8814          \n",
       "                 95% CI : (0.7707, 0.9509)\n",
       "    No Information Rate : 0.8814          \n",
       "    P-Value [Acc > NIR] : 0.59891         \n",
       "                                          \n",
       "                  Kappa : 0               \n",
       "                                          \n",
       " Mcnemar's Test P-Value : 0.02334         \n",
       "                                          \n",
       "            Sensitivity : 1.0000          \n",
       "            Specificity : 0.0000          \n",
       "         Pos Pred Value : 0.8814          \n",
       "         Neg Pred Value :    NaN          \n",
       "             Prevalence : 0.8814          \n",
       "         Detection Rate : 0.8814          \n",
       "   Detection Prevalence : 1.0000          \n",
       "      Balanced Accuracy : 0.5000          \n",
       "                                          \n",
       "       'Positive' Class : no              \n",
       "                                          "
      ]
     },
     "metadata": {},
     "output_type": "display_data"
    }
   ],
   "source": [
    "#gerando modelo com random forest\n",
    "set.seed(2034)\n",
    "rf <- train(y ~ ., data = treino, method = \"rf\")\n",
    "rf\n",
    "#predicao com o arquivo de teste\n",
    "predict_rf <- predict(rf, teste)\n",
    "confusionMatrix(predict_rf, as.factor(teste$y))"
   ]
  },
  {
   "cell_type": "code",
   "execution_count": 12,
   "metadata": {
    "vscode": {
     "languageId": "r"
    }
   },
   "outputs": [
    {
     "data": {
      "text/plain": [
       "Random Forest \n",
       "\n",
       "241 samples\n",
       "  8 predictor\n",
       "  2 classes: 'no', 'yes' \n",
       "\n",
       "No pre-processing\n",
       "Resampling: Cross-Validated (10 fold) \n",
       "Summary of sample sizes: 217, 217, 216, 217, 217, 217, ... \n",
       "Resampling results across tuning parameters:\n",
       "\n",
       "  mtry  Accuracy   Kappa       \n",
       "   2    0.8673333  -0.006666667\n",
       "  11    0.8678333   0.192994849\n",
       "  21    0.8596667   0.183174603\n",
       "\n",
       "Accuracy was used to select the optimal model using the largest value.\n",
       "The final value used for the model was mtry = 11."
      ]
     },
     "metadata": {},
     "output_type": "display_data"
    },
    {
     "data": {
      "text/plain": [
       "Confusion Matrix and Statistics\n",
       "\n",
       "          Reference\n",
       "Prediction no yes\n",
       "       no  51   7\n",
       "       yes  1   0\n",
       "                                          \n",
       "               Accuracy : 0.8644          \n",
       "                 95% CI : (0.7502, 0.9396)\n",
       "    No Information Rate : 0.8814          \n",
       "    P-Value [Acc > NIR] : 0.7378          \n",
       "                                          \n",
       "                  Kappa : -0.0306         \n",
       "                                          \n",
       " Mcnemar's Test P-Value : 0.0771          \n",
       "                                          \n",
       "            Sensitivity : 0.9808          \n",
       "            Specificity : 0.0000          \n",
       "         Pos Pred Value : 0.8793          \n",
       "         Neg Pred Value : 0.0000          \n",
       "             Prevalence : 0.8814          \n",
       "         Detection Rate : 0.8644          \n",
       "   Detection Prevalence : 0.9831          \n",
       "      Balanced Accuracy : 0.4904          \n",
       "                                          \n",
       "       'Positive' Class : no              \n",
       "                                          "
      ]
     },
     "metadata": {},
     "output_type": "display_data"
    }
   ],
   "source": [
    "#aplicando cross-validation\n",
    "ctrl <- trainControl(method = \"cv\", number = 10)\n",
    "\n",
    "set.seed(2034)\n",
    "rf <- train(y ~ ., data =  treino, method = \"rf\", trControl = ctrl)\n",
    "rf\n",
    "\n",
    "#experimentando na base de teste\n",
    "predict_rf <- predict(rf, teste)\n",
    "confusionMatrix(predict_rf, as.factor(teste$y))"
   ]
  },
  {
   "cell_type": "code",
   "execution_count": 14,
   "metadata": {
    "vscode": {
     "languageId": "r"
    }
   },
   "outputs": [
    {
     "data": {
      "text/plain": [
       "Random Forest \n",
       "\n",
       "241 samples\n",
       "  8 predictor\n",
       "  2 classes: 'no', 'yes' \n",
       "\n",
       "No pre-processing\n",
       "Resampling: Cross-Validated (10 fold) \n",
       "Summary of sample sizes: 217, 217, 216, 217, 217, 217, ... \n",
       "Resampling results across tuning parameters:\n",
       "\n",
       "  mtry  Accuracy   Kappa       \n",
       "  2     0.8673333  -0.006666667\n",
       "  5     0.8798333   0.166666667\n",
       "  7     0.8758333   0.159829060\n",
       "  9     0.8841667   0.253162393\n",
       "\n",
       "Accuracy was used to select the optimal model using the largest value.\n",
       "The final value used for the model was mtry = 9."
      ]
     },
     "metadata": {},
     "output_type": "display_data"
    },
    {
     "data": {
      "text/plain": [
       "Confusion Matrix and Statistics\n",
       "\n",
       "          Reference\n",
       "Prediction no yes\n",
       "       no  51   7\n",
       "       yes  1   0\n",
       "                                          \n",
       "               Accuracy : 0.8644          \n",
       "                 95% CI : (0.7502, 0.9396)\n",
       "    No Information Rate : 0.8814          \n",
       "    P-Value [Acc > NIR] : 0.7378          \n",
       "                                          \n",
       "                  Kappa : -0.0306         \n",
       "                                          \n",
       " Mcnemar's Test P-Value : 0.0771          \n",
       "                                          \n",
       "            Sensitivity : 0.9808          \n",
       "            Specificity : 0.0000          \n",
       "         Pos Pred Value : 0.8793          \n",
       "         Neg Pred Value : 0.0000          \n",
       "             Prevalence : 0.8814          \n",
       "         Detection Rate : 0.8644          \n",
       "   Detection Prevalence : 0.9831          \n",
       "      Balanced Accuracy : 0.4904          \n",
       "                                          \n",
       "       'Positive' Class : no              \n",
       "                                          "
      ]
     },
     "metadata": {},
     "output_type": "display_data"
    }
   ],
   "source": [
    "#experimentando com outros valores de mtry\n",
    "tune_grid <- expand.grid(mtry = c(2, 5, 7, 9))\n",
    "\n",
    "set.seed(2034)\n",
    "rf <- train(y ~ ., data = treino, method = \"rf\", trControl = ctrl, tuneGrid = tune_grid)\n",
    "rf\n",
    "\n",
    "#experimentando novo modelo na base de teste\n",
    "predict_rf <- predict(rf, teste)\n",
    "confusionMatrix(predict_rf, as.factor(teste$y))"
   ]
  },
  {
   "cell_type": "code",
   "execution_count": 16,
   "metadata": {
    "vscode": {
     "languageId": "r"
    }
   },
   "outputs": [
    {
     "data": {
      "text/html": [
       "<table class=\"dataframe\">\n",
       "<caption>A data.frame: 3 × 9</caption>\n",
       "<thead>\n",
       "\t<tr><th scope=col>age</th><th scope=col>job</th><th scope=col>marital</th><th scope=col>education</th><th scope=col>default</th><th scope=col>balance</th><th scope=col>housing</th><th scope=col>loan</th><th scope=col>y</th></tr>\n",
       "\t<tr><th scope=col>&lt;int&gt;</th><th scope=col>&lt;chr&gt;</th><th scope=col>&lt;chr&gt;</th><th scope=col>&lt;chr&gt;</th><th scope=col>&lt;chr&gt;</th><th scope=col>&lt;int&gt;</th><th scope=col>&lt;chr&gt;</th><th scope=col>&lt;chr&gt;</th><th scope=col>&lt;chr&gt;</th></tr>\n",
       "</thead>\n",
       "<tbody>\n",
       "\t<tr><td>60</td><td>unemployed</td><td>married</td><td>primary  </td><td>no </td><td>2000</td><td>yes</td><td>yes</td><td>?</td></tr>\n",
       "\t<tr><td>33</td><td>services  </td><td>married</td><td>secondary</td><td>yes</td><td>3000</td><td>yes</td><td>no </td><td>?</td></tr>\n",
       "\t<tr><td>15</td><td>management</td><td>single </td><td>tertiary </td><td>no </td><td>1350</td><td>yes</td><td>no </td><td>?</td></tr>\n",
       "</tbody>\n",
       "</table>\n"
      ],
      "text/latex": [
       "A data.frame: 3 × 9\n",
       "\\begin{tabular}{lllllllll}\n",
       " age & job & marital & education & default & balance & housing & loan & y\\\\\n",
       " <int> & <chr> & <chr> & <chr> & <chr> & <int> & <chr> & <chr> & <chr>\\\\\n",
       "\\hline\n",
       "\t 60 & unemployed & married & primary   & no  & 2000 & yes & yes & ?\\\\\n",
       "\t 33 & services   & married & secondary & yes & 3000 & yes & no  & ?\\\\\n",
       "\t 15 & management & single  & tertiary  & no  & 1350 & yes & no  & ?\\\\\n",
       "\\end{tabular}\n"
      ],
      "text/markdown": [
       "\n",
       "A data.frame: 3 × 9\n",
       "\n",
       "| age &lt;int&gt; | job &lt;chr&gt; | marital &lt;chr&gt; | education &lt;chr&gt; | default &lt;chr&gt; | balance &lt;int&gt; | housing &lt;chr&gt; | loan &lt;chr&gt; | y &lt;chr&gt; |\n",
       "|---|---|---|---|---|---|---|---|---|\n",
       "| 60 | unemployed | married | primary   | no  | 2000 | yes | yes | ? |\n",
       "| 33 | services   | married | secondary | yes | 3000 | yes | no  | ? |\n",
       "| 15 | management | single  | tertiary  | no  | 1350 | yes | no  | ? |\n",
       "\n"
      ],
      "text/plain": [
       "  age job        marital education default balance housing loan y\n",
       "1 60  unemployed married primary   no      2000    yes     yes  ?\n",
       "2 33  services   married secondary yes     3000    yes     no   ?\n",
       "3 15  management single  tertiary  no      1350    yes     no   ?"
      ]
     },
     "metadata": {},
     "output_type": "display_data"
    },
    {
     "data": {
      "text/html": [
       "<table class=\"dataframe\">\n",
       "<caption>A data.frame: 3 × 9</caption>\n",
       "<thead>\n",
       "\t<tr><th scope=col>age</th><th scope=col>job</th><th scope=col>marital</th><th scope=col>education</th><th scope=col>default</th><th scope=col>balance</th><th scope=col>housing</th><th scope=col>loan</th><th scope=col>predict_rf</th></tr>\n",
       "\t<tr><th scope=col>&lt;int&gt;</th><th scope=col>&lt;chr&gt;</th><th scope=col>&lt;chr&gt;</th><th scope=col>&lt;chr&gt;</th><th scope=col>&lt;chr&gt;</th><th scope=col>&lt;int&gt;</th><th scope=col>&lt;chr&gt;</th><th scope=col>&lt;chr&gt;</th><th scope=col>&lt;fct&gt;</th></tr>\n",
       "</thead>\n",
       "<tbody>\n",
       "\t<tr><td>60</td><td>unemployed</td><td>married</td><td>primary  </td><td>no </td><td>2000</td><td>yes</td><td>yes</td><td>no</td></tr>\n",
       "\t<tr><td>33</td><td>services  </td><td>married</td><td>secondary</td><td>yes</td><td>3000</td><td>yes</td><td>no </td><td>no</td></tr>\n",
       "\t<tr><td>15</td><td>management</td><td>single </td><td>tertiary </td><td>no </td><td>1350</td><td>yes</td><td>no </td><td>no</td></tr>\n",
       "</tbody>\n",
       "</table>\n"
      ],
      "text/latex": [
       "A data.frame: 3 × 9\n",
       "\\begin{tabular}{lllllllll}\n",
       " age & job & marital & education & default & balance & housing & loan & predict\\_rf\\\\\n",
       " <int> & <chr> & <chr> & <chr> & <chr> & <int> & <chr> & <chr> & <fct>\\\\\n",
       "\\hline\n",
       "\t 60 & unemployed & married & primary   & no  & 2000 & yes & yes & no\\\\\n",
       "\t 33 & services   & married & secondary & yes & 3000 & yes & no  & no\\\\\n",
       "\t 15 & management & single  & tertiary  & no  & 1350 & yes & no  & no\\\\\n",
       "\\end{tabular}\n"
      ],
      "text/markdown": [
       "\n",
       "A data.frame: 3 × 9\n",
       "\n",
       "| age &lt;int&gt; | job &lt;chr&gt; | marital &lt;chr&gt; | education &lt;chr&gt; | default &lt;chr&gt; | balance &lt;int&gt; | housing &lt;chr&gt; | loan &lt;chr&gt; | predict_rf &lt;fct&gt; |\n",
       "|---|---|---|---|---|---|---|---|---|\n",
       "| 60 | unemployed | married | primary   | no  | 2000 | yes | yes | no |\n",
       "| 33 | services   | married | secondary | yes | 3000 | yes | no  | no |\n",
       "| 15 | management | single  | tertiary  | no  | 1350 | yes | no  | no |\n",
       "\n"
      ],
      "text/plain": [
       "  age job        marital education default balance housing loan predict_rf\n",
       "1 60  unemployed married primary   no      2000    yes     yes  no        \n",
       "2 33  services   married secondary yes     3000    yes     no   no        \n",
       "3 15  management single  tertiary  no      1350    yes     no   no        "
      ]
     },
     "metadata": {},
     "output_type": "display_data"
    }
   ],
   "source": [
    "# predicao de novos casos\n",
    "dados_novos_casos <- read.csv(\"databases/4 - Banco - Novos Casos.csv\")\n",
    "View(dados_novos_casos)\n",
    "dados_novos_casos$y <- NULL\n",
    "\n",
    "predict_rf <- predict(rf, dados_novos_casos)\n",
    "resultado <- cbind(dados_novos_casos, predict_rf)\n",
    "View(resultado)"
   ]
  }
 ],
 "metadata": {
  "kernelspec": {
   "display_name": "R",
   "language": "R",
   "name": "ir"
  },
  "language_info": {
   "codemirror_mode": "r",
   "file_extension": ".r",
   "mimetype": "text/x-r-source",
   "name": "R",
   "pygments_lexer": "r",
   "version": "4.4.1"
  }
 },
 "nbformat": 4,
 "nbformat_minor": 2
}
