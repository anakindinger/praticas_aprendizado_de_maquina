{
 "cells": [
  {
   "cell_type": "markdown",
   "metadata": {},
   "source": [
    "base de dados para classificar possiveis investidores\n",
    "\n",
    " base com overfitting\n"
   ]
  },
  {
   "cell_type": "code",
   "execution_count": 1,
   "metadata": {
    "vscode": {
     "languageId": "r"
    }
   },
   "outputs": [
    {
     "name": "stderr",
     "output_type": "stream",
     "text": [
      "Carregando pacotes exigidos: ggplot2\n",
      "\n",
      "Carregando pacotes exigidos: lattice\n",
      "\n"
     ]
    }
   ],
   "source": [
    "library(caret)"
   ]
  },
  {
   "cell_type": "code",
   "execution_count": 2,
   "metadata": {
    "vscode": {
     "languageId": "r"
    }
   },
   "outputs": [
    {
     "data": {
      "text/html": [
       "<table class=\"dataframe\">\n",
       "<caption>A data.frame: 6 × 9</caption>\n",
       "<thead>\n",
       "\t<tr><th></th><th scope=col>age</th><th scope=col>job</th><th scope=col>marital</th><th scope=col>education</th><th scope=col>default</th><th scope=col>balance</th><th scope=col>housing</th><th scope=col>loan</th><th scope=col>y</th></tr>\n",
       "\t<tr><th></th><th scope=col>&lt;int&gt;</th><th scope=col>&lt;chr&gt;</th><th scope=col>&lt;chr&gt;</th><th scope=col>&lt;chr&gt;</th><th scope=col>&lt;chr&gt;</th><th scope=col>&lt;int&gt;</th><th scope=col>&lt;chr&gt;</th><th scope=col>&lt;chr&gt;</th><th scope=col>&lt;chr&gt;</th></tr>\n",
       "</thead>\n",
       "<tbody>\n",
       "\t<tr><th scope=row>1</th><td>30</td><td>unemployed</td><td>married</td><td>primary  </td><td>no</td><td>1787</td><td>no </td><td>no </td><td>no</td></tr>\n",
       "\t<tr><th scope=row>2</th><td>33</td><td>services  </td><td>married</td><td>secondary</td><td>no</td><td>4789</td><td>yes</td><td>yes</td><td>no</td></tr>\n",
       "\t<tr><th scope=row>3</th><td>35</td><td>management</td><td>single </td><td>tertiary </td><td>no</td><td>1350</td><td>yes</td><td>no </td><td>no</td></tr>\n",
       "\t<tr><th scope=row>4</th><td>30</td><td>management</td><td>married</td><td>tertiary </td><td>no</td><td>1476</td><td>yes</td><td>yes</td><td>no</td></tr>\n",
       "\t<tr><th scope=row>5</th><td>59</td><td>bluecollar</td><td>married</td><td>secondary</td><td>no</td><td>   0</td><td>yes</td><td>no </td><td>no</td></tr>\n",
       "\t<tr><th scope=row>6</th><td>35</td><td>management</td><td>single </td><td>tertiary </td><td>no</td><td> 747</td><td>no </td><td>no </td><td>no</td></tr>\n",
       "</tbody>\n",
       "</table>\n"
      ],
      "text/latex": [
       "A data.frame: 6 × 9\n",
       "\\begin{tabular}{r|lllllllll}\n",
       "  & age & job & marital & education & default & balance & housing & loan & y\\\\\n",
       "  & <int> & <chr> & <chr> & <chr> & <chr> & <int> & <chr> & <chr> & <chr>\\\\\n",
       "\\hline\n",
       "\t1 & 30 & unemployed & married & primary   & no & 1787 & no  & no  & no\\\\\n",
       "\t2 & 33 & services   & married & secondary & no & 4789 & yes & yes & no\\\\\n",
       "\t3 & 35 & management & single  & tertiary  & no & 1350 & yes & no  & no\\\\\n",
       "\t4 & 30 & management & married & tertiary  & no & 1476 & yes & yes & no\\\\\n",
       "\t5 & 59 & bluecollar & married & secondary & no &    0 & yes & no  & no\\\\\n",
       "\t6 & 35 & management & single  & tertiary  & no &  747 & no  & no  & no\\\\\n",
       "\\end{tabular}\n"
      ],
      "text/markdown": [
       "\n",
       "A data.frame: 6 × 9\n",
       "\n",
       "| <!--/--> | age &lt;int&gt; | job &lt;chr&gt; | marital &lt;chr&gt; | education &lt;chr&gt; | default &lt;chr&gt; | balance &lt;int&gt; | housing &lt;chr&gt; | loan &lt;chr&gt; | y &lt;chr&gt; |\n",
       "|---|---|---|---|---|---|---|---|---|---|\n",
       "| 1 | 30 | unemployed | married | primary   | no | 1787 | no  | no  | no |\n",
       "| 2 | 33 | services   | married | secondary | no | 4789 | yes | yes | no |\n",
       "| 3 | 35 | management | single  | tertiary  | no | 1350 | yes | no  | no |\n",
       "| 4 | 30 | management | married | tertiary  | no | 1476 | yes | yes | no |\n",
       "| 5 | 59 | bluecollar | married | secondary | no |    0 | yes | no  | no |\n",
       "| 6 | 35 | management | single  | tertiary  | no |  747 | no  | no  | no |\n",
       "\n"
      ],
      "text/plain": [
       "  age job        marital education default balance housing loan y \n",
       "1 30  unemployed married primary   no      1787    no      no   no\n",
       "2 33  services   married secondary no      4789    yes     yes  no\n",
       "3 35  management single  tertiary  no      1350    yes     no   no\n",
       "4 30  management married tertiary  no      1476    yes     yes  no\n",
       "5 59  bluecollar married secondary no         0    yes     no   no\n",
       "6 35  management single  tertiary  no       747    no      no   no"
      ]
     },
     "metadata": {},
     "output_type": "display_data"
    }
   ],
   "source": [
    "#leitura dos dados\n",
    "\n",
    "dados <- read.csv(\"databases/4 – Banco - Dados.csv\")\n",
    "\n",
    "head(dados)"
   ]
  },
  {
   "cell_type": "code",
   "execution_count": 3,
   "metadata": {
    "vscode": {
     "languageId": "r"
    }
   },
   "outputs": [],
   "source": [
    "#separando em bases de teste e treinamento\n",
    "set.seed(123)\n",
    "ran <- sample(1:nrow(dados), 0.8*nrow(dados))\n",
    "\n",
    "treino <- dados[ran,]\n",
    "teste <- dados[-ran,]"
   ]
  },
  {
   "cell_type": "code",
   "execution_count": 4,
   "metadata": {
    "vscode": {
     "languageId": "r"
    }
   },
   "outputs": [
    {
     "data": {
      "text/plain": [
       "k-Nearest Neighbors \n",
       "\n",
       "240 samples\n",
       "  8 predictor\n",
       "  2 classes: 'no', 'yes' \n",
       "\n",
       "No pre-processing\n",
       "Resampling: Bootstrapped (25 reps) \n",
       "Summary of sample sizes: 240, 240, 240, 240, 240, 240, ... \n",
       "Resampling results across tuning parameters:\n",
       "\n",
       "  k  Accuracy   Kappa     \n",
       "  1  0.8059532  0.16262839\n",
       "  3  0.8113329  0.15107309\n",
       "  5  0.8223151  0.10050374\n",
       "  7  0.8247088  0.03479743\n",
       "  9  0.8346363  0.05525673\n",
       "\n",
       "Accuracy was used to select the optimal model using the largest value.\n",
       "The final value used for the model was k = 9."
      ]
     },
     "metadata": {},
     "output_type": "display_data"
    }
   ],
   "source": [
    "#faz um grid de valores para k e executa o knn\n",
    "tuneGrid <- expand.grid(k=c(1,3,5,7,9))\n",
    "\n",
    "set.seed(123)\n",
    "\n",
    "knn <- train(y ~ ., data=treino, method=\"knn\", tuneGrid=tuneGrid)\n",
    "knn"
   ]
  },
  {
   "cell_type": "code",
   "execution_count": 5,
   "metadata": {
    "vscode": {
     "languageId": "r"
    }
   },
   "outputs": [
    {
     "data": {
      "text/plain": [
       "Confusion Matrix and Statistics\n",
       "\n",
       "          Reference\n",
       "Prediction no yes\n",
       "       no  56   3\n",
       "       yes  1   0\n",
       "                                         \n",
       "               Accuracy : 0.9333         \n",
       "                 95% CI : (0.838, 0.9815)\n",
       "    No Information Rate : 0.95           \n",
       "    P-Value [Acc > NIR] : 0.8197         \n",
       "                                         \n",
       "                  Kappa : -0.0256        \n",
       "                                         \n",
       " Mcnemar's Test P-Value : 0.6171         \n",
       "                                         \n",
       "            Sensitivity : 0.9825         \n",
       "            Specificity : 0.0000         \n",
       "         Pos Pred Value : 0.9492         \n",
       "         Neg Pred Value : 0.0000         \n",
       "             Prevalence : 0.9500         \n",
       "         Detection Rate : 0.9333         \n",
       "   Detection Prevalence : 0.9833         \n",
       "      Balanced Accuracy : 0.4912         \n",
       "                                         \n",
       "       'Positive' Class : no             \n",
       "                                         "
      ]
     },
     "metadata": {},
     "output_type": "display_data"
    }
   ],
   "source": [
    "# faz a predição e mostra a matriz de confusao\n",
    "predict_knn <- predict(knn, teste)\n",
    "\n",
    "confusionMatrix(predict_knn, as.factor(teste$y))"
   ]
  },
  {
   "cell_type": "code",
   "execution_count": 6,
   "metadata": {
    "vscode": {
     "languageId": "r"
    }
   },
   "outputs": [
    {
     "data": {
      "text/html": [
       "<table class=\"dataframe\">\n",
       "<caption>A data.frame: 3 × 9</caption>\n",
       "<thead>\n",
       "\t<tr><th scope=col>age</th><th scope=col>job</th><th scope=col>marital</th><th scope=col>education</th><th scope=col>default</th><th scope=col>balance</th><th scope=col>housing</th><th scope=col>loan</th><th scope=col>predict_knn</th></tr>\n",
       "\t<tr><th scope=col>&lt;int&gt;</th><th scope=col>&lt;chr&gt;</th><th scope=col>&lt;chr&gt;</th><th scope=col>&lt;chr&gt;</th><th scope=col>&lt;chr&gt;</th><th scope=col>&lt;int&gt;</th><th scope=col>&lt;chr&gt;</th><th scope=col>&lt;chr&gt;</th><th scope=col>&lt;fct&gt;</th></tr>\n",
       "</thead>\n",
       "<tbody>\n",
       "\t<tr><td>60</td><td>unemployed</td><td>married</td><td>primary  </td><td>no </td><td>2000</td><td>yes</td><td>yes</td><td>no</td></tr>\n",
       "\t<tr><td>33</td><td>services  </td><td>married</td><td>secondary</td><td>yes</td><td>3000</td><td>yes</td><td>no </td><td>no</td></tr>\n",
       "\t<tr><td>15</td><td>management</td><td>single </td><td>tertiary </td><td>no </td><td>1350</td><td>yes</td><td>no </td><td>no</td></tr>\n",
       "</tbody>\n",
       "</table>\n"
      ],
      "text/latex": [
       "A data.frame: 3 × 9\n",
       "\\begin{tabular}{lllllllll}\n",
       " age & job & marital & education & default & balance & housing & loan & predict\\_knn\\\\\n",
       " <int> & <chr> & <chr> & <chr> & <chr> & <int> & <chr> & <chr> & <fct>\\\\\n",
       "\\hline\n",
       "\t 60 & unemployed & married & primary   & no  & 2000 & yes & yes & no\\\\\n",
       "\t 33 & services   & married & secondary & yes & 3000 & yes & no  & no\\\\\n",
       "\t 15 & management & single  & tertiary  & no  & 1350 & yes & no  & no\\\\\n",
       "\\end{tabular}\n"
      ],
      "text/markdown": [
       "\n",
       "A data.frame: 3 × 9\n",
       "\n",
       "| age &lt;int&gt; | job &lt;chr&gt; | marital &lt;chr&gt; | education &lt;chr&gt; | default &lt;chr&gt; | balance &lt;int&gt; | housing &lt;chr&gt; | loan &lt;chr&gt; | predict_knn &lt;fct&gt; |\n",
       "|---|---|---|---|---|---|---|---|---|\n",
       "| 60 | unemployed | married | primary   | no  | 2000 | yes | yes | no |\n",
       "| 33 | services   | married | secondary | yes | 3000 | yes | no  | no |\n",
       "| 15 | management | single  | tertiary  | no  | 1350 | yes | no  | no |\n",
       "\n"
      ],
      "text/plain": [
       "  age job        marital education default balance housing loan predict_knn\n",
       "1 60  unemployed married primary   no      2000    yes     yes  no         \n",
       "2 33  services   married secondary yes     3000    yes     no   no         \n",
       "3 15  management single  tertiary  no      1350    yes     no   no         "
      ]
     },
     "metadata": {},
     "output_type": "display_data"
    }
   ],
   "source": [
    "#predicoes de novos casos\n",
    "dados_novos_casos <- read.csv(\"databases/4 – Banco -  Novos Casos.csv\")\n",
    "\n",
    "predict_knn <- predict(knn, dados_novos_casos)\n",
    "dados_novos_casos$y <- NULL\n",
    "\n",
    "resultado<- cbind(dados_novos_casos, predict_knn)\n",
    "\n",
    "View(resultado)"
   ]
  }
 ],
 "metadata": {
  "language_info": {
   "name": "python"
  }
 },
 "nbformat": 4,
 "nbformat_minor": 2
}
