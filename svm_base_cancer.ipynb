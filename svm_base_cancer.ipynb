{
 "cells": [
  {
   "cell_type": "code",
   "execution_count": 27,
   "metadata": {
    "vscode": {
     "languageId": "r"
    }
   },
   "outputs": [],
   "source": [
    "### Pacotes necessarios:\n",
    "# install.packages(\"e1071\")\n",
    "# install.packages(\"caret\")\n",
    "# install.packages(\"kernlab\")\n",
    "library(\"kernlab\")\n",
    "library(\"caret\")\n",
    "library(mlbench)\n"
   ]
  },
  {
   "cell_type": "code",
   "execution_count": 28,
   "metadata": {
    "vscode": {
     "languageId": "r"
    }
   },
   "outputs": [
    {
     "data": {
      "text/html": [
       "<table class=\"dataframe\">\n",
       "<caption>A data.frame: 6 × 10</caption>\n",
       "<thead>\n",
       "\t<tr><th></th><th scope=col>Cl.thickness</th><th scope=col>Cell.size</th><th scope=col>Cell.shape</th><th scope=col>Marg.adhesion</th><th scope=col>Epith.c.size</th><th scope=col>Bare.nuclei</th><th scope=col>Bl.cromatin</th><th scope=col>Normal.nucleoli</th><th scope=col>Mitoses</th><th scope=col>Class</th></tr>\n",
       "\t<tr><th></th><th scope=col>&lt;dbl&gt;</th><th scope=col>&lt;dbl&gt;</th><th scope=col>&lt;dbl&gt;</th><th scope=col>&lt;dbl&gt;</th><th scope=col>&lt;dbl&gt;</th><th scope=col>&lt;dbl&gt;</th><th scope=col>&lt;dbl&gt;</th><th scope=col>&lt;dbl&gt;</th><th scope=col>&lt;dbl&gt;</th><th scope=col>&lt;chr&gt;</th></tr>\n",
       "</thead>\n",
       "<tbody>\n",
       "\t<tr><th scope=row>1</th><td>5</td><td> 1</td><td> 1</td><td>1</td><td>2</td><td> 1</td><td>3</td><td>1</td><td>1</td><td>benign   </td></tr>\n",
       "\t<tr><th scope=row>2</th><td>5</td><td> 4</td><td> 4</td><td>5</td><td>7</td><td>10</td><td>3</td><td>2</td><td>1</td><td>benign   </td></tr>\n",
       "\t<tr><th scope=row>3</th><td>3</td><td> 1</td><td> 1</td><td>1</td><td>2</td><td> 2</td><td>3</td><td>1</td><td>1</td><td>benign   </td></tr>\n",
       "\t<tr><th scope=row>4</th><td>6</td><td> 8</td><td> 8</td><td>1</td><td>3</td><td> 4</td><td>3</td><td>7</td><td>1</td><td>benign   </td></tr>\n",
       "\t<tr><th scope=row>5</th><td>4</td><td> 1</td><td> 1</td><td>3</td><td>2</td><td> 1</td><td>3</td><td>1</td><td>1</td><td>benign   </td></tr>\n",
       "\t<tr><th scope=row>6</th><td>8</td><td>10</td><td>10</td><td>8</td><td>7</td><td>10</td><td>9</td><td>7</td><td>1</td><td>malignant</td></tr>\n",
       "</tbody>\n",
       "</table>\n"
      ],
      "text/latex": [
       "A data.frame: 6 × 10\n",
       "\\begin{tabular}{r|llllllllll}\n",
       "  & Cl.thickness & Cell.size & Cell.shape & Marg.adhesion & Epith.c.size & Bare.nuclei & Bl.cromatin & Normal.nucleoli & Mitoses & Class\\\\\n",
       "  & <dbl> & <dbl> & <dbl> & <dbl> & <dbl> & <dbl> & <dbl> & <dbl> & <dbl> & <chr>\\\\\n",
       "\\hline\n",
       "\t1 & 5 &  1 &  1 & 1 & 2 &  1 & 3 & 1 & 1 & benign   \\\\\n",
       "\t2 & 5 &  4 &  4 & 5 & 7 & 10 & 3 & 2 & 1 & benign   \\\\\n",
       "\t3 & 3 &  1 &  1 & 1 & 2 &  2 & 3 & 1 & 1 & benign   \\\\\n",
       "\t4 & 6 &  8 &  8 & 1 & 3 &  4 & 3 & 7 & 1 & benign   \\\\\n",
       "\t5 & 4 &  1 &  1 & 3 & 2 &  1 & 3 & 1 & 1 & benign   \\\\\n",
       "\t6 & 8 & 10 & 10 & 8 & 7 & 10 & 9 & 7 & 1 & malignant\\\\\n",
       "\\end{tabular}\n"
      ],
      "text/markdown": [
       "\n",
       "A data.frame: 6 × 10\n",
       "\n",
       "| <!--/--> | Cl.thickness &lt;dbl&gt; | Cell.size &lt;dbl&gt; | Cell.shape &lt;dbl&gt; | Marg.adhesion &lt;dbl&gt; | Epith.c.size &lt;dbl&gt; | Bare.nuclei &lt;dbl&gt; | Bl.cromatin &lt;dbl&gt; | Normal.nucleoli &lt;dbl&gt; | Mitoses &lt;dbl&gt; | Class &lt;chr&gt; |\n",
       "|---|---|---|---|---|---|---|---|---|---|---|\n",
       "| 1 | 5 |  1 |  1 | 1 | 2 |  1 | 3 | 1 | 1 | benign    |\n",
       "| 2 | 5 |  4 |  4 | 5 | 7 | 10 | 3 | 2 | 1 | benign    |\n",
       "| 3 | 3 |  1 |  1 | 1 | 2 |  2 | 3 | 1 | 1 | benign    |\n",
       "| 4 | 6 |  8 |  8 | 1 | 3 |  4 | 3 | 7 | 1 | benign    |\n",
       "| 5 | 4 |  1 |  1 | 3 | 2 |  1 | 3 | 1 | 1 | benign    |\n",
       "| 6 | 8 | 10 | 10 | 8 | 7 | 10 | 9 | 7 | 1 | malignant |\n",
       "\n"
      ],
      "text/plain": [
       "  Cl.thickness Cell.size Cell.shape Marg.adhesion Epith.c.size Bare.nuclei\n",
       "1 5             1         1         1             2             1         \n",
       "2 5             4         4         5             7            10         \n",
       "3 3             1         1         1             2             2         \n",
       "4 6             8         8         1             3             4         \n",
       "5 4             1         1         3             2             1         \n",
       "6 8            10        10         8             7            10         \n",
       "  Bl.cromatin Normal.nucleoli Mitoses Class    \n",
       "1 3           1               1       benign   \n",
       "2 3           2               1       benign   \n",
       "3 3           1               1       benign   \n",
       "4 3           7               1       benign   \n",
       "5 3           1               1       benign   \n",
       "6 9           7               1       malignant"
      ]
     },
     "metadata": {},
     "output_type": "display_data"
    }
   ],
   "source": [
    "#carregando a base de dados\n",
    "dados <- read.csv(\"databases/1 - Cancer de Mama - Dados.csv\")\n",
    "\n",
    "#removendo Id\n",
    "dados$Id <- NULL\n",
    "head(dados)"
   ]
  },
  {
   "cell_type": "code",
   "execution_count": 29,
   "metadata": {
    "vscode": {
     "languageId": "r"
    }
   },
   "outputs": [],
   "source": [
    "#separando a base em 80% 20%\n",
    "set.seed(1912)\n",
    "indices <- createDataPartition(dados$Class, p = 0.80, list = FALSE)\n",
    "\n",
    "treino <- dados[indices, ]\n",
    "teste <- dados[-indices, ]\n"
   ]
  },
  {
   "cell_type": "code",
   "execution_count": 30,
   "metadata": {
    "vscode": {
     "languageId": "r"
    }
   },
   "outputs": [
    {
     "data": {
      "text/plain": [
       "Support Vector Machines with Radial Basis Function Kernel \n",
       "\n",
       "560 samples\n",
       "  9 predictor\n",
       "  2 classes: 'benign', 'malignant' \n",
       "\n",
       "No pre-processing\n",
       "Resampling: Bootstrapped (25 reps) \n",
       "Summary of sample sizes: 560, 560, 560, 560, 560, 560, ... \n",
       "Resampling results across tuning parameters:\n",
       "\n",
       "  C     Accuracy   Kappa    \n",
       "  0.25  0.9396639  0.8716127\n",
       "  0.50  0.9461022  0.8845589\n",
       "  1.00  0.9513385  0.8951586\n",
       "\n",
       "Tuning parameter 'sigma' was held constant at a value of 0.7308222\n",
       "Accuracy was used to select the optimal model using the largest value.\n",
       "The final values used for the model were sigma = 0.7308222 and C = 1."
      ]
     },
     "metadata": {},
     "output_type": "display_data"
    }
   ],
   "source": [
    "#criando modelo usando svm Radial\n",
    "set.seed(1912)\n",
    "svm <- train(Class ~ ., data = treino, method = \"svmRadial\")\n",
    "svm"
   ]
  },
  {
   "cell_type": "code",
   "execution_count": 31,
   "metadata": {
    "vscode": {
     "languageId": "r"
    }
   },
   "outputs": [
    {
     "data": {
      "text/plain": [
       "Confusion Matrix and Statistics\n",
       "\n",
       "           Reference\n",
       "Prediction  benign malignant\n",
       "  benign        87         3\n",
       "  malignant      4        45\n",
       "                                         \n",
       "               Accuracy : 0.9496         \n",
       "                 95% CI : (0.899, 0.9795)\n",
       "    No Information Rate : 0.6547         \n",
       "    P-Value [Acc > NIR] : <2e-16         \n",
       "                                         \n",
       "                  Kappa : 0.8892         \n",
       "                                         \n",
       " Mcnemar's Test P-Value : 1              \n",
       "                                         \n",
       "            Sensitivity : 0.9560         \n",
       "            Specificity : 0.9375         \n",
       "         Pos Pred Value : 0.9667         \n",
       "         Neg Pred Value : 0.9184         \n",
       "             Prevalence : 0.6547         \n",
       "         Detection Rate : 0.6259         \n",
       "   Detection Prevalence : 0.6475         \n",
       "      Balanced Accuracy : 0.9468         \n",
       "                                         \n",
       "       'Positive' Class : benign         \n",
       "                                         "
      ]
     },
     "metadata": {},
     "output_type": "display_data"
    }
   ],
   "source": [
    "#aplicando o modelo a base de teste e gerando matriz de confusao\n",
    "predict_svm <- predict(svm, teste)\n",
    "\n",
    "confusionMatrix(predict_svm, as.factor(teste$Class))"
   ]
  },
  {
   "cell_type": "code",
   "execution_count": 32,
   "metadata": {
    "vscode": {
     "languageId": "r"
    }
   },
   "outputs": [
    {
     "data": {
      "text/plain": [
       "Support Vector Machines with Radial Basis Function Kernel \n",
       "\n",
       "560 samples\n",
       "  9 predictor\n",
       "  2 classes: 'benign', 'malignant' \n",
       "\n",
       "No pre-processing\n",
       "Resampling: Cross-Validated (10 fold) \n",
       "Summary of sample sizes: 504, 503, 505, 504, 504, 505, ... \n",
       "Resampling results across tuning parameters:\n",
       "\n",
       "  C     Accuracy   Kappa    \n",
       "  0.25  0.9390841  0.8726515\n",
       "  0.50  0.9516815  0.8979117\n",
       "  1.00  0.9552854  0.9049221\n",
       "\n",
       "Tuning parameter 'sigma' was held constant at a value of 0.7308222\n",
       "Accuracy was used to select the optimal model using the largest value.\n",
       "The final values used for the model were sigma = 0.7308222 and C = 1."
      ]
     },
     "metadata": {},
     "output_type": "display_data"
    }
   ],
   "source": [
    "#Cross validation no modelo svm\n",
    "ctrl <- trainControl(method = \"cv\", number = 10)\n",
    "\n",
    "set.seed(1912)\n",
    "svm <- train(Class ~ ., data = treino, method = \"svmRadial\", trControl = ctrl)\n",
    "svm\n"
   ]
  },
  {
   "cell_type": "code",
   "execution_count": 33,
   "metadata": {
    "vscode": {
     "languageId": "r"
    }
   },
   "outputs": [
    {
     "data": {
      "text/plain": [
       "Confusion Matrix and Statistics\n",
       "\n",
       "           Reference\n",
       "Prediction  benign malignant\n",
       "  benign        87         3\n",
       "  malignant      4        45\n",
       "                                         \n",
       "               Accuracy : 0.9496         \n",
       "                 95% CI : (0.899, 0.9795)\n",
       "    No Information Rate : 0.6547         \n",
       "    P-Value [Acc > NIR] : <2e-16         \n",
       "                                         \n",
       "                  Kappa : 0.8892         \n",
       "                                         \n",
       " Mcnemar's Test P-Value : 1              \n",
       "                                         \n",
       "            Sensitivity : 0.9560         \n",
       "            Specificity : 0.9375         \n",
       "         Pos Pred Value : 0.9667         \n",
       "         Neg Pred Value : 0.9184         \n",
       "             Prevalence : 0.6547         \n",
       "         Detection Rate : 0.6259         \n",
       "   Detection Prevalence : 0.6475         \n",
       "      Balanced Accuracy : 0.9468         \n",
       "                                         \n",
       "       'Positive' Class : benign         \n",
       "                                         "
      ]
     },
     "metadata": {},
     "output_type": "display_data"
    }
   ],
   "source": [
    "#aplicando o modelo a base de teste e gerando matriz de confusao com cross validation\n",
    "predict_svm <- predict(svm, teste)\n",
    "\n",
    "confusionMatrix(predict_svm, as.factor(teste$Class))"
   ]
  },
  {
   "cell_type": "code",
   "execution_count": 34,
   "metadata": {
    "vscode": {
     "languageId": "r"
    }
   },
   "outputs": [
    {
     "data": {
      "text/plain": [
       "Support Vector Machines with Radial Basis Function Kernel \n",
       "\n",
       "560 samples\n",
       "  9 predictor\n",
       "  2 classes: 'benign', 'malignant' \n",
       "\n",
       "No pre-processing\n",
       "Resampling: Cross-Validated (10 fold) \n",
       "Summary of sample sizes: 504, 503, 505, 504, 504, 505, ... \n",
       "Resampling results across tuning parameters:\n",
       "\n",
       "  C    sigma  Accuracy   Kappa    \n",
       "    1  0.010  0.9642174  0.9220457\n",
       "    1  0.015  0.9624316  0.9181159\n",
       "    1  0.200  0.9605485  0.9142396\n",
       "    2  0.010  0.9606459  0.9139930\n",
       "    2  0.015  0.9624316  0.9176311\n",
       "    2  0.200  0.9587315  0.9094341\n",
       "   10  0.010  0.9623679  0.9173119\n",
       "   10  0.015  0.9659717  0.9251139\n",
       "   10  0.200  0.9445386  0.8777963\n",
       "   50  0.010  0.9641860  0.9210483\n",
       "   50  0.015  0.9641860  0.9210483\n",
       "   50  0.200  0.9428480  0.8736058\n",
       "  100  0.010  0.9641860  0.9210483\n",
       "  100  0.015  0.9569782  0.9049272\n",
       "  100  0.200  0.9428480  0.8736058\n",
       "\n",
       "Accuracy was used to select the optimal model using the largest value.\n",
       "The final values used for the model were sigma = 0.015 and C = 10."
      ]
     },
     "metadata": {},
     "output_type": "display_data"
    }
   ],
   "source": [
    "#testando varios valores de custo e sigma\n",
    "tune_grid <- expand.grid(C = c(1, 2, 10, 50, 100), sigma = c(0.01, 0.015, 0.2))\n",
    "\n",
    "set.seed(1912)\n",
    "svm <- train(Class ~ ., data = treino, method = \"svmRadial\", trControl = ctrl, tuneGrid = tune_grid)\n",
    "svm"
   ]
  },
  {
   "cell_type": "code",
   "execution_count": 35,
   "metadata": {
    "vscode": {
     "languageId": "r"
    }
   },
   "outputs": [
    {
     "data": {
      "text/plain": [
       "Confusion Matrix and Statistics\n",
       "\n",
       "           Reference\n",
       "Prediction  benign malignant\n",
       "  benign        90         4\n",
       "  malignant      1        44\n",
       "                                          \n",
       "               Accuracy : 0.964           \n",
       "                 95% CI : (0.9181, 0.9882)\n",
       "    No Information Rate : 0.6547          \n",
       "    P-Value [Acc > NIR] : <2e-16          \n",
       "                                          \n",
       "                  Kappa : 0.9193          \n",
       "                                          \n",
       " Mcnemar's Test P-Value : 0.3711          \n",
       "                                          \n",
       "            Sensitivity : 0.9890          \n",
       "            Specificity : 0.9167          \n",
       "         Pos Pred Value : 0.9574          \n",
       "         Neg Pred Value : 0.9778          \n",
       "             Prevalence : 0.6547          \n",
       "         Detection Rate : 0.6475          \n",
       "   Detection Prevalence : 0.6763          \n",
       "      Balanced Accuracy : 0.9528          \n",
       "                                          \n",
       "       'Positive' Class : benign          \n",
       "                                          "
      ]
     },
     "metadata": {},
     "output_type": "display_data"
    }
   ],
   "source": [
    "#aplicando o modelo a base de teste e gerando matriz de confusao\n",
    "predict_svm <- predict(svm, teste)\n",
    "\n",
    "confusionMatrix(predict_svm, as.factor(teste$Class))"
   ]
  },
  {
   "cell_type": "code",
   "execution_count": 36,
   "metadata": {
    "vscode": {
     "languageId": "r"
    }
   },
   "outputs": [
    {
     "data": {
      "text/html": [
       "<table class=\"dataframe\">\n",
       "<caption>A data.frame: 3 × 10</caption>\n",
       "<thead>\n",
       "\t<tr><th scope=col>Cl.thickness</th><th scope=col>Cell.size</th><th scope=col>Cell.shape</th><th scope=col>Marg.adhesion</th><th scope=col>Epith.c.size</th><th scope=col>Bare.nuclei</th><th scope=col>Bl.cromatin</th><th scope=col>Normal.nucleoli</th><th scope=col>Mitoses</th><th scope=col>Class</th></tr>\n",
       "\t<tr><th scope=col>&lt;dbl&gt;</th><th scope=col>&lt;dbl&gt;</th><th scope=col>&lt;dbl&gt;</th><th scope=col>&lt;dbl&gt;</th><th scope=col>&lt;dbl&gt;</th><th scope=col>&lt;dbl&gt;</th><th scope=col>&lt;dbl&gt;</th><th scope=col>&lt;dbl&gt;</th><th scope=col>&lt;dbl&gt;</th><th scope=col>&lt;chr&gt;</th></tr>\n",
       "</thead>\n",
       "<tbody>\n",
       "\t<tr><td>2</td><td>1</td><td>5</td><td>1</td><td>7</td><td>1</td><td>3</td><td>10</td><td>5</td><td>?</td></tr>\n",
       "\t<tr><td>2</td><td>3</td><td>4</td><td>5</td><td>3</td><td>1</td><td>3</td><td> 2</td><td>1</td><td>?</td></tr>\n",
       "\t<tr><td>7</td><td>1</td><td>1</td><td>5</td><td>2</td><td>2</td><td>2</td><td> 1</td><td>1</td><td>?</td></tr>\n",
       "</tbody>\n",
       "</table>\n"
      ],
      "text/latex": [
       "A data.frame: 3 × 10\n",
       "\\begin{tabular}{llllllllll}\n",
       " Cl.thickness & Cell.size & Cell.shape & Marg.adhesion & Epith.c.size & Bare.nuclei & Bl.cromatin & Normal.nucleoli & Mitoses & Class\\\\\n",
       " <dbl> & <dbl> & <dbl> & <dbl> & <dbl> & <dbl> & <dbl> & <dbl> & <dbl> & <chr>\\\\\n",
       "\\hline\n",
       "\t 2 & 1 & 5 & 1 & 7 & 1 & 3 & 10 & 5 & ?\\\\\n",
       "\t 2 & 3 & 4 & 5 & 3 & 1 & 3 &  2 & 1 & ?\\\\\n",
       "\t 7 & 1 & 1 & 5 & 2 & 2 & 2 &  1 & 1 & ?\\\\\n",
       "\\end{tabular}\n"
      ],
      "text/markdown": [
       "\n",
       "A data.frame: 3 × 10\n",
       "\n",
       "| Cl.thickness &lt;dbl&gt; | Cell.size &lt;dbl&gt; | Cell.shape &lt;dbl&gt; | Marg.adhesion &lt;dbl&gt; | Epith.c.size &lt;dbl&gt; | Bare.nuclei &lt;dbl&gt; | Bl.cromatin &lt;dbl&gt; | Normal.nucleoli &lt;dbl&gt; | Mitoses &lt;dbl&gt; | Class &lt;chr&gt; |\n",
       "|---|---|---|---|---|---|---|---|---|---|\n",
       "| 2 | 1 | 5 | 1 | 7 | 1 | 3 | 10 | 5 | ? |\n",
       "| 2 | 3 | 4 | 5 | 3 | 1 | 3 |  2 | 1 | ? |\n",
       "| 7 | 1 | 1 | 5 | 2 | 2 | 2 |  1 | 1 | ? |\n",
       "\n"
      ],
      "text/plain": [
       "  Cl.thickness Cell.size Cell.shape Marg.adhesion Epith.c.size Bare.nuclei\n",
       "1 2            1         5          1             7            1          \n",
       "2 2            3         4          5             3            1          \n",
       "3 7            1         1          5             2            2          \n",
       "  Bl.cromatin Normal.nucleoli Mitoses Class\n",
       "1 3           10              5       ?    \n",
       "2 3            2              1       ?    \n",
       "3 2            1              1       ?    "
      ]
     },
     "metadata": {},
     "output_type": "display_data"
    },
    {
     "data": {
      "text/html": [
       "<table class=\"dataframe\">\n",
       "<caption>A data.frame: 3 × 10</caption>\n",
       "<thead>\n",
       "\t<tr><th scope=col>Cl.thickness</th><th scope=col>Cell.size</th><th scope=col>Cell.shape</th><th scope=col>Marg.adhesion</th><th scope=col>Epith.c.size</th><th scope=col>Bare.nuclei</th><th scope=col>Bl.cromatin</th><th scope=col>Normal.nucleoli</th><th scope=col>Mitoses</th><th scope=col>predict_svm</th></tr>\n",
       "\t<tr><th scope=col>&lt;dbl&gt;</th><th scope=col>&lt;dbl&gt;</th><th scope=col>&lt;dbl&gt;</th><th scope=col>&lt;dbl&gt;</th><th scope=col>&lt;dbl&gt;</th><th scope=col>&lt;dbl&gt;</th><th scope=col>&lt;dbl&gt;</th><th scope=col>&lt;dbl&gt;</th><th scope=col>&lt;dbl&gt;</th><th scope=col>&lt;fct&gt;</th></tr>\n",
       "</thead>\n",
       "<tbody>\n",
       "\t<tr><td>2</td><td>1</td><td>5</td><td>1</td><td>7</td><td>1</td><td>3</td><td>10</td><td>5</td><td>malignant</td></tr>\n",
       "\t<tr><td>2</td><td>3</td><td>4</td><td>5</td><td>3</td><td>1</td><td>3</td><td> 2</td><td>1</td><td>benign   </td></tr>\n",
       "\t<tr><td>7</td><td>1</td><td>1</td><td>5</td><td>2</td><td>2</td><td>2</td><td> 1</td><td>1</td><td>benign   </td></tr>\n",
       "</tbody>\n",
       "</table>\n"
      ],
      "text/latex": [
       "A data.frame: 3 × 10\n",
       "\\begin{tabular}{llllllllll}\n",
       " Cl.thickness & Cell.size & Cell.shape & Marg.adhesion & Epith.c.size & Bare.nuclei & Bl.cromatin & Normal.nucleoli & Mitoses & predict\\_svm\\\\\n",
       " <dbl> & <dbl> & <dbl> & <dbl> & <dbl> & <dbl> & <dbl> & <dbl> & <dbl> & <fct>\\\\\n",
       "\\hline\n",
       "\t 2 & 1 & 5 & 1 & 7 & 1 & 3 & 10 & 5 & malignant\\\\\n",
       "\t 2 & 3 & 4 & 5 & 3 & 1 & 3 &  2 & 1 & benign   \\\\\n",
       "\t 7 & 1 & 1 & 5 & 2 & 2 & 2 &  1 & 1 & benign   \\\\\n",
       "\\end{tabular}\n"
      ],
      "text/markdown": [
       "\n",
       "A data.frame: 3 × 10\n",
       "\n",
       "| Cl.thickness &lt;dbl&gt; | Cell.size &lt;dbl&gt; | Cell.shape &lt;dbl&gt; | Marg.adhesion &lt;dbl&gt; | Epith.c.size &lt;dbl&gt; | Bare.nuclei &lt;dbl&gt; | Bl.cromatin &lt;dbl&gt; | Normal.nucleoli &lt;dbl&gt; | Mitoses &lt;dbl&gt; | predict_svm &lt;fct&gt; |\n",
       "|---|---|---|---|---|---|---|---|---|---|\n",
       "| 2 | 1 | 5 | 1 | 7 | 1 | 3 | 10 | 5 | malignant |\n",
       "| 2 | 3 | 4 | 5 | 3 | 1 | 3 |  2 | 1 | benign    |\n",
       "| 7 | 1 | 1 | 5 | 2 | 2 | 2 |  1 | 1 | benign    |\n",
       "\n"
      ],
      "text/plain": [
       "  Cl.thickness Cell.size Cell.shape Marg.adhesion Epith.c.size Bare.nuclei\n",
       "1 2            1         5          1             7            1          \n",
       "2 2            3         4          5             3            1          \n",
       "3 7            1         1          5             2            2          \n",
       "  Bl.cromatin Normal.nucleoli Mitoses predict_svm\n",
       "1 3           10              5       malignant  \n",
       "2 3            2              1       benign     \n",
       "3 2            1              1       benign     "
      ]
     },
     "metadata": {},
     "output_type": "display_data"
    }
   ],
   "source": [
    "#predicao de novos casos\n",
    "dados_novos_casos <- read.csv(\"databases/1 - Cancer de Mama - Dados - Novos Casos.csv\")\n",
    "\n",
    "dados_novos_casos$Id <- NULL\n",
    "View(dados_novos_casos)\n",
    "dados_novos_casos$Class <- NULL\n",
    "\n",
    "predict_svm <- predict(svm, dados_novos_casos)\n",
    "\n",
    "resultado <- cbind(dados_novos_casos, predict_svm)\n",
    "View(resultado)"
   ]
  }
 ],
 "metadata": {
  "kernelspec": {
   "display_name": "R",
   "language": "R",
   "name": "ir"
  },
  "language_info": {
   "codemirror_mode": "r",
   "file_extension": ".r",
   "mimetype": "text/x-r-source",
   "name": "R",
   "pygments_lexer": "r",
   "version": "4.4.1"
  }
 },
 "nbformat": 4,
 "nbformat_minor": 2
}
