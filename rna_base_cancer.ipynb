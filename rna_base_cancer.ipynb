{
 "cells": [
  {
   "cell_type": "markdown",
   "metadata": {},
   "source": [
    "**Objetivo**: classificação de base com dados sobre tumores para maligno e benigno"
   ]
  },
  {
   "cell_type": "code",
   "execution_count": 27,
   "metadata": {
    "vscode": {
     "languageId": "r"
    }
   },
   "outputs": [],
   "source": [
    "#instalação de pacotes necessários\n",
    "#install.packages(\"e1071\")\n",
    "#install.packages(\"caret\")\n",
    "#install.packages(\"mlbench\")\n",
    "#install.packages(\"mice\")\n",
    "library(caret)\n",
    "library(mlbench)\n",
    "library(mice)"
   ]
  },
  {
   "cell_type": "code",
   "execution_count": 9,
   "metadata": {
    "vscode": {
     "languageId": "r"
    }
   },
   "outputs": [
    {
     "data": {
      "text/html": [
       "<table class=\"dataframe\">\n",
       "<caption>A data.frame: 6 × 11</caption>\n",
       "<thead>\n",
       "\t<tr><th></th><th scope=col>Id</th><th scope=col>Cl.thickness</th><th scope=col>Cell.size</th><th scope=col>Cell.shape</th><th scope=col>Marg.adhesion</th><th scope=col>Epith.c.size</th><th scope=col>Bare.nuclei</th><th scope=col>Bl.cromatin</th><th scope=col>Normal.nucleoli</th><th scope=col>Mitoses</th><th scope=col>Class</th></tr>\n",
       "\t<tr><th></th><th scope=col>&lt;dbl&gt;</th><th scope=col>&lt;dbl&gt;</th><th scope=col>&lt;dbl&gt;</th><th scope=col>&lt;dbl&gt;</th><th scope=col>&lt;dbl&gt;</th><th scope=col>&lt;dbl&gt;</th><th scope=col>&lt;dbl&gt;</th><th scope=col>&lt;dbl&gt;</th><th scope=col>&lt;dbl&gt;</th><th scope=col>&lt;dbl&gt;</th><th scope=col>&lt;chr&gt;</th></tr>\n",
       "</thead>\n",
       "<tbody>\n",
       "\t<tr><th scope=row>1</th><td>1</td><td>5</td><td> 1</td><td> 1</td><td>1</td><td>2</td><td> 1</td><td>3</td><td>1</td><td>1</td><td>benign   </td></tr>\n",
       "\t<tr><th scope=row>2</th><td>2</td><td>5</td><td> 4</td><td> 4</td><td>5</td><td>7</td><td>10</td><td>3</td><td>2</td><td>1</td><td>benign   </td></tr>\n",
       "\t<tr><th scope=row>3</th><td>3</td><td>3</td><td> 1</td><td> 1</td><td>1</td><td>2</td><td> 2</td><td>3</td><td>1</td><td>1</td><td>benign   </td></tr>\n",
       "\t<tr><th scope=row>4</th><td>4</td><td>6</td><td> 8</td><td> 8</td><td>1</td><td>3</td><td> 4</td><td>3</td><td>7</td><td>1</td><td>benign   </td></tr>\n",
       "\t<tr><th scope=row>5</th><td>5</td><td>4</td><td> 1</td><td> 1</td><td>3</td><td>2</td><td> 1</td><td>3</td><td>1</td><td>1</td><td>benign   </td></tr>\n",
       "\t<tr><th scope=row>6</th><td>6</td><td>8</td><td>10</td><td>10</td><td>8</td><td>7</td><td>10</td><td>9</td><td>7</td><td>1</td><td>malignant</td></tr>\n",
       "</tbody>\n",
       "</table>\n"
      ],
      "text/latex": [
       "A data.frame: 6 × 11\n",
       "\\begin{tabular}{r|lllllllllll}\n",
       "  & Id & Cl.thickness & Cell.size & Cell.shape & Marg.adhesion & Epith.c.size & Bare.nuclei & Bl.cromatin & Normal.nucleoli & Mitoses & Class\\\\\n",
       "  & <dbl> & <dbl> & <dbl> & <dbl> & <dbl> & <dbl> & <dbl> & <dbl> & <dbl> & <dbl> & <chr>\\\\\n",
       "\\hline\n",
       "\t1 & 1 & 5 &  1 &  1 & 1 & 2 &  1 & 3 & 1 & 1 & benign   \\\\\n",
       "\t2 & 2 & 5 &  4 &  4 & 5 & 7 & 10 & 3 & 2 & 1 & benign   \\\\\n",
       "\t3 & 3 & 3 &  1 &  1 & 1 & 2 &  2 & 3 & 1 & 1 & benign   \\\\\n",
       "\t4 & 4 & 6 &  8 &  8 & 1 & 3 &  4 & 3 & 7 & 1 & benign   \\\\\n",
       "\t5 & 5 & 4 &  1 &  1 & 3 & 2 &  1 & 3 & 1 & 1 & benign   \\\\\n",
       "\t6 & 6 & 8 & 10 & 10 & 8 & 7 & 10 & 9 & 7 & 1 & malignant\\\\\n",
       "\\end{tabular}\n"
      ],
      "text/markdown": [
       "\n",
       "A data.frame: 6 × 11\n",
       "\n",
       "| <!--/--> | Id &lt;dbl&gt; | Cl.thickness &lt;dbl&gt; | Cell.size &lt;dbl&gt; | Cell.shape &lt;dbl&gt; | Marg.adhesion &lt;dbl&gt; | Epith.c.size &lt;dbl&gt; | Bare.nuclei &lt;dbl&gt; | Bl.cromatin &lt;dbl&gt; | Normal.nucleoli &lt;dbl&gt; | Mitoses &lt;dbl&gt; | Class &lt;chr&gt; |\n",
       "|---|---|---|---|---|---|---|---|---|---|---|---|\n",
       "| 1 | 1 | 5 |  1 |  1 | 1 | 2 |  1 | 3 | 1 | 1 | benign    |\n",
       "| 2 | 2 | 5 |  4 |  4 | 5 | 7 | 10 | 3 | 2 | 1 | benign    |\n",
       "| 3 | 3 | 3 |  1 |  1 | 1 | 2 |  2 | 3 | 1 | 1 | benign    |\n",
       "| 4 | 4 | 6 |  8 |  8 | 1 | 3 |  4 | 3 | 7 | 1 | benign    |\n",
       "| 5 | 5 | 4 |  1 |  1 | 3 | 2 |  1 | 3 | 1 | 1 | benign    |\n",
       "| 6 | 6 | 8 | 10 | 10 | 8 | 7 | 10 | 9 | 7 | 1 | malignant |\n",
       "\n"
      ],
      "text/plain": [
       "  Id Cl.thickness Cell.size Cell.shape Marg.adhesion Epith.c.size Bare.nuclei\n",
       "1 1  5             1         1         1             2             1         \n",
       "2 2  5             4         4         5             7            10         \n",
       "3 3  3             1         1         1             2             2         \n",
       "4 4  6             8         8         1             3             4         \n",
       "5 5  4             1         1         3             2             1         \n",
       "6 6  8            10        10         8             7            10         \n",
       "  Bl.cromatin Normal.nucleoli Mitoses Class    \n",
       "1 3           1               1       benign   \n",
       "2 3           2               1       benign   \n",
       "3 3           1               1       benign   \n",
       "4 3           7               1       benign   \n",
       "5 3           1               1       benign   \n",
       "6 9           7               1       malignant"
      ]
     },
     "metadata": {},
     "output_type": "display_data"
    }
   ],
   "source": [
    "### Leitura dos dados\n",
    "\n",
    "temp_dados <- read.csv(\"databases/1 - Cancer de Mama - Dados.csv\")\n",
    "\n",
    "head(temp_dados)"
   ]
  },
  {
   "cell_type": "code",
   "execution_count": 15,
   "metadata": {
    "vscode": {
     "languageId": "r"
    }
   },
   "outputs": [
    {
     "name": "stdout",
     "output_type": "stream",
     "text": [
      "\n",
      " iter imp variable\n",
      "  1   1\n",
      "  1   2\n",
      "  1   3\n",
      "  1   4\n",
      "  1   5\n",
      "  2   1\n",
      "  2   2\n",
      "  2   3\n",
      "  2   4\n",
      "  2   5\n",
      "  3   1\n",
      "  3   2\n",
      "  3   3\n",
      "  3   4\n",
      "  3   5\n",
      "  4   1\n",
      "  4   2\n",
      "  4   3\n",
      "  4   4\n",
      "  4   5\n",
      "  5   1\n",
      "  5   2\n",
      "  5   3\n",
      "  5   4\n",
      "  5   5\n"
     ]
    },
    {
     "name": "stderr",
     "output_type": "stream",
     "text": [
      "Warning message:\n",
      "\"Number of logged events: 1\"\n"
     ]
    }
   ],
   "source": [
    "#tratando o ID e valores faltantes\n",
    "set.seed(123) \n",
    "temp_dados$Id <- NULL\n",
    "imp <- mice(temp_dados)\n",
    "dados <- complete(imp, 1) # pq 1?"
   ]
  },
  {
   "cell_type": "code",
   "execution_count": 17,
   "metadata": {
    "vscode": {
     "languageId": "r"
    }
   },
   "outputs": [
    {
     "data": {
      "text/plain": [
       "Neural Network \n",
       "\n",
       "560 samples\n",
       "  9 predictor\n",
       "  2 classes: 'benign', 'malignant' \n",
       "\n",
       "No pre-processing\n",
       "Resampling: Bootstrapped (25 reps) \n",
       "Summary of sample sizes: 560, 560, 560, 560, 560, 560, ... \n",
       "Resampling results across tuning parameters:\n",
       "\n",
       "  size  decay  Accuracy   Kappa    \n",
       "  1     0e+00  0.9023357  0.7486937\n",
       "  1     1e-04  0.9412348  0.8589124\n",
       "  1     1e-01  0.9539669  0.8992057\n",
       "  3     0e+00  0.9533491  0.8970306\n",
       "  3     1e-04  0.9523401  0.8947772\n",
       "  3     1e-01  0.9528485  0.8949808\n",
       "  5     0e+00  0.9366896  0.8531898\n",
       "  5     1e-04  0.9494210  0.8871458\n",
       "  5     1e-01  0.9513048  0.8908209\n",
       "\n",
       "Accuracy was used to select the optimal model using the largest value.\n",
       "The final values used for the model were size = 1 and decay = 0.1."
      ]
     },
     "metadata": {},
     "output_type": "display_data"
    }
   ],
   "source": [
    "#criando bases de treino e teste com 80%/20%\n",
    "set.seed(123)\n",
    "indices <- createDataPartition(dados$Class, p = 0.8, list = FALSE)\n",
    "treino <- dados[indices, ]\n",
    "teste <- dados[-indices, ]\n",
    "\n",
    "#treinando o modelo com o hold-out\n",
    "set.seed(123)\n",
    "rna <- train(Class ~ ., data = treino, method = \"nnet\", trace = FALSE)\n",
    "rna"
   ]
  },
  {
   "cell_type": "code",
   "execution_count": 18,
   "metadata": {
    "vscode": {
     "languageId": "r"
    }
   },
   "outputs": [
    {
     "data": {
      "text/plain": [
       "Confusion Matrix and Statistics\n",
       "\n",
       "           Reference\n",
       "Prediction  benign malignant\n",
       "  benign        88         1\n",
       "  malignant      3        47\n",
       "                                         \n",
       "               Accuracy : 0.9712         \n",
       "                 95% CI : (0.928, 0.9921)\n",
       "    No Information Rate : 0.6547         \n",
       "    P-Value [Acc > NIR] : <2e-16         \n",
       "                                         \n",
       "                  Kappa : 0.937          \n",
       "                                         \n",
       " Mcnemar's Test P-Value : 0.6171         \n",
       "                                         \n",
       "            Sensitivity : 0.9670         \n",
       "            Specificity : 0.9792         \n",
       "         Pos Pred Value : 0.9888         \n",
       "         Neg Pred Value : 0.9400         \n",
       "             Prevalence : 0.6547         \n",
       "         Detection Rate : 0.6331         \n",
       "   Detection Prevalence : 0.6403         \n",
       "      Balanced Accuracy : 0.9731         \n",
       "                                         \n",
       "       'Positive' Class : benign         \n",
       "                                         "
      ]
     },
     "metadata": {},
     "output_type": "display_data"
    }
   ],
   "source": [
    "#predicoes  dos valores do conjunto de teste\n",
    "predict_rna <- predict(rna, teste)\n",
    "\n",
    "#matriz de confusão\n",
    "confusionMatrix(predict_rna, as.factor(teste$Class))"
   ]
  },
  {
   "cell_type": "code",
   "execution_count": 22,
   "metadata": {
    "vscode": {
     "languageId": "r"
    }
   },
   "outputs": [
    {
     "data": {
      "text/plain": [
       "Confusion Matrix and Statistics\n",
       "\n",
       "           Reference\n",
       "Prediction  benign malignant\n",
       "  benign        88         1\n",
       "  malignant      3        47\n",
       "                                         \n",
       "               Accuracy : 0.9712         \n",
       "                 95% CI : (0.928, 0.9921)\n",
       "    No Information Rate : 0.6547         \n",
       "    P-Value [Acc > NIR] : <2e-16         \n",
       "                                         \n",
       "                  Kappa : 0.937          \n",
       "                                         \n",
       " Mcnemar's Test P-Value : 0.6171         \n",
       "                                         \n",
       "            Sensitivity : 0.9670         \n",
       "            Specificity : 0.9792         \n",
       "         Pos Pred Value : 0.9888         \n",
       "         Neg Pred Value : 0.9400         \n",
       "             Prevalence : 0.6547         \n",
       "         Detection Rate : 0.6331         \n",
       "   Detection Prevalence : 0.6403         \n",
       "      Balanced Accuracy : 0.9731         \n",
       "                                         \n",
       "       'Positive' Class : benign         \n",
       "                                         "
      ]
     },
     "metadata": {},
     "output_type": "display_data"
    }
   ],
   "source": [
    "#usando o Cross-validation\n",
    "\n",
    "#indica o metodo cv e numeto de folders 10\n",
    "ctrl <- trainControl(method = \"cv\", number = 10)\n",
    "\n",
    "#executa a RNA com esse controle\n",
    "set.seed(1234)\n",
    "rna <- train(Class ~ ., data = treino, method = \"nnet\",\n",
    "              trace = FALSE, trControl = ctrl)\n",
    "\n",
    "predict_rna <- predict(rna, teste)\n",
    "confusionMatrix(predict_rna, as.factor(teste$Class))"
   ]
  },
  {
   "cell_type": "code",
   "execution_count": 23,
   "metadata": {
    "vscode": {
     "languageId": "r"
    }
   },
   "outputs": [],
   "source": [
    "#parametrizacao da rna\n",
    "#size, decay\n",
    "grid <- expand.grid(size = seq(from = 1, to = 45, by = 10),\n",
    "                    decay = seq(from = 0.1, to = 0.9, by = 0.3))\n",
    "\n",
    "set.seed(123)\n",
    "rna <- train(form = Class ~ ., data = treino, method = \"nnet\",\n",
    "             tuneGrid = grid, trControl = ctrl, maxit = 2000, trace = FALSE)"
   ]
  },
  {
   "cell_type": "code",
   "execution_count": 24,
   "metadata": {
    "vscode": {
     "languageId": "r"
    }
   },
   "outputs": [
    {
     "data": {
      "text/plain": [
       "Neural Network \n",
       "\n",
       "560 samples\n",
       "  9 predictor\n",
       "  2 classes: 'benign', 'malignant' \n",
       "\n",
       "No pre-processing\n",
       "Resampling: Cross-Validated (10 fold) \n",
       "Summary of sample sizes: 503, 503, 504, 505, 504, 505, ... \n",
       "Resampling results across tuning parameters:\n",
       "\n",
       "  size  decay  Accuracy   Kappa    \n",
       "   1    0.1    0.9641513  0.9217206\n",
       "   1    0.4    0.9606123  0.9140039\n",
       "   1    0.7    0.9605799  0.9140557\n",
       "  11    0.1    0.9516513  0.8929857\n",
       "  11    0.4    0.9623667  0.9175047\n",
       "  11    0.7    0.9623656  0.9175021\n",
       "  21    0.1    0.9533721  0.8966760\n",
       "  21    0.4    0.9641524  0.9214360\n",
       "  21    0.7    0.9623656  0.9173021\n",
       "  31    0.1    0.9534359  0.8972229\n",
       "  31    0.4    0.9605485  0.9134337\n",
       "  31    0.7    0.9641200  0.9213982\n",
       "  41    0.1    0.9588591  0.9092106\n",
       "  41    0.4    0.9641200  0.9214069\n",
       "  41    0.7    0.9659381  0.9254693\n",
       "\n",
       "Accuracy was used to select the optimal model using the largest value.\n",
       "The final values used for the model were size = 41 and decay = 0.7."
      ]
     },
     "metadata": {},
     "output_type": "display_data"
    }
   ],
   "source": [
    "rna"
   ]
  },
  {
   "cell_type": "code",
   "execution_count": 25,
   "metadata": {
    "vscode": {
     "languageId": "r"
    }
   },
   "outputs": [
    {
     "data": {
      "text/plain": [
       "Confusion Matrix and Statistics\n",
       "\n",
       "           Reference\n",
       "Prediction  benign malignant\n",
       "  benign        89         1\n",
       "  malignant      2        47\n",
       "                                          \n",
       "               Accuracy : 0.9784          \n",
       "                 95% CI : (0.9382, 0.9955)\n",
       "    No Information Rate : 0.6547          \n",
       "    P-Value [Acc > NIR] : <2e-16          \n",
       "                                          \n",
       "                  Kappa : 0.9525          \n",
       "                                          \n",
       " Mcnemar's Test P-Value : 1               \n",
       "                                          \n",
       "            Sensitivity : 0.9780          \n",
       "            Specificity : 0.9792          \n",
       "         Pos Pred Value : 0.9889          \n",
       "         Neg Pred Value : 0.9592          \n",
       "             Prevalence : 0.6547          \n",
       "         Detection Rate : 0.6403          \n",
       "   Detection Prevalence : 0.6475          \n",
       "      Balanced Accuracy : 0.9786          \n",
       "                                          \n",
       "       'Positive' Class : benign          \n",
       "                                          "
      ]
     },
     "metadata": {},
     "output_type": "display_data"
    }
   ],
   "source": [
    "#fazendo a predicao no arquivo de teste\n",
    "predict_rna <- predict(rna, teste)\n",
    "confusionMatrix(predict_rna, as.factor(teste$Class))\n"
   ]
  },
  {
   "cell_type": "code",
   "execution_count": 26,
   "metadata": {
    "vscode": {
     "languageId": "r"
    }
   },
   "outputs": [
    {
     "data": {
      "text/html": [
       "<table class=\"dataframe\">\n",
       "<caption>A data.frame: 3 × 10</caption>\n",
       "<thead>\n",
       "\t<tr><th scope=col>Cl.thickness</th><th scope=col>Cell.size</th><th scope=col>Cell.shape</th><th scope=col>Marg.adhesion</th><th scope=col>Epith.c.size</th><th scope=col>Bare.nuclei</th><th scope=col>Bl.cromatin</th><th scope=col>Normal.nucleoli</th><th scope=col>Mitoses</th><th scope=col>Class</th></tr>\n",
       "\t<tr><th scope=col>&lt;dbl&gt;</th><th scope=col>&lt;dbl&gt;</th><th scope=col>&lt;dbl&gt;</th><th scope=col>&lt;dbl&gt;</th><th scope=col>&lt;dbl&gt;</th><th scope=col>&lt;dbl&gt;</th><th scope=col>&lt;dbl&gt;</th><th scope=col>&lt;dbl&gt;</th><th scope=col>&lt;dbl&gt;</th><th scope=col>&lt;chr&gt;</th></tr>\n",
       "</thead>\n",
       "<tbody>\n",
       "\t<tr><td>2</td><td>1</td><td>5</td><td>1</td><td>7</td><td>1</td><td>3</td><td>10</td><td>5</td><td>?</td></tr>\n",
       "\t<tr><td>2</td><td>3</td><td>4</td><td>5</td><td>3</td><td>1</td><td>3</td><td> 2</td><td>1</td><td>?</td></tr>\n",
       "\t<tr><td>7</td><td>1</td><td>1</td><td>5</td><td>2</td><td>2</td><td>2</td><td> 1</td><td>1</td><td>?</td></tr>\n",
       "</tbody>\n",
       "</table>\n"
      ],
      "text/latex": [
       "A data.frame: 3 × 10\n",
       "\\begin{tabular}{llllllllll}\n",
       " Cl.thickness & Cell.size & Cell.shape & Marg.adhesion & Epith.c.size & Bare.nuclei & Bl.cromatin & Normal.nucleoli & Mitoses & Class\\\\\n",
       " <dbl> & <dbl> & <dbl> & <dbl> & <dbl> & <dbl> & <dbl> & <dbl> & <dbl> & <chr>\\\\\n",
       "\\hline\n",
       "\t 2 & 1 & 5 & 1 & 7 & 1 & 3 & 10 & 5 & ?\\\\\n",
       "\t 2 & 3 & 4 & 5 & 3 & 1 & 3 &  2 & 1 & ?\\\\\n",
       "\t 7 & 1 & 1 & 5 & 2 & 2 & 2 &  1 & 1 & ?\\\\\n",
       "\\end{tabular}\n"
      ],
      "text/markdown": [
       "\n",
       "A data.frame: 3 × 10\n",
       "\n",
       "| Cl.thickness &lt;dbl&gt; | Cell.size &lt;dbl&gt; | Cell.shape &lt;dbl&gt; | Marg.adhesion &lt;dbl&gt; | Epith.c.size &lt;dbl&gt; | Bare.nuclei &lt;dbl&gt; | Bl.cromatin &lt;dbl&gt; | Normal.nucleoli &lt;dbl&gt; | Mitoses &lt;dbl&gt; | Class &lt;chr&gt; |\n",
       "|---|---|---|---|---|---|---|---|---|---|\n",
       "| 2 | 1 | 5 | 1 | 7 | 1 | 3 | 10 | 5 | ? |\n",
       "| 2 | 3 | 4 | 5 | 3 | 1 | 3 |  2 | 1 | ? |\n",
       "| 7 | 1 | 1 | 5 | 2 | 2 | 2 |  1 | 1 | ? |\n",
       "\n"
      ],
      "text/plain": [
       "  Cl.thickness Cell.size Cell.shape Marg.adhesion Epith.c.size Bare.nuclei\n",
       "1 2            1         5          1             7            1          \n",
       "2 2            3         4          5             3            1          \n",
       "3 7            1         1          5             2            2          \n",
       "  Bl.cromatin Normal.nucleoli Mitoses Class\n",
       "1 3           10              5       ?    \n",
       "2 3            2              1       ?    \n",
       "3 2            1              1       ?    "
      ]
     },
     "metadata": {},
     "output_type": "display_data"
    },
    {
     "data": {
      "text/html": [
       "<table class=\"dataframe\">\n",
       "<caption>A data.frame: 3 × 10</caption>\n",
       "<thead>\n",
       "\t<tr><th scope=col>Cl.thickness</th><th scope=col>Cell.size</th><th scope=col>Cell.shape</th><th scope=col>Marg.adhesion</th><th scope=col>Epith.c.size</th><th scope=col>Bare.nuclei</th><th scope=col>Bl.cromatin</th><th scope=col>Normal.nucleoli</th><th scope=col>Mitoses</th><th scope=col>predict_rna</th></tr>\n",
       "\t<tr><th scope=col>&lt;dbl&gt;</th><th scope=col>&lt;dbl&gt;</th><th scope=col>&lt;dbl&gt;</th><th scope=col>&lt;dbl&gt;</th><th scope=col>&lt;dbl&gt;</th><th scope=col>&lt;dbl&gt;</th><th scope=col>&lt;dbl&gt;</th><th scope=col>&lt;dbl&gt;</th><th scope=col>&lt;dbl&gt;</th><th scope=col>&lt;fct&gt;</th></tr>\n",
       "</thead>\n",
       "<tbody>\n",
       "\t<tr><td>2</td><td>1</td><td>5</td><td>1</td><td>7</td><td>1</td><td>3</td><td>10</td><td>5</td><td>benign</td></tr>\n",
       "\t<tr><td>2</td><td>3</td><td>4</td><td>5</td><td>3</td><td>1</td><td>3</td><td> 2</td><td>1</td><td>benign</td></tr>\n",
       "\t<tr><td>7</td><td>1</td><td>1</td><td>5</td><td>2</td><td>2</td><td>2</td><td> 1</td><td>1</td><td>benign</td></tr>\n",
       "</tbody>\n",
       "</table>\n"
      ],
      "text/latex": [
       "A data.frame: 3 × 10\n",
       "\\begin{tabular}{llllllllll}\n",
       " Cl.thickness & Cell.size & Cell.shape & Marg.adhesion & Epith.c.size & Bare.nuclei & Bl.cromatin & Normal.nucleoli & Mitoses & predict\\_rna\\\\\n",
       " <dbl> & <dbl> & <dbl> & <dbl> & <dbl> & <dbl> & <dbl> & <dbl> & <dbl> & <fct>\\\\\n",
       "\\hline\n",
       "\t 2 & 1 & 5 & 1 & 7 & 1 & 3 & 10 & 5 & benign\\\\\n",
       "\t 2 & 3 & 4 & 5 & 3 & 1 & 3 &  2 & 1 & benign\\\\\n",
       "\t 7 & 1 & 1 & 5 & 2 & 2 & 2 &  1 & 1 & benign\\\\\n",
       "\\end{tabular}\n"
      ],
      "text/markdown": [
       "\n",
       "A data.frame: 3 × 10\n",
       "\n",
       "| Cl.thickness &lt;dbl&gt; | Cell.size &lt;dbl&gt; | Cell.shape &lt;dbl&gt; | Marg.adhesion &lt;dbl&gt; | Epith.c.size &lt;dbl&gt; | Bare.nuclei &lt;dbl&gt; | Bl.cromatin &lt;dbl&gt; | Normal.nucleoli &lt;dbl&gt; | Mitoses &lt;dbl&gt; | predict_rna &lt;fct&gt; |\n",
       "|---|---|---|---|---|---|---|---|---|---|\n",
       "| 2 | 1 | 5 | 1 | 7 | 1 | 3 | 10 | 5 | benign |\n",
       "| 2 | 3 | 4 | 5 | 3 | 1 | 3 |  2 | 1 | benign |\n",
       "| 7 | 1 | 1 | 5 | 2 | 2 | 2 |  1 | 1 | benign |\n",
       "\n"
      ],
      "text/plain": [
       "  Cl.thickness Cell.size Cell.shape Marg.adhesion Epith.c.size Bare.nuclei\n",
       "1 2            1         5          1             7            1          \n",
       "2 2            3         4          5             3            1          \n",
       "3 7            1         1          5             2            2          \n",
       "  Bl.cromatin Normal.nucleoli Mitoses predict_rna\n",
       "1 3           10              5       benign     \n",
       "2 3            2              1       benign     \n",
       "3 2            1              1       benign     "
      ]
     },
     "metadata": {},
     "output_type": "display_data"
    }
   ],
   "source": [
    "dados_novos_casos <- read.csv(\"databases/1 - Cancer de Mama - Dados - Novos Casos.csv\")\n",
    "dados_novos_casos$Id <- NULL\n",
    "View(dados_novos_casos)\n",
    "\n",
    "predict_rna <- predict(rna, dados_novos_casos)\n",
    "dados_novos_casos$Class <- NULL\n",
    "resultado <- cbind(dados_novos_casos, predict_rna)\n",
    "\n",
    "View(resultado)"
   ]
  }
 ],
 "metadata": {
  "kernelspec": {
   "display_name": "R",
   "language": "R",
   "name": "ir"
  },
  "language_info": {
   "codemirror_mode": "r",
   "file_extension": ".r",
   "mimetype": "text/x-r-source",
   "name": "R",
   "pygments_lexer": "r",
   "version": "4.4.1"
  }
 },
 "nbformat": 4,
 "nbformat_minor": 2
}
