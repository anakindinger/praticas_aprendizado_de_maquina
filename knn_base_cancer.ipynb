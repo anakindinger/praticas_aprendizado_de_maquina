{
 "cells": [
  {
   "cell_type": "markdown",
   "metadata": {},
   "source": [
    "*OBJETIVO: CLASSIFICAÇÃO DA BASE DE DADOS DE CANCER DE MAMA USANDO KNN*\n"
   ]
  },
  {
   "cell_type": "code",
   "execution_count": 4,
   "metadata": {
    "vscode": {
     "languageId": "r"
    }
   },
   "outputs": [
    {
     "name": "stderr",
     "output_type": "stream",
     "text": [
      "Instalando pacote em 'C:/Users/anaki/AppData/Local/R/win-library/4.4'\n",
      "(como 'lib' não foi especificado)\n",
      "\n"
     ]
    },
    {
     "name": "stdout",
     "output_type": "stream",
     "text": [
      "pacote 'e1071' desempacotado com sucesso e somas MD5 verificadas\n"
     ]
    },
    {
     "name": "stderr",
     "output_type": "stream",
     "text": [
      "Warning message:\n",
      "\"não foi possível remover a instalação prévia do pacote 'e1071'\"\n",
      "Warning message in file.copy(savedcopy, lib, recursive = TRUE):\n",
      "\"problem copying C:\\Users\\anaki\\AppData\\Local\\R\\win-library\\4.4\\00LOCK\\e1071\\libs\\x64\\e1071.dll to C:\\Users\\anaki\\AppData\\Local\\R\\win-library\\4.4\\e1071\\libs\\x64\\e1071.dll: Permission denied\"\n",
      "Warning message:\n",
      "\"'e1071' restaurado\"\n"
     ]
    },
    {
     "name": "stdout",
     "output_type": "stream",
     "text": [
      "\n",
      "Os pacotes binários baixados estão em\n",
      "\tC:\\Users\\anaki\\AppData\\Local\\Temp\\RtmpshPOWf\\downloaded_packages\n"
     ]
    },
    {
     "name": "stderr",
     "output_type": "stream",
     "text": [
      "Instalando pacote em 'C:/Users/anaki/AppData/Local/R/win-library/4.4'\n",
      "(como 'lib' não foi especificado)\n",
      "\n"
     ]
    },
    {
     "name": "stdout",
     "output_type": "stream",
     "text": [
      "pacote 'caret' desempacotado com sucesso e somas MD5 verificadas\n"
     ]
    },
    {
     "name": "stderr",
     "output_type": "stream",
     "text": [
      "Warning message:\n",
      "\"não foi possível remover a instalação prévia do pacote 'caret'\"\n",
      "Warning message in file.copy(savedcopy, lib, recursive = TRUE):\n",
      "\"problem copying C:\\Users\\anaki\\AppData\\Local\\R\\win-library\\4.4\\00LOCK\\caret\\libs\\x64\\caret.dll to C:\\Users\\anaki\\AppData\\Local\\R\\win-library\\4.4\\caret\\libs\\x64\\caret.dll: Permission denied\"\n",
      "Warning message:\n",
      "\"'caret' restaurado\"\n"
     ]
    },
    {
     "name": "stdout",
     "output_type": "stream",
     "text": [
      "\n",
      "Os pacotes binários baixados estão em\n",
      "\tC:\\Users\\anaki\\AppData\\Local\\Temp\\RtmpshPOWf\\downloaded_packages\n"
     ]
    },
    {
     "name": "stderr",
     "output_type": "stream",
     "text": [
      "Carregando pacotes exigidos: ggplot2\n",
      "\n",
      "Carregando pacotes exigidos: lattice\n",
      "\n",
      "\n",
      "Anexando pacote: 'Metrics'\n",
      "\n",
      "\n",
      "Os seguintes objetos são mascarados por 'package:caret':\n",
      "\n",
      "    precision, recall\n",
      "\n",
      "\n"
     ]
    }
   ],
   "source": [
    "### Pacotes necessarios:\n",
    "install.packages(\"e1071\")\n",
    "install.packages(\"caret\")\n",
    "library(\"caret\")\n"
   ]
  },
  {
   "cell_type": "code",
   "execution_count": 2,
   "metadata": {
    "vscode": {
     "languageId": "r"
    }
   },
   "outputs": [
    {
     "data": {
      "text/html": [
       "<table class=\"dataframe\">\n",
       "<caption>A data.frame: 6 × 11</caption>\n",
       "<thead>\n",
       "\t<tr><th></th><th scope=col>Id</th><th scope=col>Cl.thickness</th><th scope=col>Cell.size</th><th scope=col>Cell.shape</th><th scope=col>Marg.adhesion</th><th scope=col>Epith.c.size</th><th scope=col>Bare.nuclei</th><th scope=col>Bl.cromatin</th><th scope=col>Normal.nucleoli</th><th scope=col>Mitoses</th><th scope=col>Class</th></tr>\n",
       "\t<tr><th></th><th scope=col>&lt;dbl&gt;</th><th scope=col>&lt;dbl&gt;</th><th scope=col>&lt;dbl&gt;</th><th scope=col>&lt;dbl&gt;</th><th scope=col>&lt;dbl&gt;</th><th scope=col>&lt;dbl&gt;</th><th scope=col>&lt;dbl&gt;</th><th scope=col>&lt;dbl&gt;</th><th scope=col>&lt;dbl&gt;</th><th scope=col>&lt;dbl&gt;</th><th scope=col>&lt;chr&gt;</th></tr>\n",
       "</thead>\n",
       "<tbody>\n",
       "\t<tr><th scope=row>1</th><td>1</td><td>5</td><td> 1</td><td> 1</td><td>1</td><td>2</td><td> 1</td><td>3</td><td>1</td><td>1</td><td>benign   </td></tr>\n",
       "\t<tr><th scope=row>2</th><td>2</td><td>5</td><td> 4</td><td> 4</td><td>5</td><td>7</td><td>10</td><td>3</td><td>2</td><td>1</td><td>benign   </td></tr>\n",
       "\t<tr><th scope=row>3</th><td>3</td><td>3</td><td> 1</td><td> 1</td><td>1</td><td>2</td><td> 2</td><td>3</td><td>1</td><td>1</td><td>benign   </td></tr>\n",
       "\t<tr><th scope=row>4</th><td>4</td><td>6</td><td> 8</td><td> 8</td><td>1</td><td>3</td><td> 4</td><td>3</td><td>7</td><td>1</td><td>benign   </td></tr>\n",
       "\t<tr><th scope=row>5</th><td>5</td><td>4</td><td> 1</td><td> 1</td><td>3</td><td>2</td><td> 1</td><td>3</td><td>1</td><td>1</td><td>benign   </td></tr>\n",
       "\t<tr><th scope=row>6</th><td>6</td><td>8</td><td>10</td><td>10</td><td>8</td><td>7</td><td>10</td><td>9</td><td>7</td><td>1</td><td>malignant</td></tr>\n",
       "</tbody>\n",
       "</table>\n"
      ],
      "text/latex": [
       "A data.frame: 6 × 11\n",
       "\\begin{tabular}{r|lllllllllll}\n",
       "  & Id & Cl.thickness & Cell.size & Cell.shape & Marg.adhesion & Epith.c.size & Bare.nuclei & Bl.cromatin & Normal.nucleoli & Mitoses & Class\\\\\n",
       "  & <dbl> & <dbl> & <dbl> & <dbl> & <dbl> & <dbl> & <dbl> & <dbl> & <dbl> & <dbl> & <chr>\\\\\n",
       "\\hline\n",
       "\t1 & 1 & 5 &  1 &  1 & 1 & 2 &  1 & 3 & 1 & 1 & benign   \\\\\n",
       "\t2 & 2 & 5 &  4 &  4 & 5 & 7 & 10 & 3 & 2 & 1 & benign   \\\\\n",
       "\t3 & 3 & 3 &  1 &  1 & 1 & 2 &  2 & 3 & 1 & 1 & benign   \\\\\n",
       "\t4 & 4 & 6 &  8 &  8 & 1 & 3 &  4 & 3 & 7 & 1 & benign   \\\\\n",
       "\t5 & 5 & 4 &  1 &  1 & 3 & 2 &  1 & 3 & 1 & 1 & benign   \\\\\n",
       "\t6 & 6 & 8 & 10 & 10 & 8 & 7 & 10 & 9 & 7 & 1 & malignant\\\\\n",
       "\\end{tabular}\n"
      ],
      "text/markdown": [
       "\n",
       "A data.frame: 6 × 11\n",
       "\n",
       "| <!--/--> | Id &lt;dbl&gt; | Cl.thickness &lt;dbl&gt; | Cell.size &lt;dbl&gt; | Cell.shape &lt;dbl&gt; | Marg.adhesion &lt;dbl&gt; | Epith.c.size &lt;dbl&gt; | Bare.nuclei &lt;dbl&gt; | Bl.cromatin &lt;dbl&gt; | Normal.nucleoli &lt;dbl&gt; | Mitoses &lt;dbl&gt; | Class &lt;chr&gt; |\n",
       "|---|---|---|---|---|---|---|---|---|---|---|---|\n",
       "| 1 | 1 | 5 |  1 |  1 | 1 | 2 |  1 | 3 | 1 | 1 | benign    |\n",
       "| 2 | 2 | 5 |  4 |  4 | 5 | 7 | 10 | 3 | 2 | 1 | benign    |\n",
       "| 3 | 3 | 3 |  1 |  1 | 1 | 2 |  2 | 3 | 1 | 1 | benign    |\n",
       "| 4 | 4 | 6 |  8 |  8 | 1 | 3 |  4 | 3 | 7 | 1 | benign    |\n",
       "| 5 | 5 | 4 |  1 |  1 | 3 | 2 |  1 | 3 | 1 | 1 | benign    |\n",
       "| 6 | 6 | 8 | 10 | 10 | 8 | 7 | 10 | 9 | 7 | 1 | malignant |\n",
       "\n"
      ],
      "text/plain": [
       "  Id Cl.thickness Cell.size Cell.shape Marg.adhesion Epith.c.size Bare.nuclei\n",
       "1 1  5             1         1         1             2             1         \n",
       "2 2  5             4         4         5             7            10         \n",
       "3 3  3             1         1         1             2             2         \n",
       "4 4  6             8         8         1             3             4         \n",
       "5 5  4             1         1         3             2             1         \n",
       "6 6  8            10        10         8             7            10         \n",
       "  Bl.cromatin Normal.nucleoli Mitoses Class    \n",
       "1 3           1               1       benign   \n",
       "2 3           2               1       benign   \n",
       "3 3           1               1       benign   \n",
       "4 3           7               1       benign   \n",
       "5 3           1               1       benign   \n",
       "6 9           7               1       malignant"
      ]
     },
     "metadata": {},
     "output_type": "display_data"
    }
   ],
   "source": [
    "\n",
    "### Leitura dos dados\n",
    "\n",
    "dados <- read.csv(\"databases/1 - Cancer de Mama - Dados.csv\")\n",
    "\n",
    "head(dados)\n"
   ]
  },
  {
   "cell_type": "code",
   "execution_count": 3,
   "metadata": {
    "vscode": {
     "languageId": "r"
    }
   },
   "outputs": [
    {
     "data": {
      "text/html": [
       "<table class=\"dataframe\">\n",
       "<caption>A data.frame: 6 × 10</caption>\n",
       "<thead>\n",
       "\t<tr><th></th><th scope=col>Cl.thickness</th><th scope=col>Cell.size</th><th scope=col>Cell.shape</th><th scope=col>Marg.adhesion</th><th scope=col>Epith.c.size</th><th scope=col>Bare.nuclei</th><th scope=col>Bl.cromatin</th><th scope=col>Normal.nucleoli</th><th scope=col>Mitoses</th><th scope=col>Class</th></tr>\n",
       "\t<tr><th></th><th scope=col>&lt;dbl&gt;</th><th scope=col>&lt;dbl&gt;</th><th scope=col>&lt;dbl&gt;</th><th scope=col>&lt;dbl&gt;</th><th scope=col>&lt;dbl&gt;</th><th scope=col>&lt;dbl&gt;</th><th scope=col>&lt;dbl&gt;</th><th scope=col>&lt;dbl&gt;</th><th scope=col>&lt;dbl&gt;</th><th scope=col>&lt;chr&gt;</th></tr>\n",
       "</thead>\n",
       "<tbody>\n",
       "\t<tr><th scope=row>1</th><td>5</td><td> 1</td><td> 1</td><td>1</td><td>2</td><td> 1</td><td>3</td><td>1</td><td>1</td><td>benign   </td></tr>\n",
       "\t<tr><th scope=row>2</th><td>5</td><td> 4</td><td> 4</td><td>5</td><td>7</td><td>10</td><td>3</td><td>2</td><td>1</td><td>benign   </td></tr>\n",
       "\t<tr><th scope=row>3</th><td>3</td><td> 1</td><td> 1</td><td>1</td><td>2</td><td> 2</td><td>3</td><td>1</td><td>1</td><td>benign   </td></tr>\n",
       "\t<tr><th scope=row>4</th><td>6</td><td> 8</td><td> 8</td><td>1</td><td>3</td><td> 4</td><td>3</td><td>7</td><td>1</td><td>benign   </td></tr>\n",
       "\t<tr><th scope=row>5</th><td>4</td><td> 1</td><td> 1</td><td>3</td><td>2</td><td> 1</td><td>3</td><td>1</td><td>1</td><td>benign   </td></tr>\n",
       "\t<tr><th scope=row>6</th><td>8</td><td>10</td><td>10</td><td>8</td><td>7</td><td>10</td><td>9</td><td>7</td><td>1</td><td>malignant</td></tr>\n",
       "</tbody>\n",
       "</table>\n"
      ],
      "text/latex": [
       "A data.frame: 6 × 10\n",
       "\\begin{tabular}{r|llllllllll}\n",
       "  & Cl.thickness & Cell.size & Cell.shape & Marg.adhesion & Epith.c.size & Bare.nuclei & Bl.cromatin & Normal.nucleoli & Mitoses & Class\\\\\n",
       "  & <dbl> & <dbl> & <dbl> & <dbl> & <dbl> & <dbl> & <dbl> & <dbl> & <dbl> & <chr>\\\\\n",
       "\\hline\n",
       "\t1 & 5 &  1 &  1 & 1 & 2 &  1 & 3 & 1 & 1 & benign   \\\\\n",
       "\t2 & 5 &  4 &  4 & 5 & 7 & 10 & 3 & 2 & 1 & benign   \\\\\n",
       "\t3 & 3 &  1 &  1 & 1 & 2 &  2 & 3 & 1 & 1 & benign   \\\\\n",
       "\t4 & 6 &  8 &  8 & 1 & 3 &  4 & 3 & 7 & 1 & benign   \\\\\n",
       "\t5 & 4 &  1 &  1 & 3 & 2 &  1 & 3 & 1 & 1 & benign   \\\\\n",
       "\t6 & 8 & 10 & 10 & 8 & 7 & 10 & 9 & 7 & 1 & malignant\\\\\n",
       "\\end{tabular}\n"
      ],
      "text/markdown": [
       "\n",
       "A data.frame: 6 × 10\n",
       "\n",
       "| <!--/--> | Cl.thickness &lt;dbl&gt; | Cell.size &lt;dbl&gt; | Cell.shape &lt;dbl&gt; | Marg.adhesion &lt;dbl&gt; | Epith.c.size &lt;dbl&gt; | Bare.nuclei &lt;dbl&gt; | Bl.cromatin &lt;dbl&gt; | Normal.nucleoli &lt;dbl&gt; | Mitoses &lt;dbl&gt; | Class &lt;chr&gt; |\n",
       "|---|---|---|---|---|---|---|---|---|---|---|\n",
       "| 1 | 5 |  1 |  1 | 1 | 2 |  1 | 3 | 1 | 1 | benign    |\n",
       "| 2 | 5 |  4 |  4 | 5 | 7 | 10 | 3 | 2 | 1 | benign    |\n",
       "| 3 | 3 |  1 |  1 | 1 | 2 |  2 | 3 | 1 | 1 | benign    |\n",
       "| 4 | 6 |  8 |  8 | 1 | 3 |  4 | 3 | 7 | 1 | benign    |\n",
       "| 5 | 4 |  1 |  1 | 3 | 2 |  1 | 3 | 1 | 1 | benign    |\n",
       "| 6 | 8 | 10 | 10 | 8 | 7 | 10 | 9 | 7 | 1 | malignant |\n",
       "\n"
      ],
      "text/plain": [
       "  Cl.thickness Cell.size Cell.shape Marg.adhesion Epith.c.size Bare.nuclei\n",
       "1 5             1         1         1             2             1         \n",
       "2 5             4         4         5             7            10         \n",
       "3 3             1         1         1             2             2         \n",
       "4 6             8         8         1             3             4         \n",
       "5 4             1         1         3             2             1         \n",
       "6 8            10        10         8             7            10         \n",
       "  Bl.cromatin Normal.nucleoli Mitoses Class    \n",
       "1 3           1               1       benign   \n",
       "2 3           2               1       benign   \n",
       "3 3           1               1       benign   \n",
       "4 3           7               1       benign   \n",
       "5 3           1               1       benign   \n",
       "6 9           7               1       malignant"
      ]
     },
     "metadata": {},
     "output_type": "display_data"
    }
   ],
   "source": [
    "### retira o atributo ID\n",
    "\n",
    "dados <- dados[,-1]\n",
    "\n",
    "head(dados)\n"
   ]
  },
  {
   "cell_type": "code",
   "execution_count": 6,
   "metadata": {
    "vscode": {
     "languageId": "r"
    }
   },
   "outputs": [],
   "source": [
    "## Cria arquivos de treino e teste (80%20%) das linhas randomizadas\n",
    "\n",
    "set.seed(2034)\n",
    "ran <- sample(1:nrow(dados),0.8*nrow(dados))\n",
    "treino <- dados[ran,]\n",
    "teste <- dados[-ran,]"
   ]
  },
  {
   "cell_type": "code",
   "execution_count": 8,
   "metadata": {
    "vscode": {
     "languageId": "r"
    }
   },
   "outputs": [
    {
     "data": {
      "text/plain": [
       "k-Nearest Neighbors \n",
       "\n",
       "559 samples\n",
       "  9 predictor\n",
       "  2 classes: 'benign', 'malignant' \n",
       "\n",
       "No pre-processing\n",
       "Resampling: Bootstrapped (25 reps) \n",
       "Summary of sample sizes: 559, 559, 559, 559, 559, 559, ... \n",
       "Resampling results across tuning parameters:\n",
       "\n",
       "  k  Accuracy   Kappa    \n",
       "  1  0.9468641  0.8821989\n",
       "  3  0.9508875  0.8913603\n",
       "  5  0.9588129  0.9090424\n",
       "  7  0.9610066  0.9141424\n",
       "  9  0.9626012  0.9176942\n",
       "\n",
       "Accuracy was used to select the optimal model using the largest value.\n",
       "The final value used for the model was k = 9."
      ]
     },
     "metadata": {},
     "output_type": "display_data"
    }
   ],
   "source": [
    "## faz um grid com valores para K e executa o knn\n",
    "\n",
    "tuneGrid <- expand.grid(k = c(1,3,5,7,9))\n",
    "\n",
    "set.seed(2034)\n",
    "knn <- train(Class~.,data=treino, method=\"knn\", tuneGrid=tuneGrid)\n",
    "knn"
   ]
  },
  {
   "cell_type": "code",
   "execution_count": 9,
   "metadata": {
    "vscode": {
     "languageId": "r"
    }
   },
   "outputs": [
    {
     "data": {
      "text/plain": [
       "Confusion Matrix and Statistics\n",
       "\n",
       "           Reference\n",
       "Prediction  benign malignant\n",
       "  benign        95         1\n",
       "  malignant      3        41\n",
       "                                          \n",
       "               Accuracy : 0.9714          \n",
       "                 95% CI : (0.9285, 0.9922)\n",
       "    No Information Rate : 0.7             \n",
       "    P-Value [Acc > NIR] : <2e-16          \n",
       "                                          \n",
       "                  Kappa : 0.9329          \n",
       "                                          \n",
       " Mcnemar's Test P-Value : 0.6171          \n",
       "                                          \n",
       "            Sensitivity : 0.9694          \n",
       "            Specificity : 0.9762          \n",
       "         Pos Pred Value : 0.9896          \n",
       "         Neg Pred Value : 0.9318          \n",
       "             Prevalence : 0.7000          \n",
       "         Detection Rate : 0.6786          \n",
       "   Detection Prevalence : 0.6857          \n",
       "      Balanced Accuracy : 0.9728          \n",
       "                                          \n",
       "       'Positive' Class : benign          \n",
       "                                          "
      ]
     },
     "metadata": {},
     "output_type": "display_data"
    }
   ],
   "source": [
    "\n",
    "## Faz a predição e mostra a matriz de confusão\n",
    "\n",
    "predict_knn <- predict(knn,teste)\n",
    "confusionMatrix(predict_knn, as.factor(teste$Class))\n"
   ]
  },
  {
   "cell_type": "code",
   "execution_count": 11,
   "metadata": {
    "vscode": {
     "languageId": "r"
    }
   },
   "outputs": [
    {
     "data": {
      "text/html": [
       "<table class=\"dataframe\">\n",
       "<caption>A data.frame: 3 × 10</caption>\n",
       "<thead>\n",
       "\t<tr><th scope=col>Cl.thickness</th><th scope=col>Cell.size</th><th scope=col>Cell.shape</th><th scope=col>Marg.adhesion</th><th scope=col>Epith.c.size</th><th scope=col>Bare.nuclei</th><th scope=col>Bl.cromatin</th><th scope=col>Normal.nucleoli</th><th scope=col>Mitoses</th><th scope=col>Class</th></tr>\n",
       "\t<tr><th scope=col>&lt;dbl&gt;</th><th scope=col>&lt;dbl&gt;</th><th scope=col>&lt;dbl&gt;</th><th scope=col>&lt;dbl&gt;</th><th scope=col>&lt;dbl&gt;</th><th scope=col>&lt;dbl&gt;</th><th scope=col>&lt;dbl&gt;</th><th scope=col>&lt;dbl&gt;</th><th scope=col>&lt;dbl&gt;</th><th scope=col>&lt;chr&gt;</th></tr>\n",
       "</thead>\n",
       "<tbody>\n",
       "\t<tr><td>2</td><td>1</td><td>5</td><td>1</td><td>7</td><td>1</td><td>3</td><td>10</td><td>5</td><td>?</td></tr>\n",
       "\t<tr><td>2</td><td>3</td><td>4</td><td>5</td><td>3</td><td>1</td><td>3</td><td> 2</td><td>1</td><td>?</td></tr>\n",
       "\t<tr><td>7</td><td>1</td><td>1</td><td>5</td><td>2</td><td>2</td><td>2</td><td> 1</td><td>1</td><td>?</td></tr>\n",
       "</tbody>\n",
       "</table>\n"
      ],
      "text/latex": [
       "A data.frame: 3 × 10\n",
       "\\begin{tabular}{llllllllll}\n",
       " Cl.thickness & Cell.size & Cell.shape & Marg.adhesion & Epith.c.size & Bare.nuclei & Bl.cromatin & Normal.nucleoli & Mitoses & Class\\\\\n",
       " <dbl> & <dbl> & <dbl> & <dbl> & <dbl> & <dbl> & <dbl> & <dbl> & <dbl> & <chr>\\\\\n",
       "\\hline\n",
       "\t 2 & 1 & 5 & 1 & 7 & 1 & 3 & 10 & 5 & ?\\\\\n",
       "\t 2 & 3 & 4 & 5 & 3 & 1 & 3 &  2 & 1 & ?\\\\\n",
       "\t 7 & 1 & 1 & 5 & 2 & 2 & 2 &  1 & 1 & ?\\\\\n",
       "\\end{tabular}\n"
      ],
      "text/markdown": [
       "\n",
       "A data.frame: 3 × 10\n",
       "\n",
       "| Cl.thickness &lt;dbl&gt; | Cell.size &lt;dbl&gt; | Cell.shape &lt;dbl&gt; | Marg.adhesion &lt;dbl&gt; | Epith.c.size &lt;dbl&gt; | Bare.nuclei &lt;dbl&gt; | Bl.cromatin &lt;dbl&gt; | Normal.nucleoli &lt;dbl&gt; | Mitoses &lt;dbl&gt; | Class &lt;chr&gt; |\n",
       "|---|---|---|---|---|---|---|---|---|---|\n",
       "| 2 | 1 | 5 | 1 | 7 | 1 | 3 | 10 | 5 | ? |\n",
       "| 2 | 3 | 4 | 5 | 3 | 1 | 3 |  2 | 1 | ? |\n",
       "| 7 | 1 | 1 | 5 | 2 | 2 | 2 |  1 | 1 | ? |\n",
       "\n"
      ],
      "text/plain": [
       "  Cl.thickness Cell.size Cell.shape Marg.adhesion Epith.c.size Bare.nuclei\n",
       "1 2            1         5          1             7            1          \n",
       "2 2            3         4          5             3            1          \n",
       "3 7            1         1          5             2            2          \n",
       "  Bl.cromatin Normal.nucleoli Mitoses Class\n",
       "1 3           10              5       ?    \n",
       "2 3            2              1       ?    \n",
       "3 2            1              1       ?    "
      ]
     },
     "metadata": {},
     "output_type": "display_data"
    }
   ],
   "source": [
    "## Predições de novos casos\n",
    "\n",
    "dados_novos_casos <- read.csv(\"databases/1 - Cancer de Mama - Dados - Novos Casos.csv\")\n",
    "#removendo ID\n",
    "dados_novos_casos <- dados_novos_casos[,-1]\n",
    "\n",
    "View(dados_novos_casos)"
   ]
  },
  {
   "cell_type": "code",
   "execution_count": 12,
   "metadata": {
    "vscode": {
     "languageId": "r"
    }
   },
   "outputs": [
    {
     "data": {
      "text/html": [
       "<table class=\"dataframe\">\n",
       "<caption>A data.frame: 3 × 10</caption>\n",
       "<thead>\n",
       "\t<tr><th scope=col>Cl.thickness</th><th scope=col>Cell.size</th><th scope=col>Cell.shape</th><th scope=col>Marg.adhesion</th><th scope=col>Epith.c.size</th><th scope=col>Bare.nuclei</th><th scope=col>Bl.cromatin</th><th scope=col>Normal.nucleoli</th><th scope=col>Mitoses</th><th scope=col>predict_knn</th></tr>\n",
       "\t<tr><th scope=col>&lt;dbl&gt;</th><th scope=col>&lt;dbl&gt;</th><th scope=col>&lt;dbl&gt;</th><th scope=col>&lt;dbl&gt;</th><th scope=col>&lt;dbl&gt;</th><th scope=col>&lt;dbl&gt;</th><th scope=col>&lt;dbl&gt;</th><th scope=col>&lt;dbl&gt;</th><th scope=col>&lt;dbl&gt;</th><th scope=col>&lt;fct&gt;</th></tr>\n",
       "</thead>\n",
       "<tbody>\n",
       "\t<tr><td>2</td><td>1</td><td>5</td><td>1</td><td>7</td><td>1</td><td>3</td><td>10</td><td>5</td><td>benign</td></tr>\n",
       "\t<tr><td>2</td><td>3</td><td>4</td><td>5</td><td>3</td><td>1</td><td>3</td><td> 2</td><td>1</td><td>benign</td></tr>\n",
       "\t<tr><td>7</td><td>1</td><td>1</td><td>5</td><td>2</td><td>2</td><td>2</td><td> 1</td><td>1</td><td>benign</td></tr>\n",
       "</tbody>\n",
       "</table>\n"
      ],
      "text/latex": [
       "A data.frame: 3 × 10\n",
       "\\begin{tabular}{llllllllll}\n",
       " Cl.thickness & Cell.size & Cell.shape & Marg.adhesion & Epith.c.size & Bare.nuclei & Bl.cromatin & Normal.nucleoli & Mitoses & predict\\_knn\\\\\n",
       " <dbl> & <dbl> & <dbl> & <dbl> & <dbl> & <dbl> & <dbl> & <dbl> & <dbl> & <fct>\\\\\n",
       "\\hline\n",
       "\t 2 & 1 & 5 & 1 & 7 & 1 & 3 & 10 & 5 & benign\\\\\n",
       "\t 2 & 3 & 4 & 5 & 3 & 1 & 3 &  2 & 1 & benign\\\\\n",
       "\t 7 & 1 & 1 & 5 & 2 & 2 & 2 &  1 & 1 & benign\\\\\n",
       "\\end{tabular}\n"
      ],
      "text/markdown": [
       "\n",
       "A data.frame: 3 × 10\n",
       "\n",
       "| Cl.thickness &lt;dbl&gt; | Cell.size &lt;dbl&gt; | Cell.shape &lt;dbl&gt; | Marg.adhesion &lt;dbl&gt; | Epith.c.size &lt;dbl&gt; | Bare.nuclei &lt;dbl&gt; | Bl.cromatin &lt;dbl&gt; | Normal.nucleoli &lt;dbl&gt; | Mitoses &lt;dbl&gt; | predict_knn &lt;fct&gt; |\n",
       "|---|---|---|---|---|---|---|---|---|---|\n",
       "| 2 | 1 | 5 | 1 | 7 | 1 | 3 | 10 | 5 | benign |\n",
       "| 2 | 3 | 4 | 5 | 3 | 1 | 3 |  2 | 1 | benign |\n",
       "| 7 | 1 | 1 | 5 | 2 | 2 | 2 |  1 | 1 | benign |\n",
       "\n"
      ],
      "text/plain": [
       "  Cl.thickness Cell.size Cell.shape Marg.adhesion Epith.c.size Bare.nuclei\n",
       "1 2            1         5          1             7            1          \n",
       "2 2            3         4          5             3            1          \n",
       "3 7            1         1          5             2            2          \n",
       "  Bl.cromatin Normal.nucleoli Mitoses predict_knn\n",
       "1 3           10              5       benign     \n",
       "2 3            2              1       benign     \n",
       "3 2            1              1       benign     "
      ]
     },
     "metadata": {},
     "output_type": "display_data"
    }
   ],
   "source": [
    "\n",
    "predict_knn <- predict(knn, dados_novos_casos)\n",
    "\n",
    "resultado <- cbind(dados_novos_casos, predict_knn)\n",
    "\n",
    "resultado$Class <- NULL\n",
    "\n",
    "View(resultado)"
   ]
  }
 ],
 "metadata": {
  "kernelspec": {
   "display_name": "R",
   "language": "R",
   "name": "ir"
  },
  "language_info": {
   "codemirror_mode": {
    "name": "ipython",
    "version": 3
   },
   "file_extension": ".py",
   "mimetype": "text/x-python",
   "name": "R",
   "nbconvert_exporter": "python",
   "pygments_lexer": "ipython3",
   "version": "3.10.11"
  },
  "orig_nbformat": 4
 },
 "nbformat": 4,
 "nbformat_minor": 2
}
