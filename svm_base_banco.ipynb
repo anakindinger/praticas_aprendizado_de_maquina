{
 "cells": [
  {
   "cell_type": "code",
   "execution_count": 1,
   "metadata": {
    "vscode": {
     "languageId": "r"
    }
   },
   "outputs": [
    {
     "name": "stderr",
     "output_type": "stream",
     "text": [
      "Carregando pacotes exigidos: ggplot2\n",
      "\n",
      "\n",
      "Anexando pacote: 'ggplot2'\n",
      "\n",
      "\n",
      "O seguinte objeto é mascarado por 'package:kernlab':\n",
      "\n",
      "    alpha\n",
      "\n",
      "\n",
      "Carregando pacotes exigidos: lattice\n",
      "\n"
     ]
    }
   ],
   "source": [
    "### Pacotes necessarios:\n",
    "# install.packages(\"e1071\")\n",
    "# install.packages(\"caret\")\n",
    "#install.packages(\"kernlab\")\n",
    "library(\"kernlab\")\n",
    "library(\"caret\")"
   ]
  },
  {
   "cell_type": "code",
   "execution_count": 3,
   "metadata": {
    "vscode": {
     "languageId": "r"
    }
   },
   "outputs": [
    {
     "data": {
      "text/html": [
       "<table class=\"dataframe\">\n",
       "<caption>A data.frame: 6 × 9</caption>\n",
       "<thead>\n",
       "\t<tr><th></th><th scope=col>age</th><th scope=col>job</th><th scope=col>marital</th><th scope=col>education</th><th scope=col>default</th><th scope=col>balance</th><th scope=col>housing</th><th scope=col>loan</th><th scope=col>y</th></tr>\n",
       "\t<tr><th></th><th scope=col>&lt;int&gt;</th><th scope=col>&lt;chr&gt;</th><th scope=col>&lt;chr&gt;</th><th scope=col>&lt;chr&gt;</th><th scope=col>&lt;chr&gt;</th><th scope=col>&lt;int&gt;</th><th scope=col>&lt;chr&gt;</th><th scope=col>&lt;chr&gt;</th><th scope=col>&lt;chr&gt;</th></tr>\n",
       "</thead>\n",
       "<tbody>\n",
       "\t<tr><th scope=row>1</th><td>30</td><td>unemployed</td><td>married</td><td>primary  </td><td>no</td><td>1787</td><td>no </td><td>no </td><td>no</td></tr>\n",
       "\t<tr><th scope=row>2</th><td>33</td><td>services  </td><td>married</td><td>secondary</td><td>no</td><td>4789</td><td>yes</td><td>yes</td><td>no</td></tr>\n",
       "\t<tr><th scope=row>3</th><td>35</td><td>management</td><td>single </td><td>tertiary </td><td>no</td><td>1350</td><td>yes</td><td>no </td><td>no</td></tr>\n",
       "\t<tr><th scope=row>4</th><td>30</td><td>management</td><td>married</td><td>tertiary </td><td>no</td><td>1476</td><td>yes</td><td>yes</td><td>no</td></tr>\n",
       "\t<tr><th scope=row>5</th><td>59</td><td>bluecollar</td><td>married</td><td>secondary</td><td>no</td><td>   0</td><td>yes</td><td>no </td><td>no</td></tr>\n",
       "\t<tr><th scope=row>6</th><td>35</td><td>management</td><td>single </td><td>tertiary </td><td>no</td><td> 747</td><td>no </td><td>no </td><td>no</td></tr>\n",
       "</tbody>\n",
       "</table>\n"
      ],
      "text/latex": [
       "A data.frame: 6 × 9\n",
       "\\begin{tabular}{r|lllllllll}\n",
       "  & age & job & marital & education & default & balance & housing & loan & y\\\\\n",
       "  & <int> & <chr> & <chr> & <chr> & <chr> & <int> & <chr> & <chr> & <chr>\\\\\n",
       "\\hline\n",
       "\t1 & 30 & unemployed & married & primary   & no & 1787 & no  & no  & no\\\\\n",
       "\t2 & 33 & services   & married & secondary & no & 4789 & yes & yes & no\\\\\n",
       "\t3 & 35 & management & single  & tertiary  & no & 1350 & yes & no  & no\\\\\n",
       "\t4 & 30 & management & married & tertiary  & no & 1476 & yes & yes & no\\\\\n",
       "\t5 & 59 & bluecollar & married & secondary & no &    0 & yes & no  & no\\\\\n",
       "\t6 & 35 & management & single  & tertiary  & no &  747 & no  & no  & no\\\\\n",
       "\\end{tabular}\n"
      ],
      "text/markdown": [
       "\n",
       "A data.frame: 6 × 9\n",
       "\n",
       "| <!--/--> | age &lt;int&gt; | job &lt;chr&gt; | marital &lt;chr&gt; | education &lt;chr&gt; | default &lt;chr&gt; | balance &lt;int&gt; | housing &lt;chr&gt; | loan &lt;chr&gt; | y &lt;chr&gt; |\n",
       "|---|---|---|---|---|---|---|---|---|---|\n",
       "| 1 | 30 | unemployed | married | primary   | no | 1787 | no  | no  | no |\n",
       "| 2 | 33 | services   | married | secondary | no | 4789 | yes | yes | no |\n",
       "| 3 | 35 | management | single  | tertiary  | no | 1350 | yes | no  | no |\n",
       "| 4 | 30 | management | married | tertiary  | no | 1476 | yes | yes | no |\n",
       "| 5 | 59 | bluecollar | married | secondary | no |    0 | yes | no  | no |\n",
       "| 6 | 35 | management | single  | tertiary  | no |  747 | no  | no  | no |\n",
       "\n"
      ],
      "text/plain": [
       "  age job        marital education default balance housing loan y \n",
       "1 30  unemployed married primary   no      1787    no      no   no\n",
       "2 33  services   married secondary no      4789    yes     yes  no\n",
       "3 35  management single  tertiary  no      1350    yes     no   no\n",
       "4 30  management married tertiary  no      1476    yes     yes  no\n",
       "5 59  bluecollar married secondary no         0    yes     no   no\n",
       "6 35  management single  tertiary  no       747    no      no   no"
      ]
     },
     "metadata": {},
     "output_type": "display_data"
    }
   ],
   "source": [
    "#carregando a base de dados\n",
    "dados <- read.csv(\"databases/4 - Banco - Dados.csv\")\n",
    "head(dados)"
   ]
  },
  {
   "cell_type": "code",
   "execution_count": 4,
   "metadata": {
    "vscode": {
     "languageId": "r"
    }
   },
   "outputs": [],
   "source": [
    "#separando em base de teste e treino\n",
    "set.seed(2034)\n",
    "indices <- createDataPartition(dados$y, p = 0.8, list = FALSE)\n",
    "\n",
    "treino <- dados[indices, ]\n",
    "teste <- dados[-indices, ]"
   ]
  },
  {
   "cell_type": "code",
   "execution_count": 5,
   "metadata": {
    "vscode": {
     "languageId": "r"
    }
   },
   "outputs": [
    {
     "data": {
      "text/plain": [
       "Support Vector Machines with Radial Basis Function Kernel \n",
       "\n",
       "241 samples\n",
       "  8 predictor\n",
       "  2 classes: 'no', 'yes' \n",
       "\n",
       "No pre-processing\n",
       "Resampling: Bootstrapped (25 reps) \n",
       "Summary of sample sizes: 241, 241, 241, 241, 241, 241, ... \n",
       "Resampling results across tuning parameters:\n",
       "\n",
       "  C     Accuracy   Kappa     \n",
       "  0.25  0.8718740  0.00000000\n",
       "  0.50  0.8687897  0.01169215\n",
       "  1.00  0.8714606  0.08872843\n",
       "\n",
       "Tuning parameter 'sigma' was held constant at a value of 0.03503459\n",
       "Accuracy was used to select the optimal model using the largest value.\n",
       "The final values used for the model were sigma = 0.03503459 and C = 0.25."
      ]
     },
     "metadata": {},
     "output_type": "display_data"
    }
   ],
   "source": [
    "#fazendo o treinamento da svm\n",
    "set.seed(2034)\n",
    "\n",
    "svm <- train(y ~ ., data = treino, method = \"svmRadial\")\n",
    "svm"
   ]
  },
  {
   "cell_type": "code",
   "execution_count": 6,
   "metadata": {
    "vscode": {
     "languageId": "r"
    }
   },
   "outputs": [
    {
     "data": {
      "text/plain": [
       "Confusion Matrix and Statistics\n",
       "\n",
       "          Reference\n",
       "Prediction no yes\n",
       "       no  52   7\n",
       "       yes  0   0\n",
       "                                          \n",
       "               Accuracy : 0.8814          \n",
       "                 95% CI : (0.7707, 0.9509)\n",
       "    No Information Rate : 0.8814          \n",
       "    P-Value [Acc > NIR] : 0.59891         \n",
       "                                          \n",
       "                  Kappa : 0               \n",
       "                                          \n",
       " Mcnemar's Test P-Value : 0.02334         \n",
       "                                          \n",
       "            Sensitivity : 1.0000          \n",
       "            Specificity : 0.0000          \n",
       "         Pos Pred Value : 0.8814          \n",
       "         Neg Pred Value :    NaN          \n",
       "             Prevalence : 0.8814          \n",
       "         Detection Rate : 0.8814          \n",
       "   Detection Prevalence : 1.0000          \n",
       "      Balanced Accuracy : 0.5000          \n",
       "                                          \n",
       "       'Positive' Class : no              \n",
       "                                          "
      ]
     },
     "metadata": {},
     "output_type": "display_data"
    }
   ],
   "source": [
    "#aplicando modelos trinados na base de teste\n",
    "predict_svm <- predict(svm, teste)\n",
    "confusionMatrix(predict_svm, as.factor(teste$y))"
   ]
  },
  {
   "cell_type": "code",
   "execution_count": 7,
   "metadata": {
    "vscode": {
     "languageId": "r"
    }
   },
   "outputs": [
    {
     "data": {
      "text/plain": [
       "Support Vector Machines with Radial Basis Function Kernel \n",
       "\n",
       "241 samples\n",
       "  8 predictor\n",
       "  2 classes: 'no', 'yes' \n",
       "\n",
       "No pre-processing\n",
       "Resampling: Cross-Validated (10 fold) \n",
       "Summary of sample sizes: 217, 217, 216, 217, 217, 217, ... \n",
       "Resampling results across tuning parameters:\n",
       "\n",
       "  C     Accuracy   Kappa      \n",
       "  0.25  0.8715000   0.00000000\n",
       "  0.50  0.8631667  -0.01111111\n",
       "  1.00  0.8631667  -0.01111111\n",
       "\n",
       "Tuning parameter 'sigma' was held constant at a value of 0.03503459\n",
       "Accuracy was used to select the optimal model using the largest value.\n",
       "The final values used for the model were sigma = 0.03503459 and C = 0.25."
      ]
     },
     "metadata": {},
     "output_type": "display_data"
    }
   ],
   "source": [
    "#experimentadno com cross-validation\n",
    "ctrl <- trainControl(method = \"cv\", number = 10)\n",
    "\n",
    "set.seed(2034)\n",
    "\n",
    "svm <- train(y ~ ., data = treino, method = \"svmRadial\", trControl = ctrl)\n",
    "svm"
   ]
  },
  {
   "cell_type": "code",
   "execution_count": 8,
   "metadata": {
    "vscode": {
     "languageId": "r"
    }
   },
   "outputs": [
    {
     "data": {
      "text/plain": [
       "Confusion Matrix and Statistics\n",
       "\n",
       "          Reference\n",
       "Prediction no yes\n",
       "       no  52   7\n",
       "       yes  0   0\n",
       "                                          \n",
       "               Accuracy : 0.8814          \n",
       "                 95% CI : (0.7707, 0.9509)\n",
       "    No Information Rate : 0.8814          \n",
       "    P-Value [Acc > NIR] : 0.59891         \n",
       "                                          \n",
       "                  Kappa : 0               \n",
       "                                          \n",
       " Mcnemar's Test P-Value : 0.02334         \n",
       "                                          \n",
       "            Sensitivity : 1.0000          \n",
       "            Specificity : 0.0000          \n",
       "         Pos Pred Value : 0.8814          \n",
       "         Neg Pred Value :    NaN          \n",
       "             Prevalence : 0.8814          \n",
       "         Detection Rate : 0.8814          \n",
       "   Detection Prevalence : 1.0000          \n",
       "      Balanced Accuracy : 0.5000          \n",
       "                                          \n",
       "       'Positive' Class : no              \n",
       "                                          "
      ]
     },
     "metadata": {},
     "output_type": "display_data"
    }
   ],
   "source": [
    "#matriz de confusao com o novo modelo\n",
    "predict_svm <- predict(svm, teste)\n",
    "confusionMatrix(predict_svm, as.factor(teste$y))"
   ]
  },
  {
   "cell_type": "code",
   "execution_count": 9,
   "metadata": {
    "vscode": {
     "languageId": "r"
    }
   },
   "outputs": [
    {
     "data": {
      "text/plain": [
       "Support Vector Machines with Radial Basis Function Kernel \n",
       "\n",
       "241 samples\n",
       "  8 predictor\n",
       "  2 classes: 'no', 'yes' \n",
       "\n",
       "No pre-processing\n",
       "Resampling: Cross-Validated (10 fold) \n",
       "Summary of sample sizes: 217, 217, 216, 217, 217, 217, ... \n",
       "Resampling results across tuning parameters:\n",
       "\n",
       "  C    sigma  Accuracy   Kappa      \n",
       "    1  0.010  0.8631667  -0.01111111\n",
       "    1  0.015  0.8631667  -0.01111111\n",
       "    1  0.200  0.8758333   0.12649573\n",
       "    2  0.010  0.8631667  -0.01111111\n",
       "    2  0.015  0.8631667  -0.01111111\n",
       "    2  0.200  0.8551667   0.11694859\n",
       "   10  0.010  0.8840000   0.25555556\n",
       "   10  0.015  0.8760000   0.27694859\n",
       "   10  0.200  0.8510000   0.11028192\n",
       "   50  0.010  0.8720000   0.27299485\n",
       "   50  0.015  0.8511667   0.23585199\n",
       "   50  0.200  0.8301667   0.17266288\n",
       "  100  0.010  0.8553333   0.24029644\n",
       "  100  0.015  0.8348333   0.23504505\n",
       "  100  0.200  0.8301667   0.17266288\n",
       "\n",
       "Accuracy was used to select the optimal model using the largest value.\n",
       "The final values used for the model were sigma = 0.01 and C = 10."
      ]
     },
     "metadata": {},
     "output_type": "display_data"
    }
   ],
   "source": [
    "#experimentando com outros valores de C e sigma\n",
    "tune_grid <- expand.grid(C = c(1, 2, 10, 50, 100), sigma = c(0.01, 0.015, 0.2))\n",
    "\n",
    "set.seed(2034)\n",
    "svm <- train(y ~ ., data = treino, method = \"svmRadial\", trControl = ctrl, tuneGrid = tune_grid)\n",
    "svm"
   ]
  },
  {
   "cell_type": "code",
   "execution_count": 10,
   "metadata": {
    "vscode": {
     "languageId": "r"
    }
   },
   "outputs": [
    {
     "data": {
      "text/plain": [
       "Confusion Matrix and Statistics\n",
       "\n",
       "          Reference\n",
       "Prediction no yes\n",
       "       no  50   7\n",
       "       yes  2   0\n",
       "                                          \n",
       "               Accuracy : 0.8475          \n",
       "                 95% CI : (0.7301, 0.9278)\n",
       "    No Information Rate : 0.8814          \n",
       "    P-Value [Acc > NIR] : 0.8437          \n",
       "                                          \n",
       "                  Kappa : -0.0557         \n",
       "                                          \n",
       " Mcnemar's Test P-Value : 0.1824          \n",
       "                                          \n",
       "            Sensitivity : 0.9615          \n",
       "            Specificity : 0.0000          \n",
       "         Pos Pred Value : 0.8772          \n",
       "         Neg Pred Value : 0.0000          \n",
       "             Prevalence : 0.8814          \n",
       "         Detection Rate : 0.8475          \n",
       "   Detection Prevalence : 0.9661          \n",
       "      Balanced Accuracy : 0.4808          \n",
       "                                          \n",
       "       'Positive' Class : no              \n",
       "                                          "
      ]
     },
     "metadata": {},
     "output_type": "display_data"
    }
   ],
   "source": [
    "#matriz de confusao com o novo modelo\n",
    "predict_svm <- predict(svm, teste)\n",
    "confusionMatrix(predict_svm, as.factor(teste$y))"
   ]
  },
  {
   "cell_type": "code",
   "execution_count": 13,
   "metadata": {
    "vscode": {
     "languageId": "r"
    }
   },
   "outputs": [
    {
     "data": {
      "text/html": [
       "<table class=\"dataframe\">\n",
       "<caption>A data.frame: 3 × 9</caption>\n",
       "<thead>\n",
       "\t<tr><th scope=col>age</th><th scope=col>job</th><th scope=col>marital</th><th scope=col>education</th><th scope=col>default</th><th scope=col>balance</th><th scope=col>housing</th><th scope=col>loan</th><th scope=col>y</th></tr>\n",
       "\t<tr><th scope=col>&lt;int&gt;</th><th scope=col>&lt;chr&gt;</th><th scope=col>&lt;chr&gt;</th><th scope=col>&lt;chr&gt;</th><th scope=col>&lt;chr&gt;</th><th scope=col>&lt;int&gt;</th><th scope=col>&lt;chr&gt;</th><th scope=col>&lt;chr&gt;</th><th scope=col>&lt;chr&gt;</th></tr>\n",
       "</thead>\n",
       "<tbody>\n",
       "\t<tr><td>60</td><td>unemployed</td><td>married</td><td>primary  </td><td>no </td><td>2000</td><td>yes</td><td>yes</td><td>?</td></tr>\n",
       "\t<tr><td>33</td><td>services  </td><td>married</td><td>secondary</td><td>yes</td><td>3000</td><td>yes</td><td>no </td><td>?</td></tr>\n",
       "\t<tr><td>15</td><td>management</td><td>single </td><td>tertiary </td><td>no </td><td>1350</td><td>yes</td><td>no </td><td>?</td></tr>\n",
       "</tbody>\n",
       "</table>\n"
      ],
      "text/latex": [
       "A data.frame: 3 × 9\n",
       "\\begin{tabular}{lllllllll}\n",
       " age & job & marital & education & default & balance & housing & loan & y\\\\\n",
       " <int> & <chr> & <chr> & <chr> & <chr> & <int> & <chr> & <chr> & <chr>\\\\\n",
       "\\hline\n",
       "\t 60 & unemployed & married & primary   & no  & 2000 & yes & yes & ?\\\\\n",
       "\t 33 & services   & married & secondary & yes & 3000 & yes & no  & ?\\\\\n",
       "\t 15 & management & single  & tertiary  & no  & 1350 & yes & no  & ?\\\\\n",
       "\\end{tabular}\n"
      ],
      "text/markdown": [
       "\n",
       "A data.frame: 3 × 9\n",
       "\n",
       "| age &lt;int&gt; | job &lt;chr&gt; | marital &lt;chr&gt; | education &lt;chr&gt; | default &lt;chr&gt; | balance &lt;int&gt; | housing &lt;chr&gt; | loan &lt;chr&gt; | y &lt;chr&gt; |\n",
       "|---|---|---|---|---|---|---|---|---|\n",
       "| 60 | unemployed | married | primary   | no  | 2000 | yes | yes | ? |\n",
       "| 33 | services   | married | secondary | yes | 3000 | yes | no  | ? |\n",
       "| 15 | management | single  | tertiary  | no  | 1350 | yes | no  | ? |\n",
       "\n"
      ],
      "text/plain": [
       "  age job        marital education default balance housing loan y\n",
       "1 60  unemployed married primary   no      2000    yes     yes  ?\n",
       "2 33  services   married secondary yes     3000    yes     no   ?\n",
       "3 15  management single  tertiary  no      1350    yes     no   ?"
      ]
     },
     "metadata": {},
     "output_type": "display_data"
    },
    {
     "data": {
      "text/html": [
       "<table class=\"dataframe\">\n",
       "<caption>A data.frame: 3 × 9</caption>\n",
       "<thead>\n",
       "\t<tr><th scope=col>age</th><th scope=col>job</th><th scope=col>marital</th><th scope=col>education</th><th scope=col>default</th><th scope=col>balance</th><th scope=col>housing</th><th scope=col>loan</th><th scope=col>predict_svm</th></tr>\n",
       "\t<tr><th scope=col>&lt;int&gt;</th><th scope=col>&lt;chr&gt;</th><th scope=col>&lt;chr&gt;</th><th scope=col>&lt;chr&gt;</th><th scope=col>&lt;chr&gt;</th><th scope=col>&lt;int&gt;</th><th scope=col>&lt;chr&gt;</th><th scope=col>&lt;chr&gt;</th><th scope=col>&lt;fct&gt;</th></tr>\n",
       "</thead>\n",
       "<tbody>\n",
       "\t<tr><td>60</td><td>unemployed</td><td>married</td><td>primary  </td><td>no </td><td>2000</td><td>yes</td><td>yes</td><td>no</td></tr>\n",
       "\t<tr><td>33</td><td>services  </td><td>married</td><td>secondary</td><td>yes</td><td>3000</td><td>yes</td><td>no </td><td>no</td></tr>\n",
       "\t<tr><td>15</td><td>management</td><td>single </td><td>tertiary </td><td>no </td><td>1350</td><td>yes</td><td>no </td><td>no</td></tr>\n",
       "</tbody>\n",
       "</table>\n"
      ],
      "text/latex": [
       "A data.frame: 3 × 9\n",
       "\\begin{tabular}{lllllllll}\n",
       " age & job & marital & education & default & balance & housing & loan & predict\\_svm\\\\\n",
       " <int> & <chr> & <chr> & <chr> & <chr> & <int> & <chr> & <chr> & <fct>\\\\\n",
       "\\hline\n",
       "\t 60 & unemployed & married & primary   & no  & 2000 & yes & yes & no\\\\\n",
       "\t 33 & services   & married & secondary & yes & 3000 & yes & no  & no\\\\\n",
       "\t 15 & management & single  & tertiary  & no  & 1350 & yes & no  & no\\\\\n",
       "\\end{tabular}\n"
      ],
      "text/markdown": [
       "\n",
       "A data.frame: 3 × 9\n",
       "\n",
       "| age &lt;int&gt; | job &lt;chr&gt; | marital &lt;chr&gt; | education &lt;chr&gt; | default &lt;chr&gt; | balance &lt;int&gt; | housing &lt;chr&gt; | loan &lt;chr&gt; | predict_svm &lt;fct&gt; |\n",
       "|---|---|---|---|---|---|---|---|---|\n",
       "| 60 | unemployed | married | primary   | no  | 2000 | yes | yes | no |\n",
       "| 33 | services   | married | secondary | yes | 3000 | yes | no  | no |\n",
       "| 15 | management | single  | tertiary  | no  | 1350 | yes | no  | no |\n",
       "\n"
      ],
      "text/plain": [
       "  age job        marital education default balance housing loan predict_svm\n",
       "1 60  unemployed married primary   no      2000    yes     yes  no         \n",
       "2 33  services   married secondary yes     3000    yes     no   no         \n",
       "3 15  management single  tertiary  no      1350    yes     no   no         "
      ]
     },
     "metadata": {},
     "output_type": "display_data"
    }
   ],
   "source": [
    "# predicao de novos casos\n",
    "dados_novos_casos <- read.csv(\"databases/4 - Banco - Novos Casos.csv\")\n",
    "View(dados_novos_casos)\n",
    "dados_novos_casos$y <- NULL\n",
    "predict_svm <- predict(svm, dados_novos_casos)\n",
    "resultado <- cbind(dados_novos_casos, predict_svm)\n",
    "View(resultado)"
   ]
  }
 ],
 "metadata": {
  "kernelspec": {
   "display_name": "R",
   "language": "R",
   "name": "ir"
  },
  "language_info": {
   "codemirror_mode": "r",
   "file_extension": ".r",
   "mimetype": "text/x-r-source",
   "name": "R",
   "pygments_lexer": "r",
   "version": "4.4.1"
  }
 },
 "nbformat": 4,
 "nbformat_minor": 2
}
