{
 "cells": [
  {
   "cell_type": "markdown",
   "metadata": {},
   "source": [
    "**Objetivo**: descobrir volumes de árvores usando regressao linear de um modelo de rede neural"
   ]
  },
  {
   "cell_type": "code",
   "execution_count": 2,
   "metadata": {
    "vscode": {
     "languageId": "r"
    }
   },
   "outputs": [
    {
     "name": "stderr",
     "output_type": "stream",
     "text": [
      "Carregando pacotes exigidos: ggplot2\n",
      "\n",
      "Carregando pacotes exigidos: lattice\n",
      "\n",
      "\n",
      "Anexando pacote: 'mice'\n",
      "\n",
      "\n",
      "O seguinte objeto é mascarado por 'package:stats':\n",
      "\n",
      "    filter\n",
      "\n",
      "\n",
      "Os seguintes objetos são mascarados por 'package:base':\n",
      "\n",
      "    cbind, rbind\n",
      "\n",
      "\n",
      "\n",
      "Anexando pacote: 'Metrics'\n",
      "\n",
      "\n",
      "Os seguintes objetos são mascarados por 'package:caret':\n",
      "\n",
      "    precision, recall\n",
      "\n",
      "\n"
     ]
    }
   ],
   "source": [
    "#instalação de pacotes necessários\n",
    "#install.packages(\"e1071\")\n",
    "#install.packages(\"caret\")\n",
    "#install.packages(\"mlbench\")\n",
    "#install.packages(\"mice\")\n",
    "#install.packages(\"Metrics\")\n",
    "library(caret)\n",
    "library(mlbench)\n",
    "library(mice)\n",
    "library(Metrics)"
   ]
  },
  {
   "cell_type": "code",
   "execution_count": 3,
   "metadata": {
    "vscode": {
     "languageId": "r"
    }
   },
   "outputs": [
    {
     "data": {
      "text/html": [
       "<table class=\"dataframe\">\n",
       "<caption>A data.frame: 6 × 6</caption>\n",
       "<thead>\n",
       "\t<tr><th></th><th scope=col>PROJETO</th><th scope=col>CLONE</th><th scope=col>Idade</th><th scope=col>Hdom</th><th scope=col>AreaBasal</th><th scope=col>Volume</th></tr>\n",
       "\t<tr><th></th><th scope=col>&lt;chr&gt;</th><th scope=col>&lt;chr&gt;</th><th scope=col>&lt;dbl&gt;</th><th scope=col>&lt;dbl&gt;</th><th scope=col>&lt;dbl&gt;</th><th scope=col>&lt;dbl&gt;</th></tr>\n",
       "</thead>\n",
       "<tbody>\n",
       "\t<tr><th scope=row>1</th><td>Fazenda Velha</td><td>C3</td><td>21.5</td><td> 8.8</td><td>3.2</td><td>12.1</td></tr>\n",
       "\t<tr><th scope=row>2</th><td>Fazenda Velha</td><td>A3</td><td>21.9</td><td>10.2</td><td>3.9</td><td>66.8</td></tr>\n",
       "\t<tr><th scope=row>3</th><td>Fazenda Velha</td><td>A3</td><td>26.1</td><td>10.1</td><td>4.2</td><td>72.1</td></tr>\n",
       "\t<tr><th scope=row>4</th><td>Fazenda Velha</td><td>A4</td><td>22.0</td><td>10.0</td><td>4.2</td><td>35.9</td></tr>\n",
       "\t<tr><th scope=row>5</th><td>Parada       </td><td>B7</td><td>23.4</td><td>15.3</td><td>4.3</td><td>44.5</td></tr>\n",
       "\t<tr><th scope=row>6</th><td>Fazenda Velha</td><td>A2</td><td>25.9</td><td>10.5</td><td>4.4</td><td>63.9</td></tr>\n",
       "</tbody>\n",
       "</table>\n"
      ],
      "text/latex": [
       "A data.frame: 6 × 6\n",
       "\\begin{tabular}{r|llllll}\n",
       "  & PROJETO & CLONE & Idade & Hdom & AreaBasal & Volume\\\\\n",
       "  & <chr> & <chr> & <dbl> & <dbl> & <dbl> & <dbl>\\\\\n",
       "\\hline\n",
       "\t1 & Fazenda Velha & C3 & 21.5 &  8.8 & 3.2 & 12.1\\\\\n",
       "\t2 & Fazenda Velha & A3 & 21.9 & 10.2 & 3.9 & 66.8\\\\\n",
       "\t3 & Fazenda Velha & A3 & 26.1 & 10.1 & 4.2 & 72.1\\\\\n",
       "\t4 & Fazenda Velha & A4 & 22.0 & 10.0 & 4.2 & 35.9\\\\\n",
       "\t5 & Parada        & B7 & 23.4 & 15.3 & 4.3 & 44.5\\\\\n",
       "\t6 & Fazenda Velha & A2 & 25.9 & 10.5 & 4.4 & 63.9\\\\\n",
       "\\end{tabular}\n"
      ],
      "text/markdown": [
       "\n",
       "A data.frame: 6 × 6\n",
       "\n",
       "| <!--/--> | PROJETO &lt;chr&gt; | CLONE &lt;chr&gt; | Idade &lt;dbl&gt; | Hdom &lt;dbl&gt; | AreaBasal &lt;dbl&gt; | Volume &lt;dbl&gt; |\n",
       "|---|---|---|---|---|---|---|\n",
       "| 1 | Fazenda Velha | C3 | 21.5 |  8.8 | 3.2 | 12.1 |\n",
       "| 2 | Fazenda Velha | A3 | 21.9 | 10.2 | 3.9 | 66.8 |\n",
       "| 3 | Fazenda Velha | A3 | 26.1 | 10.1 | 4.2 | 72.1 |\n",
       "| 4 | Fazenda Velha | A4 | 22.0 | 10.0 | 4.2 | 35.9 |\n",
       "| 5 | Parada        | B7 | 23.4 | 15.3 | 4.3 | 44.5 |\n",
       "| 6 | Fazenda Velha | A2 | 25.9 | 10.5 | 4.4 | 63.9 |\n",
       "\n"
      ],
      "text/plain": [
       "  PROJETO       CLONE Idade Hdom AreaBasal Volume\n",
       "1 Fazenda Velha C3    21.5   8.8 3.2       12.1  \n",
       "2 Fazenda Velha A3    21.9  10.2 3.9       66.8  \n",
       "3 Fazenda Velha A3    26.1  10.1 4.2       72.1  \n",
       "4 Fazenda Velha A4    22.0  10.0 4.2       35.9  \n",
       "5 Parada        B7    23.4  15.3 4.3       44.5  \n",
       "6 Fazenda Velha A2    25.9  10.5 4.4       63.9  "
      ]
     },
     "metadata": {},
     "output_type": "display_data"
    }
   ],
   "source": [
    "#leitura de arquivo de dados\n",
    "\n",
    "dados <- read.csv(\"databases/2 - Volume - Dados.csv\")\n",
    "\n",
    "head(dados)"
   ]
  },
  {
   "cell_type": "code",
   "execution_count": 4,
   "metadata": {
    "vscode": {
     "languageId": "r"
    }
   },
   "outputs": [],
   "source": [
    "## separa em treino e teste\n",
    "\n",
    "set.seed(123)\n",
    "\n",
    "indices <- createDataPartition(dados$Volume, p = 0.80, list = FALSE)\n",
    "\n",
    "treino <- dados[indices, ]\n",
    "teste <- dados[-indices, ]"
   ]
  },
  {
   "cell_type": "code",
   "execution_count": 5,
   "metadata": {
    "vscode": {
     "languageId": "r"
    }
   },
   "outputs": [
    {
     "name": "stderr",
     "output_type": "stream",
     "text": [
      "Warning message in nominalTrainWorkflow(x = x, y = y, wts = weights, info = trainInfo, :\n",
      "\"There were missing values in resampled performance measures.\"\n"
     ]
    },
    {
     "data": {
      "text/plain": [
       "Neural Network \n",
       "\n",
       "246 samples\n",
       "  5 predictor\n",
       "\n",
       "No pre-processing\n",
       "Resampling: Bootstrapped (25 reps) \n",
       "Summary of sample sizes: 246, 246, 246, 246, 246, 246, ... \n",
       "Resampling results across tuning parameters:\n",
       "\n",
       "  size  decay  RMSE       Rsquared   MAE      \n",
       "  1     0e+00  196.54992  0.2860598  166.11881\n",
       "  1     1e-04  192.44537  0.3423822  163.06421\n",
       "  1     1e-01  124.48168  0.6155058  101.92691\n",
       "  3     0e+00  178.20292  0.4346005  150.45010\n",
       "  3     1e-04  168.55044  0.5836749  141.81632\n",
       "  3     1e-01   82.87502  0.7824127   65.25148\n",
       "  5     0e+00  149.33581  0.4601841  124.63413\n",
       "  5     1e-04  157.63349  0.5506802  129.37686\n",
       "  5     1e-01   78.23198  0.8097598   60.84637\n",
       "\n",
       "RMSE was used to select the optimal model using the smallest value.\n",
       "The final values used for the model were size = 5 and decay = 0.1."
      ]
     },
     "metadata": {},
     "output_type": "display_data"
    }
   ],
   "source": [
    "#treino vcom hold-out\n",
    "set.seed(123)\n",
    "rna <- train(Volume ~ ., data = treino, method = \"nnet\",\n",
    "             linout = TRUE, trace = FALSE)\n",
    "rna\n",
    "predict_rna <- predict(rna, teste)"
   ]
  },
  {
   "cell_type": "code",
   "execution_count": 6,
   "metadata": {
    "vscode": {
     "languageId": "r"
    }
   },
   "outputs": [
    {
     "data": {
      "text/html": [
       "116.626836641269"
      ],
      "text/latex": [
       "116.626836641269"
      ],
      "text/markdown": [
       "116.626836641269"
      ],
      "text/plain": [
       "[1] 116.6268"
      ]
     },
     "metadata": {},
     "output_type": "display_data"
    },
    {
     "data": {
      "text/html": [
       "0.648307686433268"
      ],
      "text/latex": [
       "0.648307686433268"
      ],
      "text/markdown": [
       "0.648307686433268"
      ],
      "text/plain": [
       "[1] 0.6483077"
      ]
     },
     "metadata": {},
     "output_type": "display_data"
    }
   ],
   "source": [
    "rmse(teste$Volume, predict_rna)\n",
    "\n",
    "r2 <- function(predito, observado) {\n",
    "  return(1 - (sum((predito - observado)^2) /\n",
    "              sum((observado - mean(observado))^2)))\n",
    "}\n",
    "\n",
    "r2(predict_rna, teste$Volume)"
   ]
  },
  {
   "cell_type": "code",
   "execution_count": 7,
   "metadata": {
    "vscode": {
     "languageId": "r"
    }
   },
   "outputs": [
    {
     "name": "stderr",
     "output_type": "stream",
     "text": [
      "Warning message in nominalTrainWorkflow(x = x, y = y, wts = weights, info = trainInfo, :\n",
      "\"There were missing values in resampled performance measures.\"\n"
     ]
    },
    {
     "data": {
      "text/plain": [
       "Neural Network \n",
       "\n",
       "246 samples\n",
       "  5 predictor\n",
       "\n",
       "No pre-processing\n",
       "Resampling: Bootstrapped (25 reps) \n",
       "Summary of sample sizes: 246, 246, 246, 246, 246, 246, ... \n",
       "Resampling results across tuning parameters:\n",
       "\n",
       "  size  decay  RMSE      Rsquared   MAE      \n",
       "   1    0.1    44.24422  0.9871448  35.187445\n",
       "   1    0.4    42.78998  0.9791873  32.958013\n",
       "   1    0.7    39.19532  0.9748414  29.447295\n",
       "   2    0.1    24.14329  0.9929071  18.379050\n",
       "   2    0.4    20.23803  0.9890586  13.182328\n",
       "   2    0.7    21.87821  0.9879347  14.212487\n",
       "   3    0.1    14.10707  0.9944970   9.496477\n",
       "   3    0.4    16.04145  0.9930650  10.518049\n",
       "   3    0.7    19.04136  0.9906446  11.645061\n",
       "   4    0.1    12.56667  0.9957220   8.666376\n",
       "   4    0.4    14.81401  0.9941712   9.247001\n",
       "   4    0.7    16.95705  0.9918499  10.466543\n",
       "   5    0.1    13.11311  0.9953789   8.264301\n",
       "   5    0.4    14.77824  0.9940014   9.215850\n",
       "   5    0.7    16.41375  0.9930595   9.873928\n",
       "   6    0.1    13.10989  0.9955879   8.208540\n",
       "   6    0.4    15.64465  0.9932931   9.706015\n",
       "   6    0.7    15.17892  0.9941377   9.273298\n",
       "   7    0.1    14.89646  0.9935202   9.436165\n",
       "   7    0.4    15.78930  0.9932825   9.528082\n",
       "   7    0.7    16.61041  0.9923050  10.158994\n",
       "   8    0.1    16.13415  0.9928535  10.084671\n",
       "   8    0.4    15.76398  0.9932440   9.880034\n",
       "   8    0.7    16.01760  0.9932039   9.782311\n",
       "   9    0.1    18.17803  0.9910076  11.477406\n",
       "   9    0.4    17.59029  0.9917101  10.807914\n",
       "   9    0.7    14.94588  0.9937670   9.325183\n",
       "  10    0.1    16.34554  0.9931638  10.619951\n",
       "  10    0.4    17.57399  0.9919757  11.153576\n",
       "  10    0.7    16.86655  0.9927444  10.532657\n",
       "\n",
       "RMSE was used to select the optimal model using the smallest value.\n",
       "The final values used for the model were size = 4 and decay = 0.1."
      ]
     },
     "metadata": {},
     "output_type": "display_data"
    }
   ],
   "source": [
    "# Cross-validation e parametrização da rna\n",
    "ctrl <- trainControl(method = \"cv\", number = 10)\n",
    "grid <- expand.grid(size = seq(from = 1, to = 10, by = 1),\n",
    "                    decay = seq(from = 0.1, to = 0.9, by = 0.3))\n",
    "\n",
    "set.seed(123)\n",
    "rna <- train(Volume ~ ., data = treino, method = \"nnet\",\n",
    "             trainControl = ctrl, tuneGrid = grid, linout = TRUE,\n",
    "             MaxNWts = 10000, maxit = 2000, trace = FALSE)\n",
    "rna"
   ]
  },
  {
   "cell_type": "code",
   "execution_count": 8,
   "metadata": {
    "vscode": {
     "languageId": "r"
    }
   },
   "outputs": [
    {
     "data": {
      "text/html": [
       "9.0184053948247"
      ],
      "text/latex": [
       "9.0184053948247"
      ],
      "text/markdown": [
       "9.0184053948247"
      ],
      "text/plain": [
       "[1] 9.018405"
      ]
     },
     "metadata": {},
     "output_type": "display_data"
    },
    {
     "data": {
      "text/html": [
       "0.997897067213495"
      ],
      "text/latex": [
       "0.997897067213495"
      ],
      "text/markdown": [
       "0.997897067213495"
      ],
      "text/plain": [
       "[1] 0.9978971"
      ]
     },
     "metadata": {},
     "output_type": "display_data"
    }
   ],
   "source": [
    "# predicoes e metricas\n",
    "predict_rna <- predict(rna, teste)\n",
    "\n",
    "rmse(teste$Volume, predict_rna)\n",
    "\n",
    "r2(predict_rna, teste$Volume)\n"
   ]
  },
  {
   "cell_type": "code",
   "execution_count": 9,
   "metadata": {
    "vscode": {
     "languageId": "r"
    }
   },
   "outputs": [
    {
     "data": {
      "text/html": [
       "<table class=\"dataframe\">\n",
       "<caption>A data.frame: 3 × 6</caption>\n",
       "<thead>\n",
       "\t<tr><th scope=col>PROJETO</th><th scope=col>CLONE</th><th scope=col>Idade</th><th scope=col>Hdom</th><th scope=col>AreaBasal</th><th scope=col>Volume</th></tr>\n",
       "\t<tr><th scope=col>&lt;chr&gt;</th><th scope=col>&lt;chr&gt;</th><th scope=col>&lt;dbl&gt;</th><th scope=col>&lt;dbl&gt;</th><th scope=col>&lt;dbl&gt;</th><th scope=col>&lt;chr&gt;</th></tr>\n",
       "</thead>\n",
       "<tbody>\n",
       "\t<tr><td>Parada     </td><td>C3</td><td>21.5</td><td> 8.8</td><td> 4.2</td><td>?</td></tr>\n",
       "\t<tr><td>Santa Maria</td><td>A3</td><td>22.9</td><td>14.1</td><td> 5.6</td><td>?</td></tr>\n",
       "\t<tr><td>Jacutinga  </td><td>A2</td><td>59.4</td><td>22.3</td><td>13.0</td><td>?</td></tr>\n",
       "</tbody>\n",
       "</table>\n"
      ],
      "text/latex": [
       "A data.frame: 3 × 6\n",
       "\\begin{tabular}{llllll}\n",
       " PROJETO & CLONE & Idade & Hdom & AreaBasal & Volume\\\\\n",
       " <chr> & <chr> & <dbl> & <dbl> & <dbl> & <chr>\\\\\n",
       "\\hline\n",
       "\t Parada      & C3 & 21.5 &  8.8 &  4.2 & ?\\\\\n",
       "\t Santa Maria & A3 & 22.9 & 14.1 &  5.6 & ?\\\\\n",
       "\t Jacutinga   & A2 & 59.4 & 22.3 & 13.0 & ?\\\\\n",
       "\\end{tabular}\n"
      ],
      "text/markdown": [
       "\n",
       "A data.frame: 3 × 6\n",
       "\n",
       "| PROJETO &lt;chr&gt; | CLONE &lt;chr&gt; | Idade &lt;dbl&gt; | Hdom &lt;dbl&gt; | AreaBasal &lt;dbl&gt; | Volume &lt;chr&gt; |\n",
       "|---|---|---|---|---|---|\n",
       "| Parada      | C3 | 21.5 |  8.8 |  4.2 | ? |\n",
       "| Santa Maria | A3 | 22.9 | 14.1 |  5.6 | ? |\n",
       "| Jacutinga   | A2 | 59.4 | 22.3 | 13.0 | ? |\n",
       "\n"
      ],
      "text/plain": [
       "  PROJETO     CLONE Idade Hdom AreaBasal Volume\n",
       "1 Parada      C3    21.5   8.8  4.2      ?     \n",
       "2 Santa Maria A3    22.9  14.1  5.6      ?     \n",
       "3 Jacutinga   A2    59.4  22.3 13.0      ?     "
      ]
     },
     "metadata": {},
     "output_type": "display_data"
    },
    {
     "data": {
      "text/html": [
       "<table class=\"dataframe\">\n",
       "<caption>A data.frame: 3 × 6</caption>\n",
       "<thead>\n",
       "\t<tr><th></th><th scope=col>PROJETO</th><th scope=col>CLONE</th><th scope=col>Idade</th><th scope=col>Hdom</th><th scope=col>AreaBasal</th><th scope=col>predict_rna</th></tr>\n",
       "\t<tr><th></th><th scope=col>&lt;chr&gt;</th><th scope=col>&lt;chr&gt;</th><th scope=col>&lt;dbl&gt;</th><th scope=col>&lt;dbl&gt;</th><th scope=col>&lt;dbl&gt;</th><th scope=col>&lt;dbl&gt;</th></tr>\n",
       "</thead>\n",
       "<tbody>\n",
       "\t<tr><th scope=row>1</th><td>Parada     </td><td>C3</td><td>21.5</td><td> 8.8</td><td> 4.2</td><td> 32.54981</td></tr>\n",
       "\t<tr><th scope=row>2</th><td>Santa Maria</td><td>A3</td><td>22.9</td><td>14.1</td><td> 5.6</td><td>132.13582</td></tr>\n",
       "\t<tr><th scope=row>3</th><td>Jacutinga  </td><td>A2</td><td>59.4</td><td>22.3</td><td>13.0</td><td>283.05599</td></tr>\n",
       "</tbody>\n",
       "</table>\n"
      ],
      "text/latex": [
       "A data.frame: 3 × 6\n",
       "\\begin{tabular}{r|llllll}\n",
       "  & PROJETO & CLONE & Idade & Hdom & AreaBasal & predict\\_rna\\\\\n",
       "  & <chr> & <chr> & <dbl> & <dbl> & <dbl> & <dbl>\\\\\n",
       "\\hline\n",
       "\t1 & Parada      & C3 & 21.5 &  8.8 &  4.2 &  32.54981\\\\\n",
       "\t2 & Santa Maria & A3 & 22.9 & 14.1 &  5.6 & 132.13582\\\\\n",
       "\t3 & Jacutinga   & A2 & 59.4 & 22.3 & 13.0 & 283.05599\\\\\n",
       "\\end{tabular}\n"
      ],
      "text/markdown": [
       "\n",
       "A data.frame: 3 × 6\n",
       "\n",
       "| <!--/--> | PROJETO &lt;chr&gt; | CLONE &lt;chr&gt; | Idade &lt;dbl&gt; | Hdom &lt;dbl&gt; | AreaBasal &lt;dbl&gt; | predict_rna &lt;dbl&gt; |\n",
       "|---|---|---|---|---|---|---|\n",
       "| 1 | Parada      | C3 | 21.5 |  8.8 |  4.2 |  32.54981 |\n",
       "| 2 | Santa Maria | A3 | 22.9 | 14.1 |  5.6 | 132.13582 |\n",
       "| 3 | Jacutinga   | A2 | 59.4 | 22.3 | 13.0 | 283.05599 |\n",
       "\n"
      ],
      "text/plain": [
       "  PROJETO     CLONE Idade Hdom AreaBasal predict_rna\n",
       "1 Parada      C3    21.5   8.8  4.2       32.54981  \n",
       "2 Santa Maria A3    22.9  14.1  5.6      132.13582  \n",
       "3 Jacutinga   A2    59.4  22.3 13.0      283.05599  "
      ]
     },
     "metadata": {},
     "output_type": "display_data"
    }
   ],
   "source": [
    "##predição de novos casos\n",
    "\n",
    "dados_novos_casos <- read.csv(\"databases/2 - Volume - Dados - Novos Casos.csv\")\n",
    "\n",
    "View(dados_novos_casos)\n",
    "\n",
    "predict_rna <- predict(rna, dados_novos_casos)\n",
    "dados_novos_casos$Volume <- NULL\n",
    "\n",
    "resultado <- cbind(dados_novos_casos, predict_rna)\n",
    "\n",
    "View(resultado)"
   ]
  }
 ],
 "metadata": {
  "kernelspec": {
   "display_name": "R",
   "language": "R",
   "name": "ir"
  },
  "language_info": {
   "codemirror_mode": "r",
   "file_extension": ".r",
   "mimetype": "text/x-r-source",
   "name": "R",
   "pygments_lexer": "r",
   "version": "4.4.1"
  }
 },
 "nbformat": 4,
 "nbformat_minor": 2
}
