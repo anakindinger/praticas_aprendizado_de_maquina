{
 "cells": [
  {
   "cell_type": "code",
   "execution_count": 2,
   "metadata": {
    "vscode": {
     "languageId": "r"
    }
   },
   "outputs": [],
   "source": [
    "#instalação de pacotes necessários\n",
    "#install.packages(\"e1071\")\n",
    "#install.packages(\"caret\")\n",
    "#install.packages(\"mlbench\")\n",
    "#install.packages(\"mice\")\n",
    "library(caret)\n",
    "library(mlbench)\n",
    "library(mice)"
   ]
  },
  {
   "cell_type": "code",
   "execution_count": 4,
   "metadata": {
    "vscode": {
     "languageId": "r"
    }
   },
   "outputs": [
    {
     "data": {
      "text/html": [
       "<table class=\"dataframe\">\n",
       "<caption>A data.frame: 6 × 9</caption>\n",
       "<thead>\n",
       "\t<tr><th></th><th scope=col>age</th><th scope=col>job</th><th scope=col>marital</th><th scope=col>education</th><th scope=col>default</th><th scope=col>balance</th><th scope=col>housing</th><th scope=col>loan</th><th scope=col>y</th></tr>\n",
       "\t<tr><th></th><th scope=col>&lt;int&gt;</th><th scope=col>&lt;chr&gt;</th><th scope=col>&lt;chr&gt;</th><th scope=col>&lt;chr&gt;</th><th scope=col>&lt;chr&gt;</th><th scope=col>&lt;int&gt;</th><th scope=col>&lt;chr&gt;</th><th scope=col>&lt;chr&gt;</th><th scope=col>&lt;chr&gt;</th></tr>\n",
       "</thead>\n",
       "<tbody>\n",
       "\t<tr><th scope=row>1</th><td>30</td><td>unemployed</td><td>married</td><td>primary  </td><td>no</td><td>1787</td><td>no </td><td>no </td><td>no</td></tr>\n",
       "\t<tr><th scope=row>2</th><td>33</td><td>services  </td><td>married</td><td>secondary</td><td>no</td><td>4789</td><td>yes</td><td>yes</td><td>no</td></tr>\n",
       "\t<tr><th scope=row>3</th><td>35</td><td>management</td><td>single </td><td>tertiary </td><td>no</td><td>1350</td><td>yes</td><td>no </td><td>no</td></tr>\n",
       "\t<tr><th scope=row>4</th><td>30</td><td>management</td><td>married</td><td>tertiary </td><td>no</td><td>1476</td><td>yes</td><td>yes</td><td>no</td></tr>\n",
       "\t<tr><th scope=row>5</th><td>59</td><td>bluecollar</td><td>married</td><td>secondary</td><td>no</td><td>   0</td><td>yes</td><td>no </td><td>no</td></tr>\n",
       "\t<tr><th scope=row>6</th><td>35</td><td>management</td><td>single </td><td>tertiary </td><td>no</td><td> 747</td><td>no </td><td>no </td><td>no</td></tr>\n",
       "</tbody>\n",
       "</table>\n"
      ],
      "text/latex": [
       "A data.frame: 6 × 9\n",
       "\\begin{tabular}{r|lllllllll}\n",
       "  & age & job & marital & education & default & balance & housing & loan & y\\\\\n",
       "  & <int> & <chr> & <chr> & <chr> & <chr> & <int> & <chr> & <chr> & <chr>\\\\\n",
       "\\hline\n",
       "\t1 & 30 & unemployed & married & primary   & no & 1787 & no  & no  & no\\\\\n",
       "\t2 & 33 & services   & married & secondary & no & 4789 & yes & yes & no\\\\\n",
       "\t3 & 35 & management & single  & tertiary  & no & 1350 & yes & no  & no\\\\\n",
       "\t4 & 30 & management & married & tertiary  & no & 1476 & yes & yes & no\\\\\n",
       "\t5 & 59 & bluecollar & married & secondary & no &    0 & yes & no  & no\\\\\n",
       "\t6 & 35 & management & single  & tertiary  & no &  747 & no  & no  & no\\\\\n",
       "\\end{tabular}\n"
      ],
      "text/markdown": [
       "\n",
       "A data.frame: 6 × 9\n",
       "\n",
       "| <!--/--> | age &lt;int&gt; | job &lt;chr&gt; | marital &lt;chr&gt; | education &lt;chr&gt; | default &lt;chr&gt; | balance &lt;int&gt; | housing &lt;chr&gt; | loan &lt;chr&gt; | y &lt;chr&gt; |\n",
       "|---|---|---|---|---|---|---|---|---|---|\n",
       "| 1 | 30 | unemployed | married | primary   | no | 1787 | no  | no  | no |\n",
       "| 2 | 33 | services   | married | secondary | no | 4789 | yes | yes | no |\n",
       "| 3 | 35 | management | single  | tertiary  | no | 1350 | yes | no  | no |\n",
       "| 4 | 30 | management | married | tertiary  | no | 1476 | yes | yes | no |\n",
       "| 5 | 59 | bluecollar | married | secondary | no |    0 | yes | no  | no |\n",
       "| 6 | 35 | management | single  | tertiary  | no |  747 | no  | no  | no |\n",
       "\n"
      ],
      "text/plain": [
       "  age job        marital education default balance housing loan y \n",
       "1 30  unemployed married primary   no      1787    no      no   no\n",
       "2 33  services   married secondary no      4789    yes     yes  no\n",
       "3 35  management single  tertiary  no      1350    yes     no   no\n",
       "4 30  management married tertiary  no      1476    yes     yes  no\n",
       "5 59  bluecollar married secondary no         0    yes     no   no\n",
       "6 35  management single  tertiary  no       747    no      no   no"
      ]
     },
     "metadata": {},
     "output_type": "display_data"
    }
   ],
   "source": [
    "#leitura dos dados\n",
    "\n",
    "dados <- read.csv(\"databases/4 – Banco - Dados.csv\")\n",
    "\n",
    "head(dados)"
   ]
  },
  {
   "cell_type": "code",
   "execution_count": 5,
   "metadata": {
    "vscode": {
     "languageId": "r"
    }
   },
   "outputs": [],
   "source": [
    "#separando em bases de teste e treinamento\n",
    "set.seed(2034)\n",
    "indices <-  createDataPartition(dados$y, p = 0.80, list = FALSE)\n",
    "\n",
    "treino <- dados[indices, ]\n",
    "teste <- dados[-indices, ]"
   ]
  },
  {
   "cell_type": "code",
   "execution_count": 6,
   "metadata": {
    "vscode": {
     "languageId": "r"
    }
   },
   "outputs": [
    {
     "data": {
      "text/plain": [
       "Neural Network \n",
       "\n",
       "241 samples\n",
       "  8 predictor\n",
       "  2 classes: 'no', 'yes' \n",
       "\n",
       "No pre-processing\n",
       "Resampling: Bootstrapped (25 reps) \n",
       "Summary of sample sizes: 241, 241, 241, 241, 241, 241, ... \n",
       "Resampling results across tuning parameters:\n",
       "\n",
       "  size  decay  Accuracy   Kappa        \n",
       "  1     0e+00  0.8750789   0.0000000000\n",
       "  1     1e-04  0.8750789   0.0000000000\n",
       "  1     1e-01  0.8655094   0.0231396199\n",
       "  3     0e+00  0.8705219  -0.0005433962\n",
       "  3     1e-04  0.8676178   0.0118364838\n",
       "  3     1e-01  0.8497132   0.0518217575\n",
       "  5     0e+00  0.8750789   0.0000000000\n",
       "  5     1e-04  0.8651299   0.0003691639\n",
       "  5     1e-01  0.8471367   0.0837014804\n",
       "\n",
       "Accuracy was used to select the optimal model using the largest value.\n",
       "The final values used for the model were size = 1 and decay = 1e-04."
      ]
     },
     "metadata": {},
     "output_type": "display_data"
    }
   ],
   "source": [
    "#treinando o modelo com holdout\n",
    "\n",
    "set.seed(2034)\n",
    "rna <- train(y ~ ., data = treino, method = \"nnet\", trace = FALSE)\n",
    "rna"
   ]
  },
  {
   "cell_type": "code",
   "execution_count": 7,
   "metadata": {
    "vscode": {
     "languageId": "r"
    }
   },
   "outputs": [
    {
     "data": {
      "text/plain": [
       "Confusion Matrix and Statistics\n",
       "\n",
       "          Reference\n",
       "Prediction no yes\n",
       "       no  52   7\n",
       "       yes  0   0\n",
       "                                          \n",
       "               Accuracy : 0.8814          \n",
       "                 95% CI : (0.7707, 0.9509)\n",
       "    No Information Rate : 0.8814          \n",
       "    P-Value [Acc > NIR] : 0.59891         \n",
       "                                          \n",
       "                  Kappa : 0               \n",
       "                                          \n",
       " Mcnemar's Test P-Value : 0.02334         \n",
       "                                          \n",
       "            Sensitivity : 1.0000          \n",
       "            Specificity : 0.0000          \n",
       "         Pos Pred Value : 0.8814          \n",
       "         Neg Pred Value :    NaN          \n",
       "             Prevalence : 0.8814          \n",
       "         Detection Rate : 0.8814          \n",
       "   Detection Prevalence : 1.0000          \n",
       "      Balanced Accuracy : 0.5000          \n",
       "                                          \n",
       "       'Positive' Class : no              \n",
       "                                          "
      ]
     },
     "metadata": {},
     "output_type": "display_data"
    }
   ],
   "source": [
    "#predicoes dos valores do conjunto de teste\n",
    "predict_rna <- predict(rna, teste)\n",
    "\n",
    "#matriz de confusao\n",
    "confusionMatrix(predict_rna, as.factor(teste$y))"
   ]
  },
  {
   "cell_type": "code",
   "execution_count": 11,
   "metadata": {
    "vscode": {
     "languageId": "r"
    }
   },
   "outputs": [
    {
     "data": {
      "text/plain": [
       "Confusion Matrix and Statistics\n",
       "\n",
       "          Reference\n",
       "Prediction no yes\n",
       "       no  52   7\n",
       "       yes  0   0\n",
       "                                          \n",
       "               Accuracy : 0.8814          \n",
       "                 95% CI : (0.7707, 0.9509)\n",
       "    No Information Rate : 0.8814          \n",
       "    P-Value [Acc > NIR] : 0.59891         \n",
       "                                          \n",
       "                  Kappa : 0               \n",
       "                                          \n",
       " Mcnemar's Test P-Value : 0.02334         \n",
       "                                          \n",
       "            Sensitivity : 1.0000          \n",
       "            Specificity : 0.0000          \n",
       "         Pos Pred Value : 0.8814          \n",
       "         Neg Pred Value :    NaN          \n",
       "             Prevalence : 0.8814          \n",
       "         Detection Rate : 0.8814          \n",
       "   Detection Prevalence : 1.0000          \n",
       "      Balanced Accuracy : 0.5000          \n",
       "                                          \n",
       "       'Positive' Class : no              \n",
       "                                          "
      ]
     },
     "metadata": {},
     "output_type": "display_data"
    }
   ],
   "source": [
    "#usando cross validation\n",
    "ctrl <- trainControl(method = \"cv\", number = 10)\n",
    "\n",
    "#executando rna com control\n",
    "set.seed(2034)\n",
    "rna <- train(y ~ ., data = treino, method = \"nnet\", trace = FALSE, trControl = ctrl)\n",
    "predict_rna <- predict(rna, teste)\n",
    "\n",
    "confusionMatrix(predict_rna, as.factor(teste$y))"
   ]
  },
  {
   "cell_type": "code",
   "execution_count": 12,
   "metadata": {
    "vscode": {
     "languageId": "r"
    }
   },
   "outputs": [],
   "source": [
    "#parametrização\n",
    "grid <- expand.grid(size = seq(from = 1, to = 35, by = 10), decay = seq(from = 0.1, to = 0.6, by = 0.3))\n",
    "\n",
    "set.seed(2034)\n",
    "rna <- train(form = y ~ ., data = treino, method =\"nnet\", tuneGrid = grid, trControl = ctrl, maxit = 2000, trace = FALSE)"
   ]
  },
  {
   "cell_type": "code",
   "execution_count": 13,
   "metadata": {
    "vscode": {
     "languageId": "r"
    }
   },
   "outputs": [
    {
     "data": {
      "text/plain": [
       "Neural Network \n",
       "\n",
       "241 samples\n",
       "  8 predictor\n",
       "  2 classes: 'no', 'yes' \n",
       "\n",
       "No pre-processing\n",
       "Resampling: Cross-Validated (10 fold) \n",
       "Summary of sample sizes: 217, 216, 217, 217, 217, 217, ... \n",
       "Resampling results across tuning parameters:\n",
       "\n",
       "  size  decay  Accuracy   Kappa      \n",
       "   1    0.1    0.8590000  -0.01777778\n",
       "   1    0.4    0.8715000   0.00000000\n",
       "  11    0.1    0.8591667   0.13760684\n",
       "  11    0.4    0.8715000   0.00000000\n",
       "  21    0.1    0.8505000   0.14637363\n",
       "  21    0.4    0.8715000   0.00000000\n",
       "  31    0.1    0.8550000   0.16610743\n",
       "  31    0.4    0.8715000   0.00000000\n",
       "\n",
       "Accuracy was used to select the optimal model using the largest value.\n",
       "The final values used for the model were size = 1 and decay = 0.4."
      ]
     },
     "metadata": {},
     "output_type": "display_data"
    }
   ],
   "source": [
    "rna"
   ]
  },
  {
   "cell_type": "code",
   "execution_count": 14,
   "metadata": {
    "vscode": {
     "languageId": "r"
    }
   },
   "outputs": [
    {
     "data": {
      "text/plain": [
       "Confusion Matrix and Statistics\n",
       "\n",
       "          Reference\n",
       "Prediction no yes\n",
       "       no  52   7\n",
       "       yes  0   0\n",
       "                                          \n",
       "               Accuracy : 0.8814          \n",
       "                 95% CI : (0.7707, 0.9509)\n",
       "    No Information Rate : 0.8814          \n",
       "    P-Value [Acc > NIR] : 0.59891         \n",
       "                                          \n",
       "                  Kappa : 0               \n",
       "                                          \n",
       " Mcnemar's Test P-Value : 0.02334         \n",
       "                                          \n",
       "            Sensitivity : 1.0000          \n",
       "            Specificity : 0.0000          \n",
       "         Pos Pred Value : 0.8814          \n",
       "         Neg Pred Value :    NaN          \n",
       "             Prevalence : 0.8814          \n",
       "         Detection Rate : 0.8814          \n",
       "   Detection Prevalence : 1.0000          \n",
       "      Balanced Accuracy : 0.5000          \n",
       "                                          \n",
       "       'Positive' Class : no              \n",
       "                                          "
      ]
     },
     "metadata": {},
     "output_type": "display_data"
    }
   ],
   "source": [
    "#faz a predicao na base de teste e mostra a matriz de confusao\n",
    "predict_rna <- predict(rna, teste)\n",
    "confusionMatrix(predict_rna, as.factor(teste$y))\n"
   ]
  },
  {
   "cell_type": "code",
   "execution_count": 16,
   "metadata": {
    "vscode": {
     "languageId": "r"
    }
   },
   "outputs": [
    {
     "data": {
      "text/html": [
       "<table class=\"dataframe\">\n",
       "<caption>A data.frame: 3 × 9</caption>\n",
       "<thead>\n",
       "\t<tr><th scope=col>age</th><th scope=col>job</th><th scope=col>marital</th><th scope=col>education</th><th scope=col>default</th><th scope=col>balance</th><th scope=col>housing</th><th scope=col>loan</th><th scope=col>y</th></tr>\n",
       "\t<tr><th scope=col>&lt;int&gt;</th><th scope=col>&lt;chr&gt;</th><th scope=col>&lt;chr&gt;</th><th scope=col>&lt;chr&gt;</th><th scope=col>&lt;chr&gt;</th><th scope=col>&lt;int&gt;</th><th scope=col>&lt;chr&gt;</th><th scope=col>&lt;chr&gt;</th><th scope=col>&lt;chr&gt;</th></tr>\n",
       "</thead>\n",
       "<tbody>\n",
       "\t<tr><td>60</td><td>unemployed</td><td>married</td><td>primary  </td><td>no </td><td>2000</td><td>yes</td><td>yes</td><td>?</td></tr>\n",
       "\t<tr><td>33</td><td>services  </td><td>married</td><td>secondary</td><td>yes</td><td>3000</td><td>yes</td><td>no </td><td>?</td></tr>\n",
       "\t<tr><td>15</td><td>management</td><td>single </td><td>tertiary </td><td>no </td><td>1350</td><td>yes</td><td>no </td><td>?</td></tr>\n",
       "</tbody>\n",
       "</table>\n"
      ],
      "text/latex": [
       "A data.frame: 3 × 9\n",
       "\\begin{tabular}{lllllllll}\n",
       " age & job & marital & education & default & balance & housing & loan & y\\\\\n",
       " <int> & <chr> & <chr> & <chr> & <chr> & <int> & <chr> & <chr> & <chr>\\\\\n",
       "\\hline\n",
       "\t 60 & unemployed & married & primary   & no  & 2000 & yes & yes & ?\\\\\n",
       "\t 33 & services   & married & secondary & yes & 3000 & yes & no  & ?\\\\\n",
       "\t 15 & management & single  & tertiary  & no  & 1350 & yes & no  & ?\\\\\n",
       "\\end{tabular}\n"
      ],
      "text/markdown": [
       "\n",
       "A data.frame: 3 × 9\n",
       "\n",
       "| age &lt;int&gt; | job &lt;chr&gt; | marital &lt;chr&gt; | education &lt;chr&gt; | default &lt;chr&gt; | balance &lt;int&gt; | housing &lt;chr&gt; | loan &lt;chr&gt; | y &lt;chr&gt; |\n",
       "|---|---|---|---|---|---|---|---|---|\n",
       "| 60 | unemployed | married | primary   | no  | 2000 | yes | yes | ? |\n",
       "| 33 | services   | married | secondary | yes | 3000 | yes | no  | ? |\n",
       "| 15 | management | single  | tertiary  | no  | 1350 | yes | no  | ? |\n",
       "\n"
      ],
      "text/plain": [
       "  age job        marital education default balance housing loan y\n",
       "1 60  unemployed married primary   no      2000    yes     yes  ?\n",
       "2 33  services   married secondary yes     3000    yes     no   ?\n",
       "3 15  management single  tertiary  no      1350    yes     no   ?"
      ]
     },
     "metadata": {},
     "output_type": "display_data"
    },
    {
     "data": {
      "text/html": [
       "<table class=\"dataframe\">\n",
       "<caption>A data.frame: 3 × 9</caption>\n",
       "<thead>\n",
       "\t<tr><th scope=col>age</th><th scope=col>job</th><th scope=col>marital</th><th scope=col>education</th><th scope=col>default</th><th scope=col>balance</th><th scope=col>housing</th><th scope=col>loan</th><th scope=col>predict_rna</th></tr>\n",
       "\t<tr><th scope=col>&lt;int&gt;</th><th scope=col>&lt;chr&gt;</th><th scope=col>&lt;chr&gt;</th><th scope=col>&lt;chr&gt;</th><th scope=col>&lt;chr&gt;</th><th scope=col>&lt;int&gt;</th><th scope=col>&lt;chr&gt;</th><th scope=col>&lt;chr&gt;</th><th scope=col>&lt;fct&gt;</th></tr>\n",
       "</thead>\n",
       "<tbody>\n",
       "\t<tr><td>60</td><td>unemployed</td><td>married</td><td>primary  </td><td>no </td><td>2000</td><td>yes</td><td>yes</td><td>no</td></tr>\n",
       "\t<tr><td>33</td><td>services  </td><td>married</td><td>secondary</td><td>yes</td><td>3000</td><td>yes</td><td>no </td><td>no</td></tr>\n",
       "\t<tr><td>15</td><td>management</td><td>single </td><td>tertiary </td><td>no </td><td>1350</td><td>yes</td><td>no </td><td>no</td></tr>\n",
       "</tbody>\n",
       "</table>\n"
      ],
      "text/latex": [
       "A data.frame: 3 × 9\n",
       "\\begin{tabular}{lllllllll}\n",
       " age & job & marital & education & default & balance & housing & loan & predict\\_rna\\\\\n",
       " <int> & <chr> & <chr> & <chr> & <chr> & <int> & <chr> & <chr> & <fct>\\\\\n",
       "\\hline\n",
       "\t 60 & unemployed & married & primary   & no  & 2000 & yes & yes & no\\\\\n",
       "\t 33 & services   & married & secondary & yes & 3000 & yes & no  & no\\\\\n",
       "\t 15 & management & single  & tertiary  & no  & 1350 & yes & no  & no\\\\\n",
       "\\end{tabular}\n"
      ],
      "text/markdown": [
       "\n",
       "A data.frame: 3 × 9\n",
       "\n",
       "| age &lt;int&gt; | job &lt;chr&gt; | marital &lt;chr&gt; | education &lt;chr&gt; | default &lt;chr&gt; | balance &lt;int&gt; | housing &lt;chr&gt; | loan &lt;chr&gt; | predict_rna &lt;fct&gt; |\n",
       "|---|---|---|---|---|---|---|---|---|\n",
       "| 60 | unemployed | married | primary   | no  | 2000 | yes | yes | no |\n",
       "| 33 | services   | married | secondary | yes | 3000 | yes | no  | no |\n",
       "| 15 | management | single  | tertiary  | no  | 1350 | yes | no  | no |\n",
       "\n"
      ],
      "text/plain": [
       "  age job        marital education default balance housing loan predict_rna\n",
       "1 60  unemployed married primary   no      2000    yes     yes  no         \n",
       "2 33  services   married secondary yes     3000    yes     no   no         \n",
       "3 15  management single  tertiary  no      1350    yes     no   no         "
      ]
     },
     "metadata": {},
     "output_type": "display_data"
    }
   ],
   "source": [
    "#predicao para novos casos\n",
    "\n",
    "dados_novos_casos <- read.csv(\"databases/4 - Banco - Novos Casos.csv\")\n",
    "View(dados_novos_casos)\n",
    "\n",
    "predict_rna <- predict(rna, dados_novos_casos)\n",
    "dados_novos_casos$y <- NULL\n",
    "resultado <- cbind(dados_novos_casos, predict_rna)\n",
    "View(resultado)"
   ]
  }
 ],
 "metadata": {
  "kernelspec": {
   "display_name": "R",
   "language": "R",
   "name": "ir"
  },
  "language_info": {
   "codemirror_mode": "r",
   "file_extension": ".r",
   "mimetype": "text/x-r-source",
   "name": "R",
   "pygments_lexer": "r",
   "version": "4.4.1"
  }
 },
 "nbformat": 4,
 "nbformat_minor": 2
}
