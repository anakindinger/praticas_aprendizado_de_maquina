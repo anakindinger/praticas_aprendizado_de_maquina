{
 "cells": [
  {
   "cell_type": "code",
   "execution_count": 1,
   "metadata": {
    "vscode": {
     "languageId": "r"
    }
   },
   "outputs": [
    {
     "name": "stderr",
     "output_type": "stream",
     "text": [
      "Carregando pacotes exigidos: ggplot2\n",
      "\n",
      "\n",
      "Anexando pacote: 'ggplot2'\n",
      "\n",
      "\n",
      "O seguinte objeto é mascarado por 'package:kernlab':\n",
      "\n",
      "    alpha\n",
      "\n",
      "\n",
      "Carregando pacotes exigidos: lattice\n",
      "\n",
      "\n",
      "Anexando pacote: 'Metrics'\n",
      "\n",
      "\n",
      "Os seguintes objetos são mascarados por 'package:caret':\n",
      "\n",
      "    precision, recall\n",
      "\n",
      "\n"
     ]
    }
   ],
   "source": [
    "### Pacotes necessarios:\n",
    "# install.packages(\"e1071\")\n",
    "# install.packages(\"caret\")\n",
    "# install.packages(\"kernlab\")\n",
    "# install.packages(\"Metrics\")\n",
    "library(\"kernlab\")\n",
    "library(\"caret\")\n",
    "library(mlbench)\n",
    "library(\"Metrics\")"
   ]
  },
  {
   "cell_type": "code",
   "execution_count": 2,
   "metadata": {
    "vscode": {
     "languageId": "r"
    }
   },
   "outputs": [
    {
     "data": {
      "text/html": [
       "<table class=\"dataframe\">\n",
       "<caption>A data.frame: 6 × 6</caption>\n",
       "<thead>\n",
       "\t<tr><th></th><th scope=col>PROJETO</th><th scope=col>CLONE</th><th scope=col>Idade</th><th scope=col>Hdom</th><th scope=col>AreaBasal</th><th scope=col>Volume</th></tr>\n",
       "\t<tr><th></th><th scope=col>&lt;chr&gt;</th><th scope=col>&lt;chr&gt;</th><th scope=col>&lt;dbl&gt;</th><th scope=col>&lt;dbl&gt;</th><th scope=col>&lt;dbl&gt;</th><th scope=col>&lt;dbl&gt;</th></tr>\n",
       "</thead>\n",
       "<tbody>\n",
       "\t<tr><th scope=row>1</th><td>Fazenda Velha</td><td>C3</td><td>21.5</td><td> 8.8</td><td>3.2</td><td>12.1</td></tr>\n",
       "\t<tr><th scope=row>2</th><td>Fazenda Velha</td><td>A3</td><td>21.9</td><td>10.2</td><td>3.9</td><td>66.8</td></tr>\n",
       "\t<tr><th scope=row>3</th><td>Fazenda Velha</td><td>A3</td><td>26.1</td><td>10.1</td><td>4.2</td><td>72.1</td></tr>\n",
       "\t<tr><th scope=row>4</th><td>Fazenda Velha</td><td>A4</td><td>22.0</td><td>10.0</td><td>4.2</td><td>35.9</td></tr>\n",
       "\t<tr><th scope=row>5</th><td>Parada       </td><td>B7</td><td>23.4</td><td>15.3</td><td>4.3</td><td>44.5</td></tr>\n",
       "\t<tr><th scope=row>6</th><td>Fazenda Velha</td><td>A2</td><td>25.9</td><td>10.5</td><td>4.4</td><td>63.9</td></tr>\n",
       "</tbody>\n",
       "</table>\n"
      ],
      "text/latex": [
       "A data.frame: 6 × 6\n",
       "\\begin{tabular}{r|llllll}\n",
       "  & PROJETO & CLONE & Idade & Hdom & AreaBasal & Volume\\\\\n",
       "  & <chr> & <chr> & <dbl> & <dbl> & <dbl> & <dbl>\\\\\n",
       "\\hline\n",
       "\t1 & Fazenda Velha & C3 & 21.5 &  8.8 & 3.2 & 12.1\\\\\n",
       "\t2 & Fazenda Velha & A3 & 21.9 & 10.2 & 3.9 & 66.8\\\\\n",
       "\t3 & Fazenda Velha & A3 & 26.1 & 10.1 & 4.2 & 72.1\\\\\n",
       "\t4 & Fazenda Velha & A4 & 22.0 & 10.0 & 4.2 & 35.9\\\\\n",
       "\t5 & Parada        & B7 & 23.4 & 15.3 & 4.3 & 44.5\\\\\n",
       "\t6 & Fazenda Velha & A2 & 25.9 & 10.5 & 4.4 & 63.9\\\\\n",
       "\\end{tabular}\n"
      ],
      "text/markdown": [
       "\n",
       "A data.frame: 6 × 6\n",
       "\n",
       "| <!--/--> | PROJETO &lt;chr&gt; | CLONE &lt;chr&gt; | Idade &lt;dbl&gt; | Hdom &lt;dbl&gt; | AreaBasal &lt;dbl&gt; | Volume &lt;dbl&gt; |\n",
       "|---|---|---|---|---|---|---|\n",
       "| 1 | Fazenda Velha | C3 | 21.5 |  8.8 | 3.2 | 12.1 |\n",
       "| 2 | Fazenda Velha | A3 | 21.9 | 10.2 | 3.9 | 66.8 |\n",
       "| 3 | Fazenda Velha | A3 | 26.1 | 10.1 | 4.2 | 72.1 |\n",
       "| 4 | Fazenda Velha | A4 | 22.0 | 10.0 | 4.2 | 35.9 |\n",
       "| 5 | Parada        | B7 | 23.4 | 15.3 | 4.3 | 44.5 |\n",
       "| 6 | Fazenda Velha | A2 | 25.9 | 10.5 | 4.4 | 63.9 |\n",
       "\n"
      ],
      "text/plain": [
       "  PROJETO       CLONE Idade Hdom AreaBasal Volume\n",
       "1 Fazenda Velha C3    21.5   8.8 3.2       12.1  \n",
       "2 Fazenda Velha A3    21.9  10.2 3.9       66.8  \n",
       "3 Fazenda Velha A3    26.1  10.1 4.2       72.1  \n",
       "4 Fazenda Velha A4    22.0  10.0 4.2       35.9  \n",
       "5 Parada        B7    23.4  15.3 4.3       44.5  \n",
       "6 Fazenda Velha A2    25.9  10.5 4.4       63.9  "
      ]
     },
     "metadata": {},
     "output_type": "display_data"
    }
   ],
   "source": [
    "#carregamernto da base\n",
    "dados <- read.csv(\"databases/2 - Volume - Dados.csv\")\n",
    "head(dados)"
   ]
  },
  {
   "cell_type": "code",
   "execution_count": 3,
   "metadata": {
    "vscode": {
     "languageId": "r"
    }
   },
   "outputs": [],
   "source": [
    "# separação da base em 80% 20%\n",
    "set.seed(2034)\n",
    "\n",
    "indices <- createDataPartition(dados$Volume, p = 0.80, lis = FALSE)\n",
    "\n",
    "treino <- dados[indices, ]\n",
    "teste <- dados[-indices, ]"
   ]
  },
  {
   "cell_type": "code",
   "execution_count": 4,
   "metadata": {
    "vscode": {
     "languageId": "r"
    }
   },
   "outputs": [
    {
     "data": {
      "text/plain": [
       "Support Vector Machines with Radial Basis Function Kernel \n",
       "\n",
       "246 samples\n",
       "  5 predictor\n",
       "\n",
       "No pre-processing\n",
       "Resampling: Bootstrapped (25 reps) \n",
       "Summary of sample sizes: 246, 246, 246, 246, 246, 246, ... \n",
       "Resampling results across tuning parameters:\n",
       "\n",
       "  C     RMSE      Rsquared   MAE     \n",
       "  0.25  38.82743  0.9688585  26.80030\n",
       "  0.50  29.21977  0.9806463  20.72325\n",
       "  1.00  24.34270  0.9857847  17.73396\n",
       "\n",
       "Tuning parameter 'sigma' was held constant at a value of 0.08385485\n",
       "RMSE was used to select the optimal model using the smallest value.\n",
       "The final values used for the model were sigma = 0.08385485 and C = 1."
      ]
     },
     "metadata": {},
     "output_type": "display_data"
    }
   ],
   "source": [
    "# fazendo o treinamento do modelo de svmRadial usando hold-out\n",
    "\n",
    "set.seed(2034)\n",
    "\n",
    "svm <- train(Volume ~ ., data = treino, method = \"svmRadial\")\n",
    "svm"
   ]
  },
  {
   "cell_type": "code",
   "execution_count": 5,
   "metadata": {
    "vscode": {
     "languageId": "r"
    }
   },
   "outputs": [
    {
     "data": {
      "text/html": [
       "18.8541337736697"
      ],
      "text/latex": [
       "18.8541337736697"
      ],
      "text/markdown": [
       "18.8541337736697"
      ],
      "text/plain": [
       "[1] 18.85413"
      ]
     },
     "metadata": {},
     "output_type": "display_data"
    },
    {
     "data": {
      "text/html": [
       "0.990585682911377"
      ],
      "text/latex": [
       "0.990585682911377"
      ],
      "text/markdown": [
       "0.990585682911377"
      ],
      "text/plain": [
       "[1] 0.9905857"
      ]
     },
     "metadata": {},
     "output_type": "display_data"
    }
   ],
   "source": [
    "#aplicando o modelo na base de teste\n",
    "\n",
    "predict_svm <- predict(svm, teste)\n",
    "\n",
    "#calculando as metricas\n",
    "rmse(teste$Volume, predict_svm)\n",
    "\n",
    "r2 <- function(predito, observado) {\n",
    "  return(1 - (sum((predito - observado)^2) /\n",
    "                sum((observado - mean(observado))^2)))\n",
    "}\n",
    "\n",
    "r2(predict_svm, teste$Volume)"
   ]
  },
  {
   "cell_type": "code",
   "execution_count": 8,
   "metadata": {
    "vscode": {
     "languageId": "r"
    }
   },
   "outputs": [
    {
     "data": {
      "text/plain": [
       "Support Vector Machines with Radial Basis Function Kernel \n",
       "\n",
       "246 samples\n",
       "  5 predictor\n",
       "\n",
       "No pre-processing\n",
       "Resampling: Cross-Validated (10 fold) \n",
       "Summary of sample sizes: 222, 221, 219, 222, 222, 222, ... \n",
       "Resampling results across tuning parameters:\n",
       "\n",
       "  C     RMSE      Rsquared   MAE     \n",
       "  0.25  35.77839  0.9775831  25.58888\n",
       "  0.50  26.56577  0.9863196  19.40650\n",
       "  1.00  20.81773  0.9904685  15.60169\n",
       "\n",
       "Tuning parameter 'sigma' was held constant at a value of 0.08385485\n",
       "RMSE was used to select the optimal model using the smallest value.\n",
       "The final values used for the model were sigma = 0.08385485 and C = 1."
      ]
     },
     "metadata": {},
     "output_type": "display_data"
    }
   ],
   "source": [
    "#usando cross-validation\n",
    "ctrl <- trainControl(method = \"cv\", number = 10)\n",
    "\n",
    "set.seed(2034)\n",
    "svm <- train(Volume ~ ., data = treino, method = \"svmRadial\", trControl = ctrl)\n",
    "svm"
   ]
  },
  {
   "cell_type": "code",
   "execution_count": 9,
   "metadata": {
    "vscode": {
     "languageId": "r"
    }
   },
   "outputs": [
    {
     "data": {
      "text/html": [
       "18.8541337736697"
      ],
      "text/latex": [
       "18.8541337736697"
      ],
      "text/markdown": [
       "18.8541337736697"
      ],
      "text/plain": [
       "[1] 18.85413"
      ]
     },
     "metadata": {},
     "output_type": "display_data"
    },
    {
     "data": {
      "text/html": [
       "0.990585682911377"
      ],
      "text/latex": [
       "0.990585682911377"
      ],
      "text/markdown": [
       "0.990585682911377"
      ],
      "text/plain": [
       "[1] 0.9905857"
      ]
     },
     "metadata": {},
     "output_type": "display_data"
    }
   ],
   "source": [
    "#aplicando os modelos treinados na base de teste\n",
    "\n",
    "predict_svm <- predict(svm, teste)\n",
    "\n",
    "#calculando as metricas\n",
    "rmse(teste$Volume, predict_svm)\n",
    "r2(predict_svm, teste$Volume)"
   ]
  },
  {
   "cell_type": "code",
   "execution_count": 10,
   "metadata": {
    "vscode": {
     "languageId": "r"
    }
   },
   "outputs": [
    {
     "data": {
      "text/plain": [
       "Support Vector Machines with Radial Basis Function Kernel \n",
       "\n",
       "246 samples\n",
       "  5 predictor\n",
       "\n",
       "No pre-processing\n",
       "Resampling: Cross-Validated (10 fold) \n",
       "Summary of sample sizes: 222, 221, 219, 222, 222, 222, ... \n",
       "Resampling results across tuning parameters:\n",
       "\n",
       "  C    sigma  RMSE      Rsquared   MAE     \n",
       "    1  0.015  21.80925  0.9901580  15.95344\n",
       "    1  0.021  19.21112  0.9922378  14.61384\n",
       "    1  0.200  30.88650  0.9811579  21.04720\n",
       "    2  0.015  16.44322  0.9938854  12.67541\n",
       "    2  0.021  15.57157  0.9946196  12.27378\n",
       "    2  0.200  26.69831  0.9846475  18.24542\n",
       "   10  0.015  12.87720  0.9961190  10.50150\n",
       "   10  0.021  13.91277  0.9958098  11.69571\n",
       "   10  0.200  25.80991  0.9855112  17.88841\n",
       "   50  0.015  12.68891  0.9962101  10.46622\n",
       "   50  0.021  13.91510  0.9958090  11.69488\n",
       "   50  0.200  25.80991  0.9855112  17.88841\n",
       "  100  0.015  12.68891  0.9962101  10.46622\n",
       "  100  0.021  13.91510  0.9958090  11.69488\n",
       "  100  0.200  25.80991  0.9855112  17.88841\n",
       "\n",
       "RMSE was used to select the optimal model using the smallest value.\n",
       "The final values used for the model were sigma = 0.015 and C = 50."
      ]
     },
     "metadata": {},
     "output_type": "display_data"
    }
   ],
   "source": [
    "# testando outros valores de C e sigma\n",
    "tune_grid <- expand.grid(C = c(1, 2, 10, 50, 100), sigma = c(.021, .015, 0.2))\n",
    "\n",
    "set.seed(2034)\n",
    "svm <- train(Volume ~ ., data = treino, method = \"svmRadial\", trControl = ctrl, tuneGrid = tune_grid)\n",
    "svm"
   ]
  },
  {
   "cell_type": "code",
   "execution_count": 11,
   "metadata": {
    "vscode": {
     "languageId": "r"
    }
   },
   "outputs": [
    {
     "data": {
      "text/html": [
       "10.4038739239022"
      ],
      "text/latex": [
       "10.4038739239022"
      ],
      "text/markdown": [
       "10.4038739239022"
      ],
      "text/plain": [
       "[1] 10.40387"
      ]
     },
     "metadata": {},
     "output_type": "display_data"
    },
    {
     "data": {
      "text/html": [
       "0.997133408458934"
      ],
      "text/latex": [
       "0.997133408458934"
      ],
      "text/markdown": [
       "0.997133408458934"
      ],
      "text/plain": [
       "[1] 0.9971334"
      ]
     },
     "metadata": {},
     "output_type": "display_data"
    }
   ],
   "source": [
    "#aplicando o modelo na base de teste\n",
    "predict_svm <- predict(svm, teste)\n",
    "\n",
    "#calculando as metricas\n",
    "rmse(teste$Volume, predict_svm)\n",
    "r2(predict_svm, teste$Volume)"
   ]
  },
  {
   "cell_type": "code",
   "execution_count": 12,
   "metadata": {
    "vscode": {
     "languageId": "r"
    }
   },
   "outputs": [
    {
     "data": {
      "text/html": [
       "<table class=\"dataframe\">\n",
       "<caption>A data.frame: 3 × 6</caption>\n",
       "<thead>\n",
       "\t<tr><th scope=col>PROJETO</th><th scope=col>CLONE</th><th scope=col>Idade</th><th scope=col>Hdom</th><th scope=col>AreaBasal</th><th scope=col>Volume</th></tr>\n",
       "\t<tr><th scope=col>&lt;chr&gt;</th><th scope=col>&lt;chr&gt;</th><th scope=col>&lt;dbl&gt;</th><th scope=col>&lt;dbl&gt;</th><th scope=col>&lt;dbl&gt;</th><th scope=col>&lt;chr&gt;</th></tr>\n",
       "</thead>\n",
       "<tbody>\n",
       "\t<tr><td>Parada     </td><td>C3</td><td>21.5</td><td> 8.8</td><td> 4.2</td><td>?</td></tr>\n",
       "\t<tr><td>Santa Maria</td><td>A3</td><td>22.9</td><td>14.1</td><td> 5.6</td><td>?</td></tr>\n",
       "\t<tr><td>Jacutinga  </td><td>A2</td><td>59.4</td><td>22.3</td><td>13.0</td><td>?</td></tr>\n",
       "</tbody>\n",
       "</table>\n"
      ],
      "text/latex": [
       "A data.frame: 3 × 6\n",
       "\\begin{tabular}{llllll}\n",
       " PROJETO & CLONE & Idade & Hdom & AreaBasal & Volume\\\\\n",
       " <chr> & <chr> & <dbl> & <dbl> & <dbl> & <chr>\\\\\n",
       "\\hline\n",
       "\t Parada      & C3 & 21.5 &  8.8 &  4.2 & ?\\\\\n",
       "\t Santa Maria & A3 & 22.9 & 14.1 &  5.6 & ?\\\\\n",
       "\t Jacutinga   & A2 & 59.4 & 22.3 & 13.0 & ?\\\\\n",
       "\\end{tabular}\n"
      ],
      "text/markdown": [
       "\n",
       "A data.frame: 3 × 6\n",
       "\n",
       "| PROJETO &lt;chr&gt; | CLONE &lt;chr&gt; | Idade &lt;dbl&gt; | Hdom &lt;dbl&gt; | AreaBasal &lt;dbl&gt; | Volume &lt;chr&gt; |\n",
       "|---|---|---|---|---|---|\n",
       "| Parada      | C3 | 21.5 |  8.8 |  4.2 | ? |\n",
       "| Santa Maria | A3 | 22.9 | 14.1 |  5.6 | ? |\n",
       "| Jacutinga   | A2 | 59.4 | 22.3 | 13.0 | ? |\n",
       "\n"
      ],
      "text/plain": [
       "  PROJETO     CLONE Idade Hdom AreaBasal Volume\n",
       "1 Parada      C3    21.5   8.8  4.2      ?     \n",
       "2 Santa Maria A3    22.9  14.1  5.6      ?     \n",
       "3 Jacutinga   A2    59.4  22.3 13.0      ?     "
      ]
     },
     "metadata": {},
     "output_type": "display_data"
    },
    {
     "data": {
      "text/html": [
       "<table class=\"dataframe\">\n",
       "<caption>A data.frame: 3 × 6</caption>\n",
       "<thead>\n",
       "\t<tr><th scope=col>PROJETO</th><th scope=col>CLONE</th><th scope=col>Idade</th><th scope=col>Hdom</th><th scope=col>AreaBasal</th><th scope=col>predict_svm</th></tr>\n",
       "\t<tr><th scope=col>&lt;chr&gt;</th><th scope=col>&lt;chr&gt;</th><th scope=col>&lt;dbl&gt;</th><th scope=col>&lt;dbl&gt;</th><th scope=col>&lt;dbl&gt;</th><th scope=col>&lt;dbl&gt;</th></tr>\n",
       "</thead>\n",
       "<tbody>\n",
       "\t<tr><td>Parada     </td><td>C3</td><td>21.5</td><td> 8.8</td><td> 4.2</td><td> 23.45296</td></tr>\n",
       "\t<tr><td>Santa Maria</td><td>A3</td><td>22.9</td><td>14.1</td><td> 5.6</td><td>142.16872</td></tr>\n",
       "\t<tr><td>Jacutinga  </td><td>A2</td><td>59.4</td><td>22.3</td><td>13.0</td><td>294.02829</td></tr>\n",
       "</tbody>\n",
       "</table>\n"
      ],
      "text/latex": [
       "A data.frame: 3 × 6\n",
       "\\begin{tabular}{llllll}\n",
       " PROJETO & CLONE & Idade & Hdom & AreaBasal & predict\\_svm\\\\\n",
       " <chr> & <chr> & <dbl> & <dbl> & <dbl> & <dbl>\\\\\n",
       "\\hline\n",
       "\t Parada      & C3 & 21.5 &  8.8 &  4.2 &  23.45296\\\\\n",
       "\t Santa Maria & A3 & 22.9 & 14.1 &  5.6 & 142.16872\\\\\n",
       "\t Jacutinga   & A2 & 59.4 & 22.3 & 13.0 & 294.02829\\\\\n",
       "\\end{tabular}\n"
      ],
      "text/markdown": [
       "\n",
       "A data.frame: 3 × 6\n",
       "\n",
       "| PROJETO &lt;chr&gt; | CLONE &lt;chr&gt; | Idade &lt;dbl&gt; | Hdom &lt;dbl&gt; | AreaBasal &lt;dbl&gt; | predict_svm &lt;dbl&gt; |\n",
       "|---|---|---|---|---|---|\n",
       "| Parada      | C3 | 21.5 |  8.8 |  4.2 |  23.45296 |\n",
       "| Santa Maria | A3 | 22.9 | 14.1 |  5.6 | 142.16872 |\n",
       "| Jacutinga   | A2 | 59.4 | 22.3 | 13.0 | 294.02829 |\n",
       "\n"
      ],
      "text/plain": [
       "  PROJETO     CLONE Idade Hdom AreaBasal predict_svm\n",
       "1 Parada      C3    21.5   8.8  4.2       23.45296  \n",
       "2 Santa Maria A3    22.9  14.1  5.6      142.16872  \n",
       "3 Jacutinga   A2    59.4  22.3 13.0      294.02829  "
      ]
     },
     "metadata": {},
     "output_type": "display_data"
    }
   ],
   "source": [
    "#predicoes de novos casos\n",
    "dados_novos_casos <- read.csv(\"databases/2 - Volume - Dados - Novos Casos.csv\")\n",
    "View(dados_novos_casos)\n",
    "\n",
    "dados_novos_casos$Volume <- NULL\n",
    "predict_svm <- predict(svm, dados_novos_casos)\n",
    "resultado <- cbind(dados_novos_casos, predict_svm)\n",
    "View(resultado)"
   ]
  }
 ],
 "metadata": {
  "kernelspec": {
   "display_name": "R",
   "language": "R",
   "name": "ir"
  },
  "language_info": {
   "codemirror_mode": "r",
   "file_extension": ".r",
   "mimetype": "text/x-r-source",
   "name": "R",
   "pygments_lexer": "r",
   "version": "4.4.1"
  }
 },
 "nbformat": 4,
 "nbformat_minor": 2
}
