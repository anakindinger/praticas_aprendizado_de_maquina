{
 "cells": [
  {
   "cell_type": "code",
   "execution_count": 6,
   "metadata": {
    "vscode": {
     "languageId": "r"
    }
   },
   "outputs": [
    {
     "name": "stderr",
     "output_type": "stream",
     "text": [
      "\n",
      "Anexando pacote: 'Metrics'\n",
      "\n",
      "\n",
      "Os seguintes objetos são mascarados por 'package:caret':\n",
      "\n",
      "    precision, recall\n",
      "\n",
      "\n"
     ]
    }
   ],
   "source": [
    "### Pacotes necessarios:\n",
    "# install.packages(\"e1071\")\n",
    "# install.packages(\"caret\")\n",
    "# install.packages(\"kernlab\")\n",
    "# install.packages(\"Metrics\")\n",
    "library(\"kernlab\")\n",
    "library(\"caret\")\n",
    "library(mlbench)\n",
    "library(\"Metrics\")"
   ]
  },
  {
   "cell_type": "code",
   "execution_count": 3,
   "metadata": {
    "vscode": {
     "languageId": "r"
    }
   },
   "outputs": [
    {
     "data": {
      "text/html": [
       "<table class=\"dataframe\">\n",
       "<caption>A data.frame: 6 × 6</caption>\n",
       "<thead>\n",
       "\t<tr><th></th><th scope=col>PROJETO</th><th scope=col>CLONE</th><th scope=col>Idade</th><th scope=col>Hdom</th><th scope=col>AreaBasal</th><th scope=col>Volume</th></tr>\n",
       "\t<tr><th></th><th scope=col>&lt;chr&gt;</th><th scope=col>&lt;chr&gt;</th><th scope=col>&lt;dbl&gt;</th><th scope=col>&lt;dbl&gt;</th><th scope=col>&lt;dbl&gt;</th><th scope=col>&lt;dbl&gt;</th></tr>\n",
       "</thead>\n",
       "<tbody>\n",
       "\t<tr><th scope=row>1</th><td>Fazenda Velha</td><td>C3</td><td>21.5</td><td> 8.8</td><td>3.2</td><td>12.1</td></tr>\n",
       "\t<tr><th scope=row>2</th><td>Fazenda Velha</td><td>A3</td><td>21.9</td><td>10.2</td><td>3.9</td><td>66.8</td></tr>\n",
       "\t<tr><th scope=row>3</th><td>Fazenda Velha</td><td>A3</td><td>26.1</td><td>10.1</td><td>4.2</td><td>72.1</td></tr>\n",
       "\t<tr><th scope=row>4</th><td>Fazenda Velha</td><td>A4</td><td>22.0</td><td>10.0</td><td>4.2</td><td>35.9</td></tr>\n",
       "\t<tr><th scope=row>5</th><td>Parada       </td><td>B7</td><td>23.4</td><td>15.3</td><td>4.3</td><td>44.5</td></tr>\n",
       "\t<tr><th scope=row>6</th><td>Fazenda Velha</td><td>A2</td><td>25.9</td><td>10.5</td><td>4.4</td><td>63.9</td></tr>\n",
       "</tbody>\n",
       "</table>\n"
      ],
      "text/latex": [
       "A data.frame: 6 × 6\n",
       "\\begin{tabular}{r|llllll}\n",
       "  & PROJETO & CLONE & Idade & Hdom & AreaBasal & Volume\\\\\n",
       "  & <chr> & <chr> & <dbl> & <dbl> & <dbl> & <dbl>\\\\\n",
       "\\hline\n",
       "\t1 & Fazenda Velha & C3 & 21.5 &  8.8 & 3.2 & 12.1\\\\\n",
       "\t2 & Fazenda Velha & A3 & 21.9 & 10.2 & 3.9 & 66.8\\\\\n",
       "\t3 & Fazenda Velha & A3 & 26.1 & 10.1 & 4.2 & 72.1\\\\\n",
       "\t4 & Fazenda Velha & A4 & 22.0 & 10.0 & 4.2 & 35.9\\\\\n",
       "\t5 & Parada        & B7 & 23.4 & 15.3 & 4.3 & 44.5\\\\\n",
       "\t6 & Fazenda Velha & A2 & 25.9 & 10.5 & 4.4 & 63.9\\\\\n",
       "\\end{tabular}\n"
      ],
      "text/markdown": [
       "\n",
       "A data.frame: 6 × 6\n",
       "\n",
       "| <!--/--> | PROJETO &lt;chr&gt; | CLONE &lt;chr&gt; | Idade &lt;dbl&gt; | Hdom &lt;dbl&gt; | AreaBasal &lt;dbl&gt; | Volume &lt;dbl&gt; |\n",
       "|---|---|---|---|---|---|---|\n",
       "| 1 | Fazenda Velha | C3 | 21.5 |  8.8 | 3.2 | 12.1 |\n",
       "| 2 | Fazenda Velha | A3 | 21.9 | 10.2 | 3.9 | 66.8 |\n",
       "| 3 | Fazenda Velha | A3 | 26.1 | 10.1 | 4.2 | 72.1 |\n",
       "| 4 | Fazenda Velha | A4 | 22.0 | 10.0 | 4.2 | 35.9 |\n",
       "| 5 | Parada        | B7 | 23.4 | 15.3 | 4.3 | 44.5 |\n",
       "| 6 | Fazenda Velha | A2 | 25.9 | 10.5 | 4.4 | 63.9 |\n",
       "\n"
      ],
      "text/plain": [
       "  PROJETO       CLONE Idade Hdom AreaBasal Volume\n",
       "1 Fazenda Velha C3    21.5   8.8 3.2       12.1  \n",
       "2 Fazenda Velha A3    21.9  10.2 3.9       66.8  \n",
       "3 Fazenda Velha A3    26.1  10.1 4.2       72.1  \n",
       "4 Fazenda Velha A4    22.0  10.0 4.2       35.9  \n",
       "5 Parada        B7    23.4  15.3 4.3       44.5  \n",
       "6 Fazenda Velha A2    25.9  10.5 4.4       63.9  "
      ]
     },
     "metadata": {},
     "output_type": "display_data"
    }
   ],
   "source": [
    "#carregamernto da base\n",
    "dados <- read.csv(\"databases/2 - Volume - Dados.csv\")\n",
    "head(dados)"
   ]
  },
  {
   "cell_type": "code",
   "execution_count": 4,
   "metadata": {
    "vscode": {
     "languageId": "r"
    }
   },
   "outputs": [],
   "source": [
    "# separação da base em 80% 20%\n",
    "set.seed(2034)\n",
    "\n",
    "indices <- createDataPartition(dados$Volume, p = 0.80, lis = FALSE)\n",
    "\n",
    "treino <- dados[indices, ]\n",
    "teste <- dados[-indices, ]"
   ]
  },
  {
   "cell_type": "code",
   "execution_count": 5,
   "metadata": {
    "vscode": {
     "languageId": "r"
    }
   },
   "outputs": [
    {
     "data": {
      "text/plain": [
       "Support Vector Machines with Radial Basis Function Kernel \n",
       "\n",
       "246 samples\n",
       "  5 predictor\n",
       "\n",
       "No pre-processing\n",
       "Resampling: Bootstrapped (25 reps) \n",
       "Summary of sample sizes: 246, 246, 246, 246, 246, 246, ... \n",
       "Resampling results across tuning parameters:\n",
       "\n",
       "  C     RMSE      Rsquared   MAE     \n",
       "  0.25  41.69978  0.9647548  27.74106\n",
       "  0.50  31.76326  0.9771219  21.56646\n",
       "  1.00  27.03157  0.9821586  18.66844\n",
       "\n",
       "Tuning parameter 'sigma' was held constant at a value of 0.1063542\n",
       "RMSE was used to select the optimal model using the smallest value.\n",
       "The final values used for the model were sigma = 0.1063542 and C = 1."
      ]
     },
     "metadata": {},
     "output_type": "display_data"
    }
   ],
   "source": [
    "# fazendo o treinamento do modelo de svmRadial usando hold-out\n",
    "\n",
    "set.seed(2034)\n",
    "\n",
    "svm <- train(Volume ~ ., data = treino, method = \"svmRadial\")\n",
    "svm"
   ]
  },
  {
   "cell_type": "code",
   "execution_count": 7,
   "metadata": {
    "vscode": {
     "languageId": "r"
    }
   },
   "outputs": [
    {
     "data": {
      "text/html": [
       "20.5987100197363"
      ],
      "text/latex": [
       "20.5987100197363"
      ],
      "text/markdown": [
       "20.5987100197363"
      ],
      "text/plain": [
       "[1] 20.59871"
      ]
     },
     "metadata": {},
     "output_type": "display_data"
    },
    {
     "data": {
      "text/html": [
       "0.988182970018123"
      ],
      "text/latex": [
       "0.988182970018123"
      ],
      "text/markdown": [
       "0.988182970018123"
      ],
      "text/plain": [
       "[1] 0.988183"
      ]
     },
     "metadata": {},
     "output_type": "display_data"
    }
   ],
   "source": [
    "#aplicando o modelo na base de teste\n",
    "\n",
    "predict_svm <- predict(svm, teste)\n",
    "\n",
    "#calculando as metricas\n",
    "rmse(teste$Volume, predict_svm)\n",
    "\n",
    "r2 <- function(predito, observado) {\n",
    "  return(1 - (sum((predito - observado)^2) /\n",
    "                sum((observado - mean(observado))^2)))\n",
    "}\n",
    "\n",
    "r2(predict_svm, teste$Volume)"
   ]
  },
  {
   "cell_type": "code",
   "execution_count": null,
   "metadata": {
    "vscode": {
     "languageId": "r"
    }
   },
   "outputs": [],
   "source": [
    "#usando cross-validation\n",
    "ctrl <- trainControl(method = \"cv\", bnumber = 10)\n",
    "\n",
    "set.seed()"
   ]
  }
 ],
 "metadata": {
  "kernelspec": {
   "display_name": "R",
   "language": "R",
   "name": "ir"
  },
  "language_info": {
   "codemirror_mode": "r",
   "file_extension": ".r",
   "mimetype": "text/x-r-source",
   "name": "R",
   "pygments_lexer": "r",
   "version": "4.4.1"
  }
 },
 "nbformat": 4,
 "nbformat_minor": 2
}
