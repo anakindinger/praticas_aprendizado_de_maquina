{
 "cells": [
  {
   "cell_type": "code",
   "execution_count": 21,
   "metadata": {
    "vscode": {
     "languageId": "r"
    }
   },
   "outputs": [],
   "source": [
    "## Pacotes necessários:\n",
    "#install.packages(\"e1071\") \n",
    "#install.packages(\"caret\")\n",
    "#install.packages(\"randomForest\")\n",
    "library(\"caret\")\n",
    "library(\"randomForest\")"
   ]
  },
  {
   "cell_type": "code",
   "execution_count": 22,
   "metadata": {
    "vscode": {
     "languageId": "r"
    }
   },
   "outputs": [
    {
     "data": {
      "text/html": [
       "<table class=\"dataframe\">\n",
       "<caption>A data.frame: 6 × 10</caption>\n",
       "<thead>\n",
       "\t<tr><th></th><th scope=col>Cl.thickness</th><th scope=col>Cell.size</th><th scope=col>Cell.shape</th><th scope=col>Marg.adhesion</th><th scope=col>Epith.c.size</th><th scope=col>Bare.nuclei</th><th scope=col>Bl.cromatin</th><th scope=col>Normal.nucleoli</th><th scope=col>Mitoses</th><th scope=col>Class</th></tr>\n",
       "\t<tr><th></th><th scope=col>&lt;dbl&gt;</th><th scope=col>&lt;dbl&gt;</th><th scope=col>&lt;dbl&gt;</th><th scope=col>&lt;dbl&gt;</th><th scope=col>&lt;dbl&gt;</th><th scope=col>&lt;dbl&gt;</th><th scope=col>&lt;dbl&gt;</th><th scope=col>&lt;dbl&gt;</th><th scope=col>&lt;dbl&gt;</th><th scope=col>&lt;chr&gt;</th></tr>\n",
       "</thead>\n",
       "<tbody>\n",
       "\t<tr><th scope=row>1</th><td>5</td><td> 1</td><td> 1</td><td>1</td><td>2</td><td> 1</td><td>3</td><td>1</td><td>1</td><td>benign   </td></tr>\n",
       "\t<tr><th scope=row>2</th><td>5</td><td> 4</td><td> 4</td><td>5</td><td>7</td><td>10</td><td>3</td><td>2</td><td>1</td><td>benign   </td></tr>\n",
       "\t<tr><th scope=row>3</th><td>3</td><td> 1</td><td> 1</td><td>1</td><td>2</td><td> 2</td><td>3</td><td>1</td><td>1</td><td>benign   </td></tr>\n",
       "\t<tr><th scope=row>4</th><td>6</td><td> 8</td><td> 8</td><td>1</td><td>3</td><td> 4</td><td>3</td><td>7</td><td>1</td><td>benign   </td></tr>\n",
       "\t<tr><th scope=row>5</th><td>4</td><td> 1</td><td> 1</td><td>3</td><td>2</td><td> 1</td><td>3</td><td>1</td><td>1</td><td>benign   </td></tr>\n",
       "\t<tr><th scope=row>6</th><td>8</td><td>10</td><td>10</td><td>8</td><td>7</td><td>10</td><td>9</td><td>7</td><td>1</td><td>malignant</td></tr>\n",
       "</tbody>\n",
       "</table>\n"
      ],
      "text/latex": [
       "A data.frame: 6 × 10\n",
       "\\begin{tabular}{r|llllllllll}\n",
       "  & Cl.thickness & Cell.size & Cell.shape & Marg.adhesion & Epith.c.size & Bare.nuclei & Bl.cromatin & Normal.nucleoli & Mitoses & Class\\\\\n",
       "  & <dbl> & <dbl> & <dbl> & <dbl> & <dbl> & <dbl> & <dbl> & <dbl> & <dbl> & <chr>\\\\\n",
       "\\hline\n",
       "\t1 & 5 &  1 &  1 & 1 & 2 &  1 & 3 & 1 & 1 & benign   \\\\\n",
       "\t2 & 5 &  4 &  4 & 5 & 7 & 10 & 3 & 2 & 1 & benign   \\\\\n",
       "\t3 & 3 &  1 &  1 & 1 & 2 &  2 & 3 & 1 & 1 & benign   \\\\\n",
       "\t4 & 6 &  8 &  8 & 1 & 3 &  4 & 3 & 7 & 1 & benign   \\\\\n",
       "\t5 & 4 &  1 &  1 & 3 & 2 &  1 & 3 & 1 & 1 & benign   \\\\\n",
       "\t6 & 8 & 10 & 10 & 8 & 7 & 10 & 9 & 7 & 1 & malignant\\\\\n",
       "\\end{tabular}\n"
      ],
      "text/markdown": [
       "\n",
       "A data.frame: 6 × 10\n",
       "\n",
       "| <!--/--> | Cl.thickness &lt;dbl&gt; | Cell.size &lt;dbl&gt; | Cell.shape &lt;dbl&gt; | Marg.adhesion &lt;dbl&gt; | Epith.c.size &lt;dbl&gt; | Bare.nuclei &lt;dbl&gt; | Bl.cromatin &lt;dbl&gt; | Normal.nucleoli &lt;dbl&gt; | Mitoses &lt;dbl&gt; | Class &lt;chr&gt; |\n",
       "|---|---|---|---|---|---|---|---|---|---|---|\n",
       "| 1 | 5 |  1 |  1 | 1 | 2 |  1 | 3 | 1 | 1 | benign    |\n",
       "| 2 | 5 |  4 |  4 | 5 | 7 | 10 | 3 | 2 | 1 | benign    |\n",
       "| 3 | 3 |  1 |  1 | 1 | 2 |  2 | 3 | 1 | 1 | benign    |\n",
       "| 4 | 6 |  8 |  8 | 1 | 3 |  4 | 3 | 7 | 1 | benign    |\n",
       "| 5 | 4 |  1 |  1 | 3 | 2 |  1 | 3 | 1 | 1 | benign    |\n",
       "| 6 | 8 | 10 | 10 | 8 | 7 | 10 | 9 | 7 | 1 | malignant |\n",
       "\n"
      ],
      "text/plain": [
       "  Cl.thickness Cell.size Cell.shape Marg.adhesion Epith.c.size Bare.nuclei\n",
       "1 5             1         1         1             2             1         \n",
       "2 5             4         4         5             7            10         \n",
       "3 3             1         1         1             2             2         \n",
       "4 6             8         8         1             3             4         \n",
       "5 4             1         1         3             2             1         \n",
       "6 8            10        10         8             7            10         \n",
       "  Bl.cromatin Normal.nucleoli Mitoses Class    \n",
       "1 3           1               1       benign   \n",
       "2 3           2               1       benign   \n",
       "3 3           1               1       benign   \n",
       "4 3           7               1       benign   \n",
       "5 3           1               1       benign   \n",
       "6 9           7               1       malignant"
      ]
     },
     "metadata": {},
     "output_type": "display_data"
    }
   ],
   "source": [
    "#carregamento dos dados\n",
    "\n",
    "dados <- read.csv(\"databases/1 - Cancer de Mama - Dados.csv\")\n",
    "\n",
    "dados$Id <- NULL\n",
    "head(dados)"
   ]
  },
  {
   "cell_type": "code",
   "execution_count": 23,
   "metadata": {
    "vscode": {
     "languageId": "r"
    }
   },
   "outputs": [],
   "source": [
    "#separação em base de teste e treino\n",
    "set.seed(2034)\n",
    "indices <- createDataPartition(dados$Class, p = 0.8, list = FALSE)\n",
    "\n",
    "treino <- dados[indices, ]\n",
    "teste <- dados[-indices, ]"
   ]
  },
  {
   "cell_type": "code",
   "execution_count": 24,
   "metadata": {
    "vscode": {
     "languageId": "r"
    }
   },
   "outputs": [
    {
     "data": {
      "text/plain": [
       "Random Forest \n",
       "\n",
       "560 samples\n",
       "  9 predictor\n",
       "  2 classes: 'benign', 'malignant' \n",
       "\n",
       "No pre-processing\n",
       "Resampling: Bootstrapped (25 reps) \n",
       "Summary of sample sizes: 560, 560, 560, 560, 560, 560, ... \n",
       "Resampling results across tuning parameters:\n",
       "\n",
       "  mtry  Accuracy   Kappa    \n",
       "  2     0.9652311  0.9227391\n",
       "  5     0.9600717  0.9107838\n",
       "  9     0.9548117  0.8990943\n",
       "\n",
       "Accuracy was used to select the optimal model using the largest value.\n",
       "The final value used for the model was mtry = 2."
      ]
     },
     "metadata": {},
     "output_type": "display_data"
    }
   ],
   "source": [
    "# treinando o modelo\n",
    "set.seed(2034)\n",
    "rf <- train(Class ~ ., data = treino, method = \"rf\")\n",
    "rf"
   ]
  },
  {
   "cell_type": "code",
   "execution_count": 25,
   "metadata": {
    "vscode": {
     "languageId": "r"
    }
   },
   "outputs": [
    {
     "data": {
      "text/plain": [
       "Confusion Matrix and Statistics\n",
       "\n",
       "           Reference\n",
       "Prediction  benign malignant\n",
       "  benign        87         2\n",
       "  malignant      4        46\n",
       "                                         \n",
       "               Accuracy : 0.9568         \n",
       "                 95% CI : (0.9084, 0.984)\n",
       "    No Information Rate : 0.6547         \n",
       "    P-Value [Acc > NIR] : <2e-16         \n",
       "                                         \n",
       "                  Kappa : 0.9055         \n",
       "                                         \n",
       " Mcnemar's Test P-Value : 0.6831         \n",
       "                                         \n",
       "            Sensitivity : 0.9560         \n",
       "            Specificity : 0.9583         \n",
       "         Pos Pred Value : 0.9775         \n",
       "         Neg Pred Value : 0.9200         \n",
       "             Prevalence : 0.6547         \n",
       "         Detection Rate : 0.6259         \n",
       "   Detection Prevalence : 0.6403         \n",
       "      Balanced Accuracy : 0.9572         \n",
       "                                         \n",
       "       'Positive' Class : benign         \n",
       "                                         "
      ]
     },
     "metadata": {},
     "output_type": "display_data"
    }
   ],
   "source": [
    "# aplicando na base de teste\n",
    "predict_rf <- predict(rf, teste)\n",
    "confusionMatrix(predict_rf, as.factor(teste$Class))"
   ]
  },
  {
   "cell_type": "code",
   "execution_count": 26,
   "metadata": {
    "vscode": {
     "languageId": "r"
    }
   },
   "outputs": [
    {
     "data": {
      "text/plain": [
       "Random Forest \n",
       "\n",
       "560 samples\n",
       "  9 predictor\n",
       "  2 classes: 'benign', 'malignant' \n",
       "\n",
       "No pre-processing\n",
       "Resampling: Cross-Validated (10 fold) \n",
       "Summary of sample sizes: 504, 504, 504, 504, 503, 505, ... \n",
       "Resampling results across tuning parameters:\n",
       "\n",
       "  mtry  Accuracy   Kappa    \n",
       "  2     0.9696104  0.9332907\n",
       "  5     0.9624675  0.9168661\n",
       "  9     0.9607131  0.9129578\n",
       "\n",
       "Accuracy was used to select the optimal model using the largest value.\n",
       "The final value used for the model was mtry = 2."
      ]
     },
     "metadata": {},
     "output_type": "display_data"
    },
    {
     "data": {
      "text/plain": [
       "Confusion Matrix and Statistics\n",
       "\n",
       "           Reference\n",
       "Prediction  benign malignant\n",
       "  benign        87         2\n",
       "  malignant      4        46\n",
       "                                         \n",
       "               Accuracy : 0.9568         \n",
       "                 95% CI : (0.9084, 0.984)\n",
       "    No Information Rate : 0.6547         \n",
       "    P-Value [Acc > NIR] : <2e-16         \n",
       "                                         \n",
       "                  Kappa : 0.9055         \n",
       "                                         \n",
       " Mcnemar's Test P-Value : 0.6831         \n",
       "                                         \n",
       "            Sensitivity : 0.9560         \n",
       "            Specificity : 0.9583         \n",
       "         Pos Pred Value : 0.9775         \n",
       "         Neg Pred Value : 0.9200         \n",
       "             Prevalence : 0.6547         \n",
       "         Detection Rate : 0.6259         \n",
       "   Detection Prevalence : 0.6403         \n",
       "      Balanced Accuracy : 0.9572         \n",
       "                                         \n",
       "       'Positive' Class : benign         \n",
       "                                         "
      ]
     },
     "metadata": {},
     "output_type": "display_data"
    }
   ],
   "source": [
    "#aplicando cross-validation\n",
    "ctrl <- trainControl(method = \"cv\", number = 10)\n",
    "\n",
    "set.seed(2034)\n",
    "rf <- train(Class ~ ., data =  treino, method = \"rf\", trControl = ctrl)\n",
    "rf\n",
    "\n",
    "#experimentando na base de teste\n",
    "predict_rf <- predict(rf, teste)\n",
    "confusionMatrix(predict_rf, as.factor(teste$Class))"
   ]
  },
  {
   "cell_type": "code",
   "execution_count": 27,
   "metadata": {
    "vscode": {
     "languageId": "r"
    }
   },
   "outputs": [
    {
     "data": {
      "text/plain": [
       "Random Forest \n",
       "\n",
       "560 samples\n",
       "  9 predictor\n",
       "  2 classes: 'benign', 'malignant' \n",
       "\n",
       "No pre-processing\n",
       "Resampling: Cross-Validated (10 fold) \n",
       "Summary of sample sizes: 504, 504, 504, 504, 503, 505, ... \n",
       "Resampling results across tuning parameters:\n",
       "\n",
       "  mtry  Accuracy   Kappa    \n",
       "  2     0.9713961  0.9373253\n",
       "  5     0.9678247  0.9290894\n",
       "  7     0.9624989  0.9168904\n",
       "  9     0.9642846  0.9209236\n",
       "\n",
       "Accuracy was used to select the optimal model using the largest value.\n",
       "The final value used for the model was mtry = 2."
      ]
     },
     "metadata": {},
     "output_type": "display_data"
    },
    {
     "data": {
      "text/plain": [
       "Confusion Matrix and Statistics\n",
       "\n",
       "           Reference\n",
       "Prediction  benign malignant\n",
       "  benign        87         1\n",
       "  malignant      4        47\n",
       "                                          \n",
       "               Accuracy : 0.964           \n",
       "                 95% CI : (0.9181, 0.9882)\n",
       "    No Information Rate : 0.6547          \n",
       "    P-Value [Acc > NIR] : <2e-16          \n",
       "                                          \n",
       "                  Kappa : 0.9216          \n",
       "                                          \n",
       " Mcnemar's Test P-Value : 0.3711          \n",
       "                                          \n",
       "            Sensitivity : 0.9560          \n",
       "            Specificity : 0.9792          \n",
       "         Pos Pred Value : 0.9886          \n",
       "         Neg Pred Value : 0.9216          \n",
       "             Prevalence : 0.6547          \n",
       "         Detection Rate : 0.6259          \n",
       "   Detection Prevalence : 0.6331          \n",
       "      Balanced Accuracy : 0.9676          \n",
       "                                          \n",
       "       'Positive' Class : benign          \n",
       "                                          "
      ]
     },
     "metadata": {},
     "output_type": "display_data"
    }
   ],
   "source": [
    "#experimentando com outros valores de mtry\n",
    "tune_grid <- expand.grid(mtry = c(2, 5, 7, 9))\n",
    "\n",
    "set.seed(2034)\n",
    "rf <- train(Class ~ ., data = treino, method = \"rf\", trControl = ctrl, tuneGrid = tune_grid)\n",
    "rf\n",
    "\n",
    "#experimentando novo modelo na base de teste\n",
    "predict_rf <- predict(rf, teste)\n",
    "confusionMatrix(predict_rf, as.factor(teste$Class))"
   ]
  },
  {
   "cell_type": "code",
   "execution_count": 28,
   "metadata": {
    "vscode": {
     "languageId": "r"
    }
   },
   "outputs": [
    {
     "data": {
      "text/html": [
       "<table class=\"dataframe\">\n",
       "<caption>A data.frame: 3 × 9</caption>\n",
       "<thead>\n",
       "\t<tr><th scope=col>Cl.thickness</th><th scope=col>Cell.size</th><th scope=col>Cell.shape</th><th scope=col>Marg.adhesion</th><th scope=col>Epith.c.size</th><th scope=col>Bare.nuclei</th><th scope=col>Bl.cromatin</th><th scope=col>Normal.nucleoli</th><th scope=col>Mitoses</th></tr>\n",
       "\t<tr><th scope=col>&lt;dbl&gt;</th><th scope=col>&lt;dbl&gt;</th><th scope=col>&lt;dbl&gt;</th><th scope=col>&lt;dbl&gt;</th><th scope=col>&lt;dbl&gt;</th><th scope=col>&lt;dbl&gt;</th><th scope=col>&lt;dbl&gt;</th><th scope=col>&lt;dbl&gt;</th><th scope=col>&lt;dbl&gt;</th></tr>\n",
       "</thead>\n",
       "<tbody>\n",
       "\t<tr><td>2</td><td>1</td><td>5</td><td>1</td><td>7</td><td>1</td><td>3</td><td>10</td><td>5</td></tr>\n",
       "\t<tr><td>2</td><td>3</td><td>4</td><td>5</td><td>3</td><td>1</td><td>3</td><td> 2</td><td>1</td></tr>\n",
       "\t<tr><td>7</td><td>1</td><td>1</td><td>5</td><td>2</td><td>2</td><td>2</td><td> 1</td><td>1</td></tr>\n",
       "</tbody>\n",
       "</table>\n"
      ],
      "text/latex": [
       "A data.frame: 3 × 9\n",
       "\\begin{tabular}{lllllllll}\n",
       " Cl.thickness & Cell.size & Cell.shape & Marg.adhesion & Epith.c.size & Bare.nuclei & Bl.cromatin & Normal.nucleoli & Mitoses\\\\\n",
       " <dbl> & <dbl> & <dbl> & <dbl> & <dbl> & <dbl> & <dbl> & <dbl> & <dbl>\\\\\n",
       "\\hline\n",
       "\t 2 & 1 & 5 & 1 & 7 & 1 & 3 & 10 & 5\\\\\n",
       "\t 2 & 3 & 4 & 5 & 3 & 1 & 3 &  2 & 1\\\\\n",
       "\t 7 & 1 & 1 & 5 & 2 & 2 & 2 &  1 & 1\\\\\n",
       "\\end{tabular}\n"
      ],
      "text/markdown": [
       "\n",
       "A data.frame: 3 × 9\n",
       "\n",
       "| Cl.thickness &lt;dbl&gt; | Cell.size &lt;dbl&gt; | Cell.shape &lt;dbl&gt; | Marg.adhesion &lt;dbl&gt; | Epith.c.size &lt;dbl&gt; | Bare.nuclei &lt;dbl&gt; | Bl.cromatin &lt;dbl&gt; | Normal.nucleoli &lt;dbl&gt; | Mitoses &lt;dbl&gt; |\n",
       "|---|---|---|---|---|---|---|---|---|\n",
       "| 2 | 1 | 5 | 1 | 7 | 1 | 3 | 10 | 5 |\n",
       "| 2 | 3 | 4 | 5 | 3 | 1 | 3 |  2 | 1 |\n",
       "| 7 | 1 | 1 | 5 | 2 | 2 | 2 |  1 | 1 |\n",
       "\n"
      ],
      "text/plain": [
       "  Cl.thickness Cell.size Cell.shape Marg.adhesion Epith.c.size Bare.nuclei\n",
       "1 2            1         5          1             7            1          \n",
       "2 2            3         4          5             3            1          \n",
       "3 7            1         1          5             2            2          \n",
       "  Bl.cromatin Normal.nucleoli Mitoses\n",
       "1 3           10              5      \n",
       "2 3            2              1      \n",
       "3 2            1              1      "
      ]
     },
     "metadata": {},
     "output_type": "display_data"
    },
    {
     "data": {
      "text/html": [
       "<table class=\"dataframe\">\n",
       "<caption>A data.frame: 3 × 10</caption>\n",
       "<thead>\n",
       "\t<tr><th scope=col>Cl.thickness</th><th scope=col>Cell.size</th><th scope=col>Cell.shape</th><th scope=col>Marg.adhesion</th><th scope=col>Epith.c.size</th><th scope=col>Bare.nuclei</th><th scope=col>Bl.cromatin</th><th scope=col>Normal.nucleoli</th><th scope=col>Mitoses</th><th scope=col>predict_rf</th></tr>\n",
       "\t<tr><th scope=col>&lt;dbl&gt;</th><th scope=col>&lt;dbl&gt;</th><th scope=col>&lt;dbl&gt;</th><th scope=col>&lt;dbl&gt;</th><th scope=col>&lt;dbl&gt;</th><th scope=col>&lt;dbl&gt;</th><th scope=col>&lt;dbl&gt;</th><th scope=col>&lt;dbl&gt;</th><th scope=col>&lt;dbl&gt;</th><th scope=col>&lt;fct&gt;</th></tr>\n",
       "</thead>\n",
       "<tbody>\n",
       "\t<tr><td>2</td><td>1</td><td>5</td><td>1</td><td>7</td><td>1</td><td>3</td><td>10</td><td>5</td><td>benign</td></tr>\n",
       "\t<tr><td>2</td><td>3</td><td>4</td><td>5</td><td>3</td><td>1</td><td>3</td><td> 2</td><td>1</td><td>benign</td></tr>\n",
       "\t<tr><td>7</td><td>1</td><td>1</td><td>5</td><td>2</td><td>2</td><td>2</td><td> 1</td><td>1</td><td>benign</td></tr>\n",
       "</tbody>\n",
       "</table>\n"
      ],
      "text/latex": [
       "A data.frame: 3 × 10\n",
       "\\begin{tabular}{llllllllll}\n",
       " Cl.thickness & Cell.size & Cell.shape & Marg.adhesion & Epith.c.size & Bare.nuclei & Bl.cromatin & Normal.nucleoli & Mitoses & predict\\_rf\\\\\n",
       " <dbl> & <dbl> & <dbl> & <dbl> & <dbl> & <dbl> & <dbl> & <dbl> & <dbl> & <fct>\\\\\n",
       "\\hline\n",
       "\t 2 & 1 & 5 & 1 & 7 & 1 & 3 & 10 & 5 & benign\\\\\n",
       "\t 2 & 3 & 4 & 5 & 3 & 1 & 3 &  2 & 1 & benign\\\\\n",
       "\t 7 & 1 & 1 & 5 & 2 & 2 & 2 &  1 & 1 & benign\\\\\n",
       "\\end{tabular}\n"
      ],
      "text/markdown": [
       "\n",
       "A data.frame: 3 × 10\n",
       "\n",
       "| Cl.thickness &lt;dbl&gt; | Cell.size &lt;dbl&gt; | Cell.shape &lt;dbl&gt; | Marg.adhesion &lt;dbl&gt; | Epith.c.size &lt;dbl&gt; | Bare.nuclei &lt;dbl&gt; | Bl.cromatin &lt;dbl&gt; | Normal.nucleoli &lt;dbl&gt; | Mitoses &lt;dbl&gt; | predict_rf &lt;fct&gt; |\n",
       "|---|---|---|---|---|---|---|---|---|---|\n",
       "| 2 | 1 | 5 | 1 | 7 | 1 | 3 | 10 | 5 | benign |\n",
       "| 2 | 3 | 4 | 5 | 3 | 1 | 3 |  2 | 1 | benign |\n",
       "| 7 | 1 | 1 | 5 | 2 | 2 | 2 |  1 | 1 | benign |\n",
       "\n"
      ],
      "text/plain": [
       "  Cl.thickness Cell.size Cell.shape Marg.adhesion Epith.c.size Bare.nuclei\n",
       "1 2            1         5          1             7            1          \n",
       "2 2            3         4          5             3            1          \n",
       "3 7            1         1          5             2            2          \n",
       "  Bl.cromatin Normal.nucleoli Mitoses predict_rf\n",
       "1 3           10              5       benign    \n",
       "2 3            2              1       benign    \n",
       "3 2            1              1       benign    "
      ]
     },
     "metadata": {},
     "output_type": "display_data"
    }
   ],
   "source": [
    "# predicao de novos casos\n",
    "dados_novos_casos <- read.csv(\"databases/1 - Cancer de Mama - Dados - Novos Casos.csv\")\n",
    "\n",
    "dados_novos_casos$Id <- NULL\n",
    "dados_novos_casos$Class <- NULL\n",
    "View(dados_novos_casos)\n",
    "predict_rf <- predict(rf, dados_novos_casos)\n",
    "resultado <- cbind(dados_novos_casos, predict_rf)\n",
    "View(resultado)"
   ]
  }
 ],
 "metadata": {
  "kernelspec": {
   "display_name": "R",
   "language": "R",
   "name": "ir"
  },
  "language_info": {
   "codemirror_mode": "r",
   "file_extension": ".r",
   "mimetype": "text/x-r-source",
   "name": "R",
   "pygments_lexer": "r",
   "version": "4.4.1"
  }
 },
 "nbformat": 4,
 "nbformat_minor": 2
}
