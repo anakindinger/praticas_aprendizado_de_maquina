{
 "cells": [
  {
   "cell_type": "code",
   "execution_count": 5,
   "metadata": {
    "vscode": {
     "languageId": "r"
    }
   },
   "outputs": [
    {
     "name": "stderr",
     "output_type": "stream",
     "text": [
      "\n",
      "Anexando pacote: 'Metrics'\n",
      "\n",
      "\n",
      "Os seguintes objetos são mascarados por 'package:caret':\n",
      "\n",
      "    precision, recall\n",
      "\n",
      "\n"
     ]
    }
   ],
   "source": [
    "#pacotes necessarios\n",
    "#install.packages(\"e1071\") \n",
    "#install.packages(\"caret\")\n",
    "#install.packages(\"randomForest\")\n",
    "#install.packages(\"Metrics\")\n",
    "library(\"caret\")\n",
    "library(\"randomForest\")\n",
    "library(\"Metrics\")"
   ]
  },
  {
   "cell_type": "code",
   "execution_count": 1,
   "metadata": {
    "vscode": {
     "languageId": "r"
    }
   },
   "outputs": [
    {
     "data": {
      "text/html": [
       "<table class=\"dataframe\">\n",
       "<caption>A data.frame: 6 × 6</caption>\n",
       "<thead>\n",
       "\t<tr><th></th><th scope=col>PROJETO</th><th scope=col>CLONE</th><th scope=col>Idade</th><th scope=col>Hdom</th><th scope=col>AreaBasal</th><th scope=col>Volume</th></tr>\n",
       "\t<tr><th></th><th scope=col>&lt;chr&gt;</th><th scope=col>&lt;chr&gt;</th><th scope=col>&lt;dbl&gt;</th><th scope=col>&lt;dbl&gt;</th><th scope=col>&lt;dbl&gt;</th><th scope=col>&lt;dbl&gt;</th></tr>\n",
       "</thead>\n",
       "<tbody>\n",
       "\t<tr><th scope=row>1</th><td>Fazenda Velha</td><td>C3</td><td>21.5</td><td> 8.8</td><td>3.2</td><td>12.1</td></tr>\n",
       "\t<tr><th scope=row>2</th><td>Fazenda Velha</td><td>A3</td><td>21.9</td><td>10.2</td><td>3.9</td><td>66.8</td></tr>\n",
       "\t<tr><th scope=row>3</th><td>Fazenda Velha</td><td>A3</td><td>26.1</td><td>10.1</td><td>4.2</td><td>72.1</td></tr>\n",
       "\t<tr><th scope=row>4</th><td>Fazenda Velha</td><td>A4</td><td>22.0</td><td>10.0</td><td>4.2</td><td>35.9</td></tr>\n",
       "\t<tr><th scope=row>5</th><td>Parada       </td><td>B7</td><td>23.4</td><td>15.3</td><td>4.3</td><td>44.5</td></tr>\n",
       "\t<tr><th scope=row>6</th><td>Fazenda Velha</td><td>A2</td><td>25.9</td><td>10.5</td><td>4.4</td><td>63.9</td></tr>\n",
       "</tbody>\n",
       "</table>\n"
      ],
      "text/latex": [
       "A data.frame: 6 × 6\n",
       "\\begin{tabular}{r|llllll}\n",
       "  & PROJETO & CLONE & Idade & Hdom & AreaBasal & Volume\\\\\n",
       "  & <chr> & <chr> & <dbl> & <dbl> & <dbl> & <dbl>\\\\\n",
       "\\hline\n",
       "\t1 & Fazenda Velha & C3 & 21.5 &  8.8 & 3.2 & 12.1\\\\\n",
       "\t2 & Fazenda Velha & A3 & 21.9 & 10.2 & 3.9 & 66.8\\\\\n",
       "\t3 & Fazenda Velha & A3 & 26.1 & 10.1 & 4.2 & 72.1\\\\\n",
       "\t4 & Fazenda Velha & A4 & 22.0 & 10.0 & 4.2 & 35.9\\\\\n",
       "\t5 & Parada        & B7 & 23.4 & 15.3 & 4.3 & 44.5\\\\\n",
       "\t6 & Fazenda Velha & A2 & 25.9 & 10.5 & 4.4 & 63.9\\\\\n",
       "\\end{tabular}\n"
      ],
      "text/markdown": [
       "\n",
       "A data.frame: 6 × 6\n",
       "\n",
       "| <!--/--> | PROJETO &lt;chr&gt; | CLONE &lt;chr&gt; | Idade &lt;dbl&gt; | Hdom &lt;dbl&gt; | AreaBasal &lt;dbl&gt; | Volume &lt;dbl&gt; |\n",
       "|---|---|---|---|---|---|---|\n",
       "| 1 | Fazenda Velha | C3 | 21.5 |  8.8 | 3.2 | 12.1 |\n",
       "| 2 | Fazenda Velha | A3 | 21.9 | 10.2 | 3.9 | 66.8 |\n",
       "| 3 | Fazenda Velha | A3 | 26.1 | 10.1 | 4.2 | 72.1 |\n",
       "| 4 | Fazenda Velha | A4 | 22.0 | 10.0 | 4.2 | 35.9 |\n",
       "| 5 | Parada        | B7 | 23.4 | 15.3 | 4.3 | 44.5 |\n",
       "| 6 | Fazenda Velha | A2 | 25.9 | 10.5 | 4.4 | 63.9 |\n",
       "\n"
      ],
      "text/plain": [
       "  PROJETO       CLONE Idade Hdom AreaBasal Volume\n",
       "1 Fazenda Velha C3    21.5   8.8 3.2       12.1  \n",
       "2 Fazenda Velha A3    21.9  10.2 3.9       66.8  \n",
       "3 Fazenda Velha A3    26.1  10.1 4.2       72.1  \n",
       "4 Fazenda Velha A4    22.0  10.0 4.2       35.9  \n",
       "5 Parada        B7    23.4  15.3 4.3       44.5  \n",
       "6 Fazenda Velha A2    25.9  10.5 4.4       63.9  "
      ]
     },
     "metadata": {},
     "output_type": "display_data"
    }
   ],
   "source": [
    "# carregamento da base\n",
    "dados <- read.csv(\"databases/2 - Volume - Dados.csv\")\n",
    "head(dados)"
   ]
  },
  {
   "cell_type": "code",
   "execution_count": 4,
   "metadata": {
    "vscode": {
     "languageId": "r"
    }
   },
   "outputs": [],
   "source": [
    "#separacao da base em treino e teste\n",
    "set.seed(2034)\n",
    "indices <- createDataPartition(dados$Volume, p = 0.8, list = FALSE)\n",
    "\n",
    "treino <- dados[indices, ]\n",
    "teste <- dados[-indices, ]"
   ]
  },
  {
   "cell_type": "code",
   "execution_count": 8,
   "metadata": {
    "vscode": {
     "languageId": "r"
    }
   },
   "outputs": [
    {
     "data": {
      "text/plain": [
       "Random Forest \n",
       "\n",
       "246 samples\n",
       "  5 predictor\n",
       "\n",
       "No pre-processing\n",
       "Resampling: Bootstrapped (25 reps) \n",
       "Summary of sample sizes: 246, 246, 246, 246, 246, 246, ... \n",
       "Resampling results across tuning parameters:\n",
       "\n",
       "  mtry  RMSE      Rsquared   MAE     \n",
       "   2    53.49488  0.9467127  43.24763\n",
       "   6    43.09511  0.9533489  33.72283\n",
       "  10    43.15854  0.9522889  32.97885\n",
       "\n",
       "RMSE was used to select the optimal model using the smallest value.\n",
       "The final value used for the model was mtry = 6."
      ]
     },
     "metadata": {},
     "output_type": "display_data"
    },
    {
     "data": {
      "text/html": [
       "30.9459652188669"
      ],
      "text/latex": [
       "30.9459652188669"
      ],
      "text/markdown": [
       "30.9459652188669"
      ],
      "text/plain": [
       "[1] 30.94597"
      ]
     },
     "metadata": {},
     "output_type": "display_data"
    },
    {
     "data": {
      "text/html": [
       "0.974637987061309"
      ],
      "text/latex": [
       "0.974637987061309"
      ],
      "text/markdown": [
       "0.974637987061309"
      ],
      "text/plain": [
       "[1] 0.974638"
      ]
     },
     "metadata": {},
     "output_type": "display_data"
    }
   ],
   "source": [
    "#treinando o modelo\n",
    "set.seed(2034)\n",
    "rf <- train(Volume ~ ., data = treino, method = \"rf\")\n",
    "rf\n",
    "\n",
    "predict_rf <- predict(rf, teste)\n",
    "rmse(teste$Volume, predict_rf)\n",
    "r2 <- function(observado, predito) {\n",
    "  return(1 - (sum((predito - observado)^2)/sum((observado - mean(observado))^2)))\n",
    "}\n",
    "\n",
    "\n",
    "r2(teste$Volume, predict_rf)\n"
   ]
  },
  {
   "cell_type": "code",
   "execution_count": 10,
   "metadata": {
    "vscode": {
     "languageId": "r"
    }
   },
   "outputs": [
    {
     "data": {
      "text/plain": [
       "Random Forest \n",
       "\n",
       "246 samples\n",
       "  5 predictor\n",
       "\n",
       "No pre-processing\n",
       "Resampling: Cross-Validated (10 fold) \n",
       "Summary of sample sizes: 221, 222, 221, 222, 221, 222, ... \n",
       "Resampling results across tuning parameters:\n",
       "\n",
       "  mtry  RMSE      Rsquared   MAE     \n",
       "   2    51.24744  0.9569486  41.65150\n",
       "   6    38.22169  0.9648168  30.13990\n",
       "  10    37.15388  0.9660598  28.46621\n",
       "\n",
       "RMSE was used to select the optimal model using the smallest value.\n",
       "The final value used for the model was mtry = 10."
      ]
     },
     "metadata": {},
     "output_type": "display_data"
    },
    {
     "data": {
      "text/html": [
       "30.4865283792409"
      ],
      "text/latex": [
       "30.4865283792409"
      ],
      "text/markdown": [
       "30.4865283792409"
      ],
      "text/plain": [
       "[1] 30.48653"
      ]
     },
     "metadata": {},
     "output_type": "display_data"
    },
    {
     "data": {
      "text/html": [
       "0.975385467124315"
      ],
      "text/latex": [
       "0.975385467124315"
      ],
      "text/markdown": [
       "0.975385467124315"
      ],
      "text/plain": [
       "[1] 0.9753855"
      ]
     },
     "metadata": {},
     "output_type": "display_data"
    }
   ],
   "source": [
    "#experimento com cross-validation\n",
    "ctrl <- trainControl(method = \"cv\", number = 10)\n",
    "\n",
    "rf <- train(Volume ~ ., data = treino, method = \"rf\", trControl = ctrl)\n",
    "rf\n",
    "\n",
    "predict_rf <- predict(rf, teste)\n",
    "rmse(teste$Volume, predict_rf)\n",
    "r2(teste$Volume, predict_rf)"
   ]
  },
  {
   "cell_type": "code",
   "execution_count": 11,
   "metadata": {
    "vscode": {
     "languageId": "r"
    }
   },
   "outputs": [
    {
     "data": {
      "text/plain": [
       "Random Forest \n",
       "\n",
       "246 samples\n",
       "  5 predictor\n",
       "\n",
       "No pre-processing\n",
       "Resampling: Cross-Validated (10 fold) \n",
       "Summary of sample sizes: 222, 221, 222, 222, 220, 221, ... \n",
       "Resampling results across tuning parameters:\n",
       "\n",
       "  mtry  RMSE      Rsquared   MAE     \n",
       "  2     50.94183  0.9587024  41.83122\n",
       "  5     37.36790  0.9684745  30.37207\n",
       "  7     36.07477  0.9699581  29.10867\n",
       "  9     35.42113  0.9701285  28.05560\n",
       "\n",
       "RMSE was used to select the optimal model using the smallest value.\n",
       "The final value used for the model was mtry = 9."
      ]
     },
     "metadata": {},
     "output_type": "display_data"
    },
    {
     "data": {
      "text/html": [
       "30.843734792758"
      ],
      "text/latex": [
       "30.843734792758"
      ],
      "text/markdown": [
       "30.843734792758"
      ],
      "text/plain": [
       "[1] 30.84373"
      ]
     },
     "metadata": {},
     "output_type": "display_data"
    },
    {
     "data": {
      "text/html": [
       "0.974805277804806"
      ],
      "text/latex": [
       "0.974805277804806"
      ],
      "text/markdown": [
       "0.974805277804806"
      ],
      "text/plain": [
       "[1] 0.9748053"
      ]
     },
     "metadata": {},
     "output_type": "display_data"
    }
   ],
   "source": [
    "#experimentando outros valores de mtry\n",
    "tune_grid <- expand.grid(mtry = c(2, 5, 7, 9))\n",
    "\n",
    "rf <- train(Volume ~ ., data = treino, method = \"rf\", trControl = ctrl, tuneGrid = tune_grid)\n",
    "rf\n",
    "\n",
    "predict_rf <- predict(rf, teste)\n",
    "rmse(teste$Volume, predict_rf)\n",
    "r2(teste$Volume, predict_rf)"
   ]
  },
  {
   "cell_type": "code",
   "execution_count": 12,
   "metadata": {
    "vscode": {
     "languageId": "r"
    }
   },
   "outputs": [
    {
     "data": {
      "text/html": [
       "<table class=\"dataframe\">\n",
       "<caption>A data.frame: 3 × 6</caption>\n",
       "<thead>\n",
       "\t<tr><th scope=col>PROJETO</th><th scope=col>CLONE</th><th scope=col>Idade</th><th scope=col>Hdom</th><th scope=col>AreaBasal</th><th scope=col>Volume</th></tr>\n",
       "\t<tr><th scope=col>&lt;chr&gt;</th><th scope=col>&lt;chr&gt;</th><th scope=col>&lt;dbl&gt;</th><th scope=col>&lt;dbl&gt;</th><th scope=col>&lt;dbl&gt;</th><th scope=col>&lt;chr&gt;</th></tr>\n",
       "</thead>\n",
       "<tbody>\n",
       "\t<tr><td>Parada     </td><td>C3</td><td>21.5</td><td> 8.8</td><td> 4.2</td><td>?</td></tr>\n",
       "\t<tr><td>Santa Maria</td><td>A3</td><td>22.9</td><td>14.1</td><td> 5.6</td><td>?</td></tr>\n",
       "\t<tr><td>Jacutinga  </td><td>A2</td><td>59.4</td><td>22.3</td><td>13.0</td><td>?</td></tr>\n",
       "</tbody>\n",
       "</table>\n"
      ],
      "text/latex": [
       "A data.frame: 3 × 6\n",
       "\\begin{tabular}{llllll}\n",
       " PROJETO & CLONE & Idade & Hdom & AreaBasal & Volume\\\\\n",
       " <chr> & <chr> & <dbl> & <dbl> & <dbl> & <chr>\\\\\n",
       "\\hline\n",
       "\t Parada      & C3 & 21.5 &  8.8 &  4.2 & ?\\\\\n",
       "\t Santa Maria & A3 & 22.9 & 14.1 &  5.6 & ?\\\\\n",
       "\t Jacutinga   & A2 & 59.4 & 22.3 & 13.0 & ?\\\\\n",
       "\\end{tabular}\n"
      ],
      "text/markdown": [
       "\n",
       "A data.frame: 3 × 6\n",
       "\n",
       "| PROJETO &lt;chr&gt; | CLONE &lt;chr&gt; | Idade &lt;dbl&gt; | Hdom &lt;dbl&gt; | AreaBasal &lt;dbl&gt; | Volume &lt;chr&gt; |\n",
       "|---|---|---|---|---|---|\n",
       "| Parada      | C3 | 21.5 |  8.8 |  4.2 | ? |\n",
       "| Santa Maria | A3 | 22.9 | 14.1 |  5.6 | ? |\n",
       "| Jacutinga   | A2 | 59.4 | 22.3 | 13.0 | ? |\n",
       "\n"
      ],
      "text/plain": [
       "  PROJETO     CLONE Idade Hdom AreaBasal Volume\n",
       "1 Parada      C3    21.5   8.8  4.2      ?     \n",
       "2 Santa Maria A3    22.9  14.1  5.6      ?     \n",
       "3 Jacutinga   A2    59.4  22.3 13.0      ?     "
      ]
     },
     "metadata": {},
     "output_type": "display_data"
    },
    {
     "data": {
      "text/html": [
       "<table class=\"dataframe\">\n",
       "<caption>A data.frame: 3 × 6</caption>\n",
       "<thead>\n",
       "\t<tr><th></th><th scope=col>PROJETO</th><th scope=col>CLONE</th><th scope=col>Idade</th><th scope=col>Hdom</th><th scope=col>AreaBasal</th><th scope=col>predict_rf</th></tr>\n",
       "\t<tr><th></th><th scope=col>&lt;chr&gt;</th><th scope=col>&lt;chr&gt;</th><th scope=col>&lt;dbl&gt;</th><th scope=col>&lt;dbl&gt;</th><th scope=col>&lt;dbl&gt;</th><th scope=col>&lt;dbl&gt;</th></tr>\n",
       "</thead>\n",
       "<tbody>\n",
       "\t<tr><th scope=row>1</th><td>Parada     </td><td>C3</td><td>21.5</td><td> 8.8</td><td> 4.2</td><td> 42.58816</td></tr>\n",
       "\t<tr><th scope=row>2</th><td>Santa Maria</td><td>A3</td><td>22.9</td><td>14.1</td><td> 5.6</td><td>108.59594</td></tr>\n",
       "\t<tr><th scope=row>3</th><td>Jacutinga  </td><td>A2</td><td>59.4</td><td>22.3</td><td>13.0</td><td>288.74715</td></tr>\n",
       "</tbody>\n",
       "</table>\n"
      ],
      "text/latex": [
       "A data.frame: 3 × 6\n",
       "\\begin{tabular}{r|llllll}\n",
       "  & PROJETO & CLONE & Idade & Hdom & AreaBasal & predict\\_rf\\\\\n",
       "  & <chr> & <chr> & <dbl> & <dbl> & <dbl> & <dbl>\\\\\n",
       "\\hline\n",
       "\t1 & Parada      & C3 & 21.5 &  8.8 &  4.2 &  42.58816\\\\\n",
       "\t2 & Santa Maria & A3 & 22.9 & 14.1 &  5.6 & 108.59594\\\\\n",
       "\t3 & Jacutinga   & A2 & 59.4 & 22.3 & 13.0 & 288.74715\\\\\n",
       "\\end{tabular}\n"
      ],
      "text/markdown": [
       "\n",
       "A data.frame: 3 × 6\n",
       "\n",
       "| <!--/--> | PROJETO &lt;chr&gt; | CLONE &lt;chr&gt; | Idade &lt;dbl&gt; | Hdom &lt;dbl&gt; | AreaBasal &lt;dbl&gt; | predict_rf &lt;dbl&gt; |\n",
       "|---|---|---|---|---|---|---|\n",
       "| 1 | Parada      | C3 | 21.5 |  8.8 |  4.2 |  42.58816 |\n",
       "| 2 | Santa Maria | A3 | 22.9 | 14.1 |  5.6 | 108.59594 |\n",
       "| 3 | Jacutinga   | A2 | 59.4 | 22.3 | 13.0 | 288.74715 |\n",
       "\n"
      ],
      "text/plain": [
       "  PROJETO     CLONE Idade Hdom AreaBasal predict_rf\n",
       "1 Parada      C3    21.5   8.8  4.2       42.58816 \n",
       "2 Santa Maria A3    22.9  14.1  5.6      108.59594 \n",
       "3 Jacutinga   A2    59.4  22.3 13.0      288.74715 "
      ]
     },
     "metadata": {},
     "output_type": "display_data"
    }
   ],
   "source": [
    "#predicao de novos casos\n",
    "dados_novos_casos <- read.csv(\"databases/2 - Volume - Dados - Novos Casos.csv\")\n",
    "View(dados_novos_casos)\n",
    "\n",
    "dados_novos_casos$Volume <- NULL\n",
    "\n",
    "predict_rf <- predict(rf, dados_novos_casos)\n",
    "\n",
    "resultado <- cbind(dados_novos_casos, predict_rf)\n",
    "View(resultado)"
   ]
  }
 ],
 "metadata": {
  "kernelspec": {
   "display_name": "R",
   "language": "R",
   "name": "ir"
  },
  "language_info": {
   "codemirror_mode": "r",
   "file_extension": ".r",
   "mimetype": "text/x-r-source",
   "name": "R",
   "pygments_lexer": "r",
   "version": "4.4.1"
  }
 },
 "nbformat": 4,
 "nbformat_minor": 2
}
